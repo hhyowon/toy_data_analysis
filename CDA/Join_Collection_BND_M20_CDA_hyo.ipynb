{
 "cells": [
  {
   "cell_type": "code",
   "execution_count": 1,
   "id": "7149c394-1d09-4bea-87e8-154bb8037b4e",
   "metadata": {},
   "outputs": [],
   "source": [
    "import matplotlib.pyplot as plt\n",
    "import matplotlib as mpl \n",
    "mpl.rc('font',family='Malgun Gothic')\n",
    "import seaborn as sns\n",
    "import pandas as pd\n",
    "import numpy as np\n",
    "import scipy.stats as stats"
   ]
  },
  {
   "cell_type": "code",
   "execution_count": 2,
   "id": "8caacf59-7354-4cac-9142-e9c9aaff8bd7",
   "metadata": {
    "tags": []
   },
   "outputs": [
    {
     "data": {
      "text/plain": [
       "Index(['Unnamed: 0', 'MDCARE_STRT_DT', 'BTH_YYYY', 'OFIJ_TYPE',\n",
       "       'MCARE_SUBJ_CD', 'OPRTN_YN', 'ED_RC_TOT_AMT'],\n",
       "      dtype='object')"
      ]
     },
     "execution_count": 2,
     "metadata": {},
     "output_type": "execute_result"
    }
   ],
   "source": [
    "df_I10= pd.read_csv('../datasets/Join_Collection_NSC2_BND_M20.csv')\n",
    "df_I10.columns"
   ]
  },
  {
   "cell_type": "code",
   "execution_count": 3,
   "id": "6cd5e194-0a47-4549-9e1d-4e855b9dcb84",
   "metadata": {
    "tags": []
   },
   "outputs": [
    {
     "data": {
      "text/html": [
       "<div>\n",
       "<style scoped>\n",
       "    .dataframe tbody tr th:only-of-type {\n",
       "        vertical-align: middle;\n",
       "    }\n",
       "\n",
       "    .dataframe tbody tr th {\n",
       "        vertical-align: top;\n",
       "    }\n",
       "\n",
       "    .dataframe thead th {\n",
       "        text-align: right;\n",
       "    }\n",
       "</style>\n",
       "<table border=\"1\" class=\"dataframe\">\n",
       "  <thead>\n",
       "    <tr style=\"text-align: right;\">\n",
       "      <th></th>\n",
       "      <th>MDCARE_STRT_DT</th>\n",
       "      <th>BTH_YYYY</th>\n",
       "      <th>OPRTN_YN</th>\n",
       "      <th>OFIJ_TYPE</th>\n",
       "    </tr>\n",
       "  </thead>\n",
       "  <tbody>\n",
       "    <tr>\n",
       "      <th>0</th>\n",
       "      <td>20020710</td>\n",
       "      <td>1921LE</td>\n",
       "      <td>0</td>\n",
       "      <td>0</td>\n",
       "    </tr>\n",
       "    <tr>\n",
       "      <th>1</th>\n",
       "      <td>20020805</td>\n",
       "      <td>1921LE</td>\n",
       "      <td>0</td>\n",
       "      <td>0</td>\n",
       "    </tr>\n",
       "    <tr>\n",
       "      <th>2</th>\n",
       "      <td>20021017</td>\n",
       "      <td>1921LE</td>\n",
       "      <td>0</td>\n",
       "      <td>0</td>\n",
       "    </tr>\n",
       "    <tr>\n",
       "      <th>3</th>\n",
       "      <td>20071008</td>\n",
       "      <td>1921LE</td>\n",
       "      <td>0</td>\n",
       "      <td>0</td>\n",
       "    </tr>\n",
       "    <tr>\n",
       "      <th>4</th>\n",
       "      <td>20040312</td>\n",
       "      <td>1921LE</td>\n",
       "      <td>0</td>\n",
       "      <td>0</td>\n",
       "    </tr>\n",
       "    <tr>\n",
       "      <th>...</th>\n",
       "      <td>...</td>\n",
       "      <td>...</td>\n",
       "      <td>...</td>\n",
       "      <td>...</td>\n",
       "    </tr>\n",
       "    <tr>\n",
       "      <th>4624</th>\n",
       "      <td>20051220</td>\n",
       "      <td>2005</td>\n",
       "      <td>0</td>\n",
       "      <td>0</td>\n",
       "    </tr>\n",
       "    <tr>\n",
       "      <th>4625</th>\n",
       "      <td>20050614</td>\n",
       "      <td>2005</td>\n",
       "      <td>0</td>\n",
       "      <td>0</td>\n",
       "    </tr>\n",
       "    <tr>\n",
       "      <th>4626</th>\n",
       "      <td>20050716</td>\n",
       "      <td>2005</td>\n",
       "      <td>0</td>\n",
       "      <td>0</td>\n",
       "    </tr>\n",
       "    <tr>\n",
       "      <th>4627</th>\n",
       "      <td>20060123</td>\n",
       "      <td>2005</td>\n",
       "      <td>0</td>\n",
       "      <td>0</td>\n",
       "    </tr>\n",
       "    <tr>\n",
       "      <th>4628</th>\n",
       "      <td>20101125</td>\n",
       "      <td>2005</td>\n",
       "      <td>0</td>\n",
       "      <td>0</td>\n",
       "    </tr>\n",
       "  </tbody>\n",
       "</table>\n",
       "<p>4629 rows × 4 columns</p>\n",
       "</div>"
      ],
      "text/plain": [
       "      MDCARE_STRT_DT BTH_YYYY  OPRTN_YN OFIJ_TYPE\n",
       "0           20020710   1921LE         0         0\n",
       "1           20020805   1921LE         0         0\n",
       "2           20021017   1921LE         0         0\n",
       "3           20071008   1921LE         0         0\n",
       "4           20040312   1921LE         0         0\n",
       "...              ...      ...       ...       ...\n",
       "4624        20051220     2005         0         0\n",
       "4625        20050614     2005         0         0\n",
       "4626        20050716     2005         0         0\n",
       "4627        20060123     2005         0         0\n",
       "4628        20101125     2005         0         0\n",
       "\n",
       "[4629 rows x 4 columns]"
      ]
     },
     "execution_count": 3,
     "metadata": {},
     "output_type": "execute_result"
    }
   ],
   "source": [
    "df_I10_h = df_I10[['MDCARE_STRT_DT','BTH_YYYY','OPRTN_YN','OFIJ_TYPE']]\n",
    "df_I10_h  #분석할 컬럼들만 추출"
   ]
  },
  {
   "cell_type": "markdown",
   "id": "343dc3ec-004f-40b1-850b-8dcc5179800c",
   "metadata": {},
   "source": [
    "## 목표변수 검증\n",
    "\n",
    "Y : 연속형 : 단일 변수에 대한 정규성 여부 판단\n",
    "\n",
    "    - 검증 갯수 따른 방법 선택 (레코드 갯수)\n",
    "        - 5천개보다 이하 : shapiro normality test\n",
    "        - 5천개보다 이상 : Anderson normality test\n",
    "\n",
    "선정 변수: MDCARE_STRT_DT(요양개시일자)\n",
    "    \n",
    "    - 분석 내용 : MDCARE_STRT_DT(요양개시일자)가 정규 분포를 따르는가?\n",
    "        - 귀무가설 : MDCARE_STRT_DT(요양개시일자)가 정규 분포이다.\n",
    "        - 대립가설 : MDCARE_STRT_DT(요양개시일자)가 정규 분포가 아니다.\n",
    "\n",
    "    - 분석결론 (기준:p-value 0.05) / P.value < 0.05 : 대립 참\n",
    "        - 통계 결론 : pvalue=0.0이므로 대립가설 참\n",
    "        - 사실 결론 : MDCARE_STRT_DT(요양개시일자)가 정규 분포가 아니다."
   ]
  },
  {
   "cell_type": "markdown",
   "id": "6298d699-f3a9-4b03-b937-3f08c84af235",
   "metadata": {
    "tags": []
   },
   "source": [
    "## 설명변수 검증\n",
    "- OFIJ_TYPE(공상 등 구분) - 범주형\n",
    "- OPRTN_YN(수술여부) - 범주형 \n",
    "- BTH_YYYY(출생년도) - 연속형 "
   ]
  },
  {
   "cell_type": "code",
   "execution_count": 10,
   "id": "ce887b06-03ce-46c2-baf0-c161b2f7f5a8",
   "metadata": {
    "tags": []
   },
   "outputs": [
    {
     "name": "stderr",
     "output_type": "stream",
     "text": [
      "C:\\Users\\04-04\\AppData\\Local\\Temp\\ipykernel_11916\\2225468283.py:2: SettingWithCopyWarning: \n",
      "A value is trying to be set on a copy of a slice from a DataFrame.\n",
      "Try using .loc[row_indexer,col_indexer] = value instead\n",
      "\n",
      "See the caveats in the documentation: https://pandas.pydata.org/pandas-docs/stable/user_guide/indexing.html#returning-a-view-versus-a-copy\n",
      "  df_I10_h[\"BTH_YYYY\"] = df_I10_h[\"BTH_YYYY\"].astype(int)\n"
     ]
    }
   ],
   "source": [
    "df_I10_h = df_I10_h[~df_I10_h[\"BTH_YYYY\"].str.contains(\"1921LE\", case=False)] #LE 있는 데이터 삭제\n",
    "df_I10_h[\"BTH_YYYY\"] = df_I10_h[\"BTH_YYYY\"].astype(int)"
   ]
  },
  {
   "cell_type": "code",
   "execution_count": 11,
   "id": "a84a0745-73bd-4353-b533-d2fda2b3d07c",
   "metadata": {
    "tags": []
   },
   "outputs": [
    {
     "name": "stderr",
     "output_type": "stream",
     "text": [
      "C:\\Users\\04-04\\AppData\\Local\\Temp\\ipykernel_11916\\1581453411.py:1: SettingWithCopyWarning: \n",
      "A value is trying to be set on a copy of a slice from a DataFrame.\n",
      "Try using .loc[row_indexer,col_indexer] = value instead\n",
      "\n",
      "See the caveats in the documentation: https://pandas.pydata.org/pandas-docs/stable/user_guide/indexing.html#returning-a-view-versus-a-copy\n",
      "  df_I10_h[\"OPRTN_YN\"] = df_I10_h[\"OPRTN_YN\"].astype(object)\n"
     ]
    }
   ],
   "source": [
    "df_I10_h[\"OPRTN_YN\"] = df_I10_h[\"OPRTN_YN\"].astype(object)"
   ]
  },
  {
   "cell_type": "code",
   "execution_count": 12,
   "id": "fd830d25-a863-44e5-b7f5-91ae8203b876",
   "metadata": {
    "tags": []
   },
   "outputs": [
    {
     "name": "stdout",
     "output_type": "stream",
     "text": [
      "<class 'pandas.core.frame.DataFrame'>\n",
      "Int64Index: 4618 entries, 11 to 4628\n",
      "Data columns (total 4 columns):\n",
      " #   Column          Non-Null Count  Dtype \n",
      "---  ------          --------------  ----- \n",
      " 0   MDCARE_STRT_DT  4618 non-null   int64 \n",
      " 1   BTH_YYYY        4618 non-null   int32 \n",
      " 2   OPRTN_YN        4618 non-null   object\n",
      " 3   OFIJ_TYPE       4511 non-null   object\n",
      "dtypes: int32(1), int64(1), object(2)\n",
      "memory usage: 162.4+ KB\n"
     ]
    }
   ],
   "source": [
    "df_I10_h.info()"
   ]
  },
  {
   "cell_type": "markdown",
   "id": "4925cd46-b6ae-4c72-a8ac-766f366497b2",
   "metadata": {
    "tags": []
   },
   "source": [
    "#### X : 연속형 / Y : 연속형  = 주로 상관관계 확인에서 사용\n",
    "    - correlation coefficient(상관계수)\n",
    "    - 1 ~ 1\n",
    "    - 0에 가까우면 관계없음, -1로 갈수록 반비례, 1로 갈수로 정비례"
   ]
  },
  {
   "cell_type": "code",
   "execution_count": 14,
   "id": "2f53b888-531e-4b19-abd9-2a89907d59d8",
   "metadata": {
    "tags": []
   },
   "outputs": [
    {
     "data": {
      "text/html": [
       "<div>\n",
       "<style scoped>\n",
       "    .dataframe tbody tr th:only-of-type {\n",
       "        vertical-align: middle;\n",
       "    }\n",
       "\n",
       "    .dataframe tbody tr th {\n",
       "        vertical-align: top;\n",
       "    }\n",
       "\n",
       "    .dataframe thead th {\n",
       "        text-align: right;\n",
       "    }\n",
       "</style>\n",
       "<table border=\"1\" class=\"dataframe\">\n",
       "  <thead>\n",
       "    <tr style=\"text-align: right;\">\n",
       "      <th></th>\n",
       "      <th>MDCARE_STRT_DT</th>\n",
       "      <th>BTH_YYYY</th>\n",
       "    </tr>\n",
       "  </thead>\n",
       "  <tbody>\n",
       "    <tr>\n",
       "      <th>MDCARE_STRT_DT</th>\n",
       "      <td>1.000000</td>\n",
       "      <td>-0.131606</td>\n",
       "    </tr>\n",
       "    <tr>\n",
       "      <th>BTH_YYYY</th>\n",
       "      <td>-0.131606</td>\n",
       "      <td>1.000000</td>\n",
       "    </tr>\n",
       "  </tbody>\n",
       "</table>\n",
       "</div>"
      ],
      "text/plain": [
       "                MDCARE_STRT_DT  BTH_YYYY\n",
       "MDCARE_STRT_DT        1.000000 -0.131606\n",
       "BTH_YYYY             -0.131606  1.000000"
      ]
     },
     "execution_count": 14,
     "metadata": {},
     "output_type": "execute_result"
    }
   ],
   "source": [
    "df_I10_h.describe().corr()"
   ]
  },
  {
   "cell_type": "markdown",
   "id": "2bf42ab4-1892-4ac2-b062-adae4aecda4e",
   "metadata": {
    "tags": []
   },
   "source": [
    "#### 선정 변수:MDCARE_STRT_DT(요양개시일자) ,BTH_YYYY(출생년도)\n",
    "- 분석 내용 : 출생년도에 따라 요양개시일자에 관계가 있는가?\n",
    "    - 귀무가설 : MDCARE_STRT_DT(요양개시일자)와 BTH_YYYY(출생년도)에 상관관계가 없다.\n",
    "    - 대립가설 : MDCARE_STRT_DT(요양개시일자)와 BTH_YYYY(출생년도)에에 상관관계가 있다\n",
    "- 분석결론 (기준:p-value 0.05) / P.value < 0.05 : 대립 참\n",
    "    - 통계 결론 : 귀무가설 참,\n",
    "    - 사실 결론 : \n",
    "  \n",
    "  SignificanceResult(statistic=-0.04424737115085244, pvalue=0.0026338234621164462)"
   ]
  },
  {
   "cell_type": "code",
   "execution_count": 19,
   "id": "42568515-152e-4fde-8047-909a67fbd05e",
   "metadata": {
    "tags": []
   },
   "outputs": [
    {
     "data": {
      "text/plain": [
       "SignificanceResult(statistic=-0.04424737115085244, pvalue=0.0026338234621164462)"
      ]
     },
     "execution_count": 19,
     "metadata": {},
     "output_type": "execute_result"
    }
   ],
   "source": [
    "stats.spearmanr(df_I10_h['MDCARE_STRT_DT'], df_I10_h['BTH_YYYY'])"
   ]
  },
  {
   "cell_type": "markdown",
   "id": "ddf5347d-816a-458a-b8be-fe0c0bcd87e4",
   "metadata": {
    "tags": []
   },
   "source": [
    "#### X : 범주형 / Y : 연속형  = 주로 상관관계 확인에서 사용\n",
    " - record 갯수 5천개 이하 : shapiro test (정규성 검증)\n",
    " - 정규분포 등분산 검증방법\n",
    "     -  p_value >  0.05 등분산\n",
    "     -  p_value <  0.05 이분산"
   ]
  },
  {
   "cell_type": "markdown",
   "id": "927b12ee-e7e7-456e-9a39-4a22610d047a",
   "metadata": {},
   "source": [
    "#### 선정 변수:MDCARE_STRT_DT(요양개시일자) ,OPRTN_YN"
   ]
  },
  {
   "cell_type": "code",
   "execution_count": 28,
   "id": "f4320660-7679-4e77-9f95-46355e24032e",
   "metadata": {
    "tags": []
   },
   "outputs": [],
   "source": [
    "statistic, p_value = stats.shapiro(df_I10_h['OPRTN_YN'])"
   ]
  },
  {
   "cell_type": "code",
   "execution_count": 29,
   "id": "2a207b15-d429-4f3b-a008-d993fd3d731d",
   "metadata": {
    "tags": []
   },
   "outputs": [
    {
     "name": "stdout",
     "output_type": "stream",
     "text": [
      "이분산\n"
     ]
    }
   ],
   "source": [
    "if p_value >  0.05:\n",
    "    print(\"등분산\")\n",
    "else:\n",
    "    print(\"이분산\")"
   ]
  },
  {
   "cell_type": "markdown",
   "id": "5c035737-f6ab-4ad4-90a0-1ce2b0fe3b7a",
   "metadata": {},
   "source": [
    "#### 선정 변수:MDCARE_STRT_DT(요양개시일자) ,OFIJ_TYPE"
   ]
  },
  {
   "cell_type": "code",
   "execution_count": 31,
   "id": "53663ad1-26ae-4469-a43b-6094f9de0567",
   "metadata": {
    "tags": []
   },
   "outputs": [],
   "source": []
  },
  {
   "cell_type": "code",
   "execution_count": null,
   "id": "7b61cc22-2e88-48cf-a728-8e66659d3f31",
   "metadata": {},
   "outputs": [],
   "source": []
  }
 ],
 "metadata": {
  "kernelspec": {
   "display_name": "Python 3 (ipykernel)",
   "language": "python",
   "name": "python3"
  },
  "language_info": {
   "codemirror_mode": {
    "name": "ipython",
    "version": 3
   },
   "file_extension": ".py",
   "mimetype": "text/x-python",
   "name": "python",
   "nbconvert_exporter": "python",
   "pygments_lexer": "ipython3",
   "version": "3.11.3"
  }
 },
 "nbformat": 4,
 "nbformat_minor": 5
}
