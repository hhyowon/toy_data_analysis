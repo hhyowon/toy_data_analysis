{
 "cells": [
  {
   "cell_type": "code",
   "execution_count": 1,
   "id": "cf39dbf0-f5ae-4e17-b32a-1f691254e1a0",
   "metadata": {
    "tags": []
   },
   "outputs": [],
   "source": [
    "import matplotlib.pyplot as plt\n",
    "import matplotlib as mpl \n",
    "mpl.rc('font',family='Malgun Gothic')\n",
    "import seaborn as sns\n",
    "import pandas as pd\n",
    "import numpy as np\n",
    "import scipy.stats as stats"
   ]
  },
  {
   "cell_type": "code",
   "execution_count": 6,
   "id": "33cfa8c7-5724-4a56-99f7-d5222d631687",
   "metadata": {
    "tags": []
   },
   "outputs": [
    {
     "data": {
      "text/html": [
       "<div>\n",
       "<style scoped>\n",
       "    .dataframe tbody tr th:only-of-type {\n",
       "        vertical-align: middle;\n",
       "    }\n",
       "\n",
       "    .dataframe tbody tr th {\n",
       "        vertical-align: top;\n",
       "    }\n",
       "\n",
       "    .dataframe thead th {\n",
       "        text-align: right;\n",
       "    }\n",
       "</style>\n",
       "<table border=\"1\" class=\"dataframe\">\n",
       "  <thead>\n",
       "    <tr style=\"text-align: right;\">\n",
       "      <th></th>\n",
       "      <th>입원기간</th>\n",
       "      <th>통증기간(월)</th>\n",
       "      <th>연령</th>\n",
       "      <th>수술시간</th>\n",
       "      <th>디스크단면적</th>\n",
       "      <th>과거수술횟수</th>\n",
       "      <th>환자통증정도</th>\n",
       "    </tr>\n",
       "  </thead>\n",
       "  <tbody>\n",
       "    <tr>\n",
       "      <th>0</th>\n",
       "      <td>2</td>\n",
       "      <td>1.0</td>\n",
       "      <td>66</td>\n",
       "      <td>68.0</td>\n",
       "      <td>2048.50</td>\n",
       "      <td>0</td>\n",
       "      <td>10</td>\n",
       "    </tr>\n",
       "    <tr>\n",
       "      <th>1</th>\n",
       "      <td>1</td>\n",
       "      <td>1.0</td>\n",
       "      <td>47</td>\n",
       "      <td>31.0</td>\n",
       "      <td>1753.10</td>\n",
       "      <td>0</td>\n",
       "      <td>10</td>\n",
       "    </tr>\n",
       "    <tr>\n",
       "      <th>2</th>\n",
       "      <td>1</td>\n",
       "      <td>1.0</td>\n",
       "      <td>39</td>\n",
       "      <td>78.0</td>\n",
       "      <td>1749.00</td>\n",
       "      <td>1</td>\n",
       "      <td>7</td>\n",
       "    </tr>\n",
       "    <tr>\n",
       "      <th>3</th>\n",
       "      <td>1</td>\n",
       "      <td>2.0</td>\n",
       "      <td>40</td>\n",
       "      <td>73.0</td>\n",
       "      <td>1796.20</td>\n",
       "      <td>0</td>\n",
       "      <td>7</td>\n",
       "    </tr>\n",
       "    <tr>\n",
       "      <th>4</th>\n",
       "      <td>2</td>\n",
       "      <td>1.0</td>\n",
       "      <td>42</td>\n",
       "      <td>29.0</td>\n",
       "      <td>2021.48</td>\n",
       "      <td>0</td>\n",
       "      <td>7</td>\n",
       "    </tr>\n",
       "    <tr>\n",
       "      <th>...</th>\n",
       "      <td>...</td>\n",
       "      <td>...</td>\n",
       "      <td>...</td>\n",
       "      <td>...</td>\n",
       "      <td>...</td>\n",
       "      <td>...</td>\n",
       "      <td>...</td>\n",
       "    </tr>\n",
       "    <tr>\n",
       "      <th>1889</th>\n",
       "      <td>2</td>\n",
       "      <td>12.0</td>\n",
       "      <td>59</td>\n",
       "      <td>80.0</td>\n",
       "      <td>2652.20</td>\n",
       "      <td>0</td>\n",
       "      <td>7</td>\n",
       "    </tr>\n",
       "    <tr>\n",
       "      <th>1890</th>\n",
       "      <td>4</td>\n",
       "      <td>6.0</td>\n",
       "      <td>42</td>\n",
       "      <td>20.0</td>\n",
       "      <td>1795.80</td>\n",
       "      <td>0</td>\n",
       "      <td>7</td>\n",
       "    </tr>\n",
       "    <tr>\n",
       "      <th>1891</th>\n",
       "      <td>3</td>\n",
       "      <td>1.0</td>\n",
       "      <td>61</td>\n",
       "      <td>50.0</td>\n",
       "      <td>2624.40</td>\n",
       "      <td>0</td>\n",
       "      <td>7</td>\n",
       "    </tr>\n",
       "    <tr>\n",
       "      <th>1892</th>\n",
       "      <td>4</td>\n",
       "      <td>24.0</td>\n",
       "      <td>29</td>\n",
       "      <td>25.0</td>\n",
       "      <td>1972.50</td>\n",
       "      <td>0</td>\n",
       "      <td>7</td>\n",
       "    </tr>\n",
       "    <tr>\n",
       "      <th>1893</th>\n",
       "      <td>2</td>\n",
       "      <td>6.0</td>\n",
       "      <td>30</td>\n",
       "      <td>45.0</td>\n",
       "      <td>1574.40</td>\n",
       "      <td>0</td>\n",
       "      <td>8</td>\n",
       "    </tr>\n",
       "  </tbody>\n",
       "</table>\n",
       "<p>1894 rows × 7 columns</p>\n",
       "</div>"
      ],
      "text/plain": [
       "      입원기간  통증기간(월)  연령  수술시간   디스크단면적  과거수술횟수  환자통증정도\n",
       "0        2      1.0  66  68.0  2048.50       0      10\n",
       "1        1      1.0  47  31.0  1753.10       0      10\n",
       "2        1      1.0  39  78.0  1749.00       1       7\n",
       "3        1      2.0  40  73.0  1796.20       0       7\n",
       "4        2      1.0  42  29.0  2021.48       0       7\n",
       "...    ...      ...  ..   ...      ...     ...     ...\n",
       "1889     2     12.0  59  80.0  2652.20       0       7\n",
       "1890     4      6.0  42  20.0  1795.80       0       7\n",
       "1891     3      1.0  61  50.0  2624.40       0       7\n",
       "1892     4     24.0  29  25.0  1972.50       0       7\n",
       "1893     2      6.0  30  45.0  1574.40       0       8\n",
       "\n",
       "[1894 rows x 7 columns]"
      ]
     },
     "execution_count": 6,
     "metadata": {},
     "output_type": "execute_result"
    }
   ],
   "source": [
    "df_ROS = pd.read_csv('../datasets/RecurrenceOfSurgery.csv')\n",
    "df_ROS_data = df_ROS[['입원기간','통증기간(월)','연령','수술시간','디스크단면적','과거수술횟수','환자통증정도']]\n",
    "df_ROS_data"
   ]
  },
  {
   "cell_type": "markdown",
   "id": "b1b62561-f9a1-4877-a843-fe4971cb49c0",
   "metadata": {
    "tags": []
   },
   "source": [
    "## 목표변수 검증\n",
    "\n",
    "Y : 연속형 : 단일 변수에 대한 정규성 여부 판단\n",
    "\n",
    "    - 검증 갯수 따른 방법 선택 (레코드 갯수)\n",
    "        - 5천개보다 이하 : shapiro normality test\n",
    "        - 5천개보다 이상 : Anderson normality test\n",
    "\n",
    "선정 변수: 입원기간\n",
    "    \n",
    "    - 분석 내용 : 입원기간이 정규 분포를 따르는가?\n",
    "        - 귀무가설 : 입원기간이 정규 분포이다.\n",
    "        - 대립가설 : 입원기간이 정규 분포가 아니다.\n",
    "\n",
    "    - 분석결론 (기준:p-value 0.05) / P.value < 0.05 : 대립 참\n",
    "        - 통계 결론 : pvalue=0.0이므로 대립가설 참\n",
    "        - 사실 결론 : 입원기간이 정규 분포가 아니다."
   ]
  },
  {
   "cell_type": "code",
   "execution_count": 5,
   "id": "9351c950-47c0-4c62-a494-4a481d26276d",
   "metadata": {
    "tags": []
   },
   "outputs": [
    {
     "data": {
      "text/plain": [
       "<Axes: xlabel='입원기간', ylabel='Count'>"
      ]
     },
     "execution_count": 5,
     "metadata": {},
     "output_type": "execute_result"
    },
    {
     "data": {
      "image/png": "[encoded data removed]",
      "text/plain": [
       "<Figure size 640x480 with 1 Axes>"
      ]
     },
     "metadata": {},
     "output_type": "display_data"
    }
   ],
   "source": [
    "sns.histplot(data=df_ROS_data, x='입원기간', kde=True)"
   ]
  },
  {
   "cell_type": "code",
   "execution_count": 7,
   "id": "efad03a3-7e24-4087-817c-6213832674a2",
   "metadata": {
    "tags": []
   },
   "outputs": [
    {
     "data": {
      "text/plain": [
       "입원기간        0\n",
       "통증기간(월)     4\n",
       "연령          0\n",
       "수술시간       54\n",
       "디스크단면적      1\n",
       "과거수술횟수      0\n",
       "환자통증정도      0\n",
       "dtype: int64"
      ]
     },
     "execution_count": 7,
     "metadata": {},
     "output_type": "execute_result"
    }
   ],
   "source": [
    "df_ROS_data.isnull().sum()"
   ]
  },
  {
   "cell_type": "code",
   "execution_count": 28,
   "id": "d09ff7d0-25d4-4b13-a04d-ca4c7cf1fd91",
   "metadata": {
    "tags": []
   },
   "outputs": [
    {
     "data": {
      "text/html": [
       "<div>\n",
       "<style scoped>\n",
       "    .dataframe tbody tr th:only-of-type {\n",
       "        vertical-align: middle;\n",
       "    }\n",
       "\n",
       "    .dataframe tbody tr th {\n",
       "        vertical-align: top;\n",
       "    }\n",
       "\n",
       "    .dataframe thead th {\n",
       "        text-align: right;\n",
       "    }\n",
       "</style>\n",
       "<table border=\"1\" class=\"dataframe\">\n",
       "  <thead>\n",
       "    <tr style=\"text-align: right;\">\n",
       "      <th></th>\n",
       "      <th>입원기간</th>\n",
       "      <th>통증기간(월)</th>\n",
       "      <th>연령</th>\n",
       "      <th>수술시간</th>\n",
       "      <th>디스크단면적</th>\n",
       "      <th>과거수술횟수</th>\n",
       "      <th>환자통증정도</th>\n",
       "    </tr>\n",
       "  </thead>\n",
       "  <tbody>\n",
       "    <tr>\n",
       "      <th>0</th>\n",
       "      <td>2</td>\n",
       "      <td>1.0</td>\n",
       "      <td>66</td>\n",
       "      <td>68.0</td>\n",
       "      <td>2048.50</td>\n",
       "      <td>0</td>\n",
       "      <td>10</td>\n",
       "    </tr>\n",
       "    <tr>\n",
       "      <th>1</th>\n",
       "      <td>1</td>\n",
       "      <td>1.0</td>\n",
       "      <td>47</td>\n",
       "      <td>31.0</td>\n",
       "      <td>1753.10</td>\n",
       "      <td>0</td>\n",
       "      <td>10</td>\n",
       "    </tr>\n",
       "    <tr>\n",
       "      <th>2</th>\n",
       "      <td>1</td>\n",
       "      <td>1.0</td>\n",
       "      <td>39</td>\n",
       "      <td>78.0</td>\n",
       "      <td>1749.00</td>\n",
       "      <td>1</td>\n",
       "      <td>7</td>\n",
       "    </tr>\n",
       "    <tr>\n",
       "      <th>3</th>\n",
       "      <td>1</td>\n",
       "      <td>2.0</td>\n",
       "      <td>40</td>\n",
       "      <td>73.0</td>\n",
       "      <td>1796.20</td>\n",
       "      <td>0</td>\n",
       "      <td>7</td>\n",
       "    </tr>\n",
       "    <tr>\n",
       "      <th>4</th>\n",
       "      <td>2</td>\n",
       "      <td>1.0</td>\n",
       "      <td>42</td>\n",
       "      <td>29.0</td>\n",
       "      <td>2021.48</td>\n",
       "      <td>0</td>\n",
       "      <td>7</td>\n",
       "    </tr>\n",
       "    <tr>\n",
       "      <th>...</th>\n",
       "      <td>...</td>\n",
       "      <td>...</td>\n",
       "      <td>...</td>\n",
       "      <td>...</td>\n",
       "      <td>...</td>\n",
       "      <td>...</td>\n",
       "      <td>...</td>\n",
       "    </tr>\n",
       "    <tr>\n",
       "      <th>1889</th>\n",
       "      <td>2</td>\n",
       "      <td>12.0</td>\n",
       "      <td>59</td>\n",
       "      <td>80.0</td>\n",
       "      <td>2652.20</td>\n",
       "      <td>0</td>\n",
       "      <td>7</td>\n",
       "    </tr>\n",
       "    <tr>\n",
       "      <th>1890</th>\n",
       "      <td>4</td>\n",
       "      <td>6.0</td>\n",
       "      <td>42</td>\n",
       "      <td>20.0</td>\n",
       "      <td>1795.80</td>\n",
       "      <td>0</td>\n",
       "      <td>7</td>\n",
       "    </tr>\n",
       "    <tr>\n",
       "      <th>1891</th>\n",
       "      <td>3</td>\n",
       "      <td>1.0</td>\n",
       "      <td>61</td>\n",
       "      <td>50.0</td>\n",
       "      <td>2624.40</td>\n",
       "      <td>0</td>\n",
       "      <td>7</td>\n",
       "    </tr>\n",
       "    <tr>\n",
       "      <th>1892</th>\n",
       "      <td>4</td>\n",
       "      <td>24.0</td>\n",
       "      <td>29</td>\n",
       "      <td>25.0</td>\n",
       "      <td>1972.50</td>\n",
       "      <td>0</td>\n",
       "      <td>7</td>\n",
       "    </tr>\n",
       "    <tr>\n",
       "      <th>1893</th>\n",
       "      <td>2</td>\n",
       "      <td>6.0</td>\n",
       "      <td>30</td>\n",
       "      <td>45.0</td>\n",
       "      <td>1574.40</td>\n",
       "      <td>0</td>\n",
       "      <td>8</td>\n",
       "    </tr>\n",
       "  </tbody>\n",
       "</table>\n",
       "<p>1835 rows × 7 columns</p>\n",
       "</div>"
      ],
      "text/plain": [
       "      입원기간  통증기간(월)  연령  수술시간   디스크단면적 과거수술횟수 환자통증정도\n",
       "0        2      1.0  66  68.0  2048.50      0     10\n",
       "1        1      1.0  47  31.0  1753.10      0     10\n",
       "2        1      1.0  39  78.0  1749.00      1      7\n",
       "3        1      2.0  40  73.0  1796.20      0      7\n",
       "4        2      1.0  42  29.0  2021.48      0      7\n",
       "...    ...      ...  ..   ...      ...    ...    ...\n",
       "1889     2     12.0  59  80.0  2652.20      0      7\n",
       "1890     4      6.0  42  20.0  1795.80      0      7\n",
       "1891     3      1.0  61  50.0  2624.40      0      7\n",
       "1892     4     24.0  29  25.0  1972.50      0      7\n",
       "1893     2      6.0  30  45.0  1574.40      0      8\n",
       "\n",
       "[1835 rows x 7 columns]"
      ]
     },
     "execution_count": 28,
     "metadata": {},
     "output_type": "execute_result"
    }
   ],
   "source": [
    "df_ROS_data=df_ROS_data.dropna()\n",
    "df_ROS_data"
   ]
  },
  {
   "cell_type": "code",
   "execution_count": 29,
   "id": "2182a5a6-15de-4e5f-b359-42e2b679e18d",
   "metadata": {
    "tags": []
   },
   "outputs": [
    {
     "data": {
      "text/plain": [
       "ShapiroResult(statistic=0.2564329504966736, pvalue=0.0)"
      ]
     },
     "execution_count": 29,
     "metadata": {},
     "output_type": "execute_result"
    }
   ],
   "source": [
    "stats.shapiro(df_ROS_data['입원기간'])\n",
    "# ShapiroResult(statistic=0.2543339729309082, pvalue=0.0  : 0.05이하 대립가설 참)"
   ]
  },
  {
   "cell_type": "markdown",
   "id": "3fed885c-f405-41da-8377-aac3e6f9b5e2",
   "metadata": {
    "tags": []
   },
   "source": [
    "## 설명변수 검증\n",
    "- '통증기간(월)','연령','수술시간','디스크단면적','과거수술횟수','환자통증정도'\n"
   ]
  },
  {
   "cell_type": "markdown",
   "id": "7a38f3b3-f751-4947-857e-201bc6fcbcb0",
   "metadata": {},
   "source": [
    "#### X : 연속형 / Y : 연속형  = 주로 상관관계 확인에서 사용\n",
    "    - correlation coefficient(상관계수)\n",
    "    - 1 ~ 1\n",
    "    - 0에 가까우면 관계없음, -1로 갈수록 반비례, 1로 갈수로 정비례"
   ]
  },
  {
   "cell_type": "code",
   "execution_count": 30,
   "id": "430aa9d7-9cdf-4865-8850-184b74c50a6d",
   "metadata": {
    "tags": []
   },
   "outputs": [
    {
     "name": "stdout",
     "output_type": "stream",
     "text": [
      "<class 'pandas.core.frame.DataFrame'>\n",
      "Int64Index: 1835 entries, 0 to 1893\n",
      "Data columns (total 7 columns):\n",
      " #   Column   Non-Null Count  Dtype  \n",
      "---  ------   --------------  -----  \n",
      " 0   입원기간     1835 non-null   int64  \n",
      " 1   통증기간(월)  1835 non-null   float64\n",
      " 2   연령       1835 non-null   int64  \n",
      " 3   수술시간     1835 non-null   float64\n",
      " 4   디스크단면적   1835 non-null   float64\n",
      " 5   과거수술횟수   1835 non-null   object \n",
      " 6   환자통증정도   1835 non-null   object \n",
      "dtypes: float64(3), int64(2), object(2)\n",
      "memory usage: 114.7+ KB\n"
     ]
    }
   ],
   "source": [
    "df_ROS_data[['과거수술횟수','환자통증정도']] = df_ROS_data[['과거수술횟수','환자통증정도']].astype(object)\n",
    "df_ROS_data.info()"
   ]
  },
  {
   "cell_type": "code",
   "execution_count": 31,
   "id": "bbe9da85-9f6a-43d1-8544-949cb2f7a400",
   "metadata": {
    "tags": []
   },
   "outputs": [
    {
     "data": {
      "text/html": [
       "<div>\n",
       "<style scoped>\n",
       "    .dataframe tbody tr th:only-of-type {\n",
       "        vertical-align: middle;\n",
       "    }\n",
       "\n",
       "    .dataframe tbody tr th {\n",
       "        vertical-align: top;\n",
       "    }\n",
       "\n",
       "    .dataframe thead th {\n",
       "        text-align: right;\n",
       "    }\n",
       "</style>\n",
       "<table border=\"1\" class=\"dataframe\">\n",
       "  <thead>\n",
       "    <tr style=\"text-align: right;\">\n",
       "      <th></th>\n",
       "      <th>입원기간</th>\n",
       "      <th>통증기간(월)</th>\n",
       "      <th>연령</th>\n",
       "      <th>수술시간</th>\n",
       "      <th>디스크단면적</th>\n",
       "    </tr>\n",
       "  </thead>\n",
       "  <tbody>\n",
       "    <tr>\n",
       "      <th>입원기간</th>\n",
       "      <td>1.000000</td>\n",
       "      <td>0.985875</td>\n",
       "      <td>0.999810</td>\n",
       "      <td>0.996890</td>\n",
       "      <td>0.033654</td>\n",
       "    </tr>\n",
       "    <tr>\n",
       "      <th>통증기간(월)</th>\n",
       "      <td>0.985875</td>\n",
       "      <td>1.000000</td>\n",
       "      <td>0.985910</td>\n",
       "      <td>0.994538</td>\n",
       "      <td>0.145318</td>\n",
       "    </tr>\n",
       "    <tr>\n",
       "      <th>연령</th>\n",
       "      <td>0.999810</td>\n",
       "      <td>0.985910</td>\n",
       "      <td>1.000000</td>\n",
       "      <td>0.997478</td>\n",
       "      <td>0.048057</td>\n",
       "    </tr>\n",
       "    <tr>\n",
       "      <th>수술시간</th>\n",
       "      <td>0.996890</td>\n",
       "      <td>0.994538</td>\n",
       "      <td>0.997478</td>\n",
       "      <td>1.000000</td>\n",
       "      <td>0.102975</td>\n",
       "    </tr>\n",
       "    <tr>\n",
       "      <th>디스크단면적</th>\n",
       "      <td>0.033654</td>\n",
       "      <td>0.145318</td>\n",
       "      <td>0.048057</td>\n",
       "      <td>0.102975</td>\n",
       "      <td>1.000000</td>\n",
       "    </tr>\n",
       "  </tbody>\n",
       "</table>\n",
       "</div>"
      ],
      "text/plain": [
       "             입원기간   통증기간(월)        연령      수술시간    디스크단면적\n",
       "입원기간     1.000000  0.985875  0.999810  0.996890  0.033654\n",
       "통증기간(월)  0.985875  1.000000  0.985910  0.994538  0.145318\n",
       "연령       0.999810  0.985910  1.000000  0.997478  0.048057\n",
       "수술시간     0.996890  0.994538  0.997478  1.000000  0.102975\n",
       "디스크단면적   0.033654  0.145318  0.048057  0.102975  1.000000"
      ]
     },
     "execution_count": 31,
     "metadata": {},
     "output_type": "execute_result"
    }
   ],
   "source": [
    "df_ROS_data.describe().corr()"
   ]
  },
  {
   "cell_type": "markdown",
   "id": "c46457b7-5127-431f-aaa5-66d9c57fc7f1",
   "metadata": {
    "tags": []
   },
   "source": [
    "#### 선정 변수: 입원기간, 연령\n",
    "- 분석 내용 : 연령이 길어 지면 따라서 입원기간 변화가 있는가?\n",
    "    - 귀무가설 : 연령에 따라서 입원기간 변화가 없다.\n",
    "    - 대립가설 : 연령에 따라서 입원기간 변화가 있다.\n",
    "- 분석결론 (기준:p-value 0.05) / P.value < 0.05 : 대립 참\n",
    "    - 통계 결론 : 대립가설 참, 상관계수 관계 없음\n",
    "    - 사실 결론 : 연령에 따라서 입원기간 변화가 있다.\n",
    "    SignificanceResult(statistic=0.06940175801675036, pvalue=0.0025109193902937083)"
   ]
  },
  {
   "cell_type": "code",
   "execution_count": 37,
   "id": "37fd174d-de8d-4981-b160-c41cd847f6d4",
   "metadata": {
    "tags": []
   },
   "outputs": [
    {
     "data": {
      "text/plain": [
       "SignificanceResult(statistic=0.06038210387356791, pvalue=0.009676490242860429)"
      ]
     },
     "execution_count": 37,
     "metadata": {},
     "output_type": "execute_result"
    }
   ],
   "source": [
    "# 컬럼 중 하나라도 비정규 분포이면 사용\n",
    "stats.spearmanr(df_ROS_data['입원기간'], df_ROS_data['연령'])"
   ]
  },
  {
   "cell_type": "markdown",
   "id": "66eaa643-b655-4ba1-9bc7-44714bee06a5",
   "metadata": {},
   "source": [
    "#### 선정 변수: 입원기간, 디스크 면적\n",
    "- 분석 내용 :디스크 단면적 따라서 입원기간 변화가 있는가?\n",
    "    - 귀무가설 : 디스크 단면적과 입원 기간 간에 상관관계가 없다.\n",
    "    - 대립가설 : 디스크 단면적과 입원 기간 간에 상관관계가 있다\n",
    "- 분석결론 (기준:p-value 0.05) / P.value < 0.05 : 대립 참\n",
    "    - 통계 결론 : 귀무가설 참,\n",
    "    - 사실 결론 : 디스크 면적에 따라서 입원기간 변화가 있다.\n",
    "    SignificanceResult(statistic=0.029330390035971116, pvalue=0.20917506925393334)"
   ]
  },
  {
   "cell_type": "code",
   "execution_count": 1,
   "id": "c14b3922-6fb3-4e56-980c-78192bd46ed3",
   "metadata": {
    "tags": []
   },
   "outputs": [
    {
     "ename": "NameError",
     "evalue": "name 'stats' is not defined",
     "output_type": "error",
     "traceback": [
      "\u001b[1;31m---------------------------------------------------------------------------\u001b[0m",
      "\u001b[1;31mNameError\u001b[0m                                 Traceback (most recent call last)",
      "Cell \u001b[1;32mIn[1], line 1\u001b[0m\n\u001b[1;32m----> 1\u001b[0m stats\u001b[38;5;241m.\u001b[39mspearmanr(df_ROS_data[\u001b[38;5;124m'\u001b[39m\u001b[38;5;124m입원기간\u001b[39m\u001b[38;5;124m'\u001b[39m], df_ROS_data[\u001b[38;5;124m'\u001b[39m\u001b[38;5;124m디스크단면적\u001b[39m\u001b[38;5;124m'\u001b[39m])\n",
      "\u001b[1;31mNameError\u001b[0m: name 'stats' is not defined"
     ]
    }
   ],
   "source": [
    "stats.spearmanr(df_ROS_data['입원기간'], df_ROS_data['디스크단면적'])"
   ]
  },
  {
   "cell_type": "markdown",
   "id": "20870403-91db-47e7-96bc-15da11751699",
   "metadata": {},
   "source": [
    "#### 선정 변수: 입원기간, 통증기간\n",
    "- 분석 내용 :통증기간 따라서 입원기간 변화가 있는가?\n",
    "    - 귀무가설 : 통증기간과 입원 기간 간에 상관관계가 없다.\n",
    "    - 대립가설 : 통증기간과 입원 기간 간에 상관관계가 있다\n",
    "- 분석결론 (기준:p-value 0.05) / P.value < 0.05 : 대립 참\n",
    "    - 통계 결론 : 귀무가설 참,\n",
    "    - 사실 결론 : 통증기간에 따라서 입원기간 변화가 있다.\n",
    "    SignificanceResult(statistic=0.01809521553576732, pvalue=0.43852985385366017)"
   ]
  },
  {
   "cell_type": "code",
   "execution_count": 39,
   "id": "22e07e60-cc45-4b75-b341-38cb199d4071",
   "metadata": {
    "tags": []
   },
   "outputs": [
    {
     "data": {
      "text/plain": [
       "SignificanceResult(statistic=0.01809521553576732, pvalue=0.43852985385366017)"
      ]
     },
     "execution_count": 39,
     "metadata": {},
     "output_type": "execute_result"
    }
   ],
   "source": [
    "stats.spearmanr(df_ROS_data['입원기간'], df_ROS_data['통증기간(월)'])"
   ]
  },
  {
   "cell_type": "markdown",
   "id": "15322549-4832-4cda-adec-48222d93f0ec",
   "metadata": {},
   "source": [
    "#### 선정 변수: 입원기간, 수술시간\n",
    "- 분석 내용 : 수술시간에 따라서 입원기간 변화가 있는가?\n",
    "    - 귀무가설 : 수술시간과 입원 기간 간에 상관관계가 없다.\n",
    "    - 대립가설 : 수술시간과 입원 기간 간에 상관관계가 있다\n",
    "- 분석결론 (기준:p-value 0.05) / P.value < 0.05 : 대립 참\n",
    "    - 통계 결론 : 귀무가설 참,\n",
    "    - 사실 결론 : 수술시간에 따라서 입원기간 변화가 있다.\n",
    "    SignificanceResult(statistic=0.0028694592438545494, pvalue=0.9022375735171032)"
   ]
  },
  {
   "cell_type": "code",
   "execution_count": 40,
   "id": "c4ba8298-1bdb-4e0d-a717-d50980e4d45b",
   "metadata": {
    "tags": []
   },
   "outputs": [
    {
     "data": {
      "text/plain": [
       "SignificanceResult(statistic=0.0028694592438545494, pvalue=0.9022375735171032)"
      ]
     },
     "execution_count": 40,
     "metadata": {},
     "output_type": "execute_result"
    }
   ],
   "source": [
    "stats.spearmanr(df_ROS_data['입원기간'], df_ROS_data['수술시간'])"
   ]
  }
 ],
 "metadata": {
  "kernelspec": {
   "display_name": "Python 3 (ipykernel)",
   "language": "python",
   "name": "python3"
  },
  "language_info": {
   "codemirror_mode": {
    "name": "ipython",
    "version": 3
   },
   "file_extension": ".py",
   "mimetype": "text/x-python",
   "name": "python",
   "nbconvert_exporter": "python",
   "pygments_lexer": "ipython3",
   "version": "3.11.3"
  }
 },
 "nbformat": 4,
 "nbformat_minor": 5
}
