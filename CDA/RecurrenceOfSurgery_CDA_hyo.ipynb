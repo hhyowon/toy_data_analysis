{
 "cells": [
  {
   "cell_type": "code",
   "execution_count": 42,
   "id": "c258303c-2ac4-4c72-add2-6933b75d16aa",
   "metadata": {
    "tags": []
   },
   "outputs": [],
   "source": [
    "import matplotlib.pyplot as plt\n",
    "import matplotlib as mpl\n",
    "mpl.rc('font',family='Malgun Gothic')   #한글처리\n",
    "import seaborn as sns\n",
    "import pandas as pd\n",
    "import scipy.stats as stats"
   ]
  },
  {
   "cell_type": "code",
   "execution_count": 43,
   "id": "3425100b-b18b-49e6-9160-937016962086",
   "metadata": {
    "tags": []
   },
   "outputs": [
    {
     "data": {
      "text/html": [
       "<div>\n",
       "<style scoped>\n",
       "    .dataframe tbody tr th:only-of-type {\n",
       "        vertical-align: middle;\n",
       "    }\n",
       "\n",
       "    .dataframe tbody tr th {\n",
       "        vertical-align: top;\n",
       "    }\n",
       "\n",
       "    .dataframe thead th {\n",
       "        text-align: right;\n",
       "    }\n",
       "</style>\n",
       "<table border=\"1\" class=\"dataframe\">\n",
       "  <thead>\n",
       "    <tr style=\"text-align: right;\">\n",
       "      <th></th>\n",
       "      <th>Unnamed: 0</th>\n",
       "      <th>환자ID</th>\n",
       "      <th>체중</th>\n",
       "      <th>신장</th>\n",
       "      <th>신부전여부</th>\n",
       "      <th>헤모글로빈수치</th>\n",
       "      <th>혈액형</th>\n",
       "      <th>과거수술횟수</th>\n",
       "      <th>연령</th>\n",
       "      <th>환자통증정도</th>\n",
       "      <th>통증기간(월)</th>\n",
       "      <th>수술시간</th>\n",
       "      <th>디스크단면적</th>\n",
       "      <th>척추이동척도</th>\n",
       "      <th>척추전방위증</th>\n",
       "      <th>입원기간</th>\n",
       "      <th>BMI</th>\n",
       "      <th>BMI_categori</th>\n",
       "    </tr>\n",
       "  </thead>\n",
       "  <tbody>\n",
       "    <tr>\n",
       "      <th>0</th>\n",
       "      <td>0</td>\n",
       "      <td>1PT</td>\n",
       "      <td>60.3</td>\n",
       "      <td>163</td>\n",
       "      <td>0</td>\n",
       "      <td>13.66</td>\n",
       "      <td>RH+A</td>\n",
       "      <td>0</td>\n",
       "      <td>66</td>\n",
       "      <td>10</td>\n",
       "      <td>1.0</td>\n",
       "      <td>68.0</td>\n",
       "      <td>2048.5</td>\n",
       "      <td>Down</td>\n",
       "      <td>0</td>\n",
       "      <td>2</td>\n",
       "      <td>22.695623</td>\n",
       "      <td>정상 체중</td>\n",
       "    </tr>\n",
       "    <tr>\n",
       "      <th>1</th>\n",
       "      <td>1</td>\n",
       "      <td>2PT</td>\n",
       "      <td>71.7</td>\n",
       "      <td>171</td>\n",
       "      <td>0</td>\n",
       "      <td>13.73</td>\n",
       "      <td>RH+A</td>\n",
       "      <td>0</td>\n",
       "      <td>47</td>\n",
       "      <td>10</td>\n",
       "      <td>1.0</td>\n",
       "      <td>31.0</td>\n",
       "      <td>1753.1</td>\n",
       "      <td>Up</td>\n",
       "      <td>0</td>\n",
       "      <td>1</td>\n",
       "      <td>24.520365</td>\n",
       "      <td>정상 체중</td>\n",
       "    </tr>\n",
       "    <tr>\n",
       "      <th>2</th>\n",
       "      <td>3</td>\n",
       "      <td>4PT</td>\n",
       "      <td>74.2</td>\n",
       "      <td>174</td>\n",
       "      <td>0</td>\n",
       "      <td>15.38</td>\n",
       "      <td>RH+O</td>\n",
       "      <td>0</td>\n",
       "      <td>40</td>\n",
       "      <td>7</td>\n",
       "      <td>2.0</td>\n",
       "      <td>73.0</td>\n",
       "      <td>1796.2</td>\n",
       "      <td>Down</td>\n",
       "      <td>0</td>\n",
       "      <td>1</td>\n",
       "      <td>24.507861</td>\n",
       "      <td>정상 체중</td>\n",
       "    </tr>\n",
       "    <tr>\n",
       "      <th>3</th>\n",
       "      <td>11</td>\n",
       "      <td>12PT</td>\n",
       "      <td>64.9</td>\n",
       "      <td>162</td>\n",
       "      <td>0</td>\n",
       "      <td>17.28</td>\n",
       "      <td>RH+O</td>\n",
       "      <td>0</td>\n",
       "      <td>65</td>\n",
       "      <td>10</td>\n",
       "      <td>1.0</td>\n",
       "      <td>49.0</td>\n",
       "      <td>2119.3</td>\n",
       "      <td>Middle</td>\n",
       "      <td>0</td>\n",
       "      <td>1</td>\n",
       "      <td>24.729462</td>\n",
       "      <td>정상 체중</td>\n",
       "    </tr>\n",
       "    <tr>\n",
       "      <th>4</th>\n",
       "      <td>15</td>\n",
       "      <td>16PT</td>\n",
       "      <td>75.6</td>\n",
       "      <td>176</td>\n",
       "      <td>0</td>\n",
       "      <td>15.05</td>\n",
       "      <td>RH+B</td>\n",
       "      <td>0</td>\n",
       "      <td>84</td>\n",
       "      <td>7</td>\n",
       "      <td>1.0</td>\n",
       "      <td>42.0</td>\n",
       "      <td>2155.3</td>\n",
       "      <td>Down</td>\n",
       "      <td>0</td>\n",
       "      <td>1</td>\n",
       "      <td>24.405992</td>\n",
       "      <td>정상 체중</td>\n",
       "    </tr>\n",
       "    <tr>\n",
       "      <th>...</th>\n",
       "      <td>...</td>\n",
       "      <td>...</td>\n",
       "      <td>...</td>\n",
       "      <td>...</td>\n",
       "      <td>...</td>\n",
       "      <td>...</td>\n",
       "      <td>...</td>\n",
       "      <td>...</td>\n",
       "      <td>...</td>\n",
       "      <td>...</td>\n",
       "      <td>...</td>\n",
       "      <td>...</td>\n",
       "      <td>...</td>\n",
       "      <td>...</td>\n",
       "      <td>...</td>\n",
       "      <td>...</td>\n",
       "      <td>...</td>\n",
       "      <td>...</td>\n",
       "    </tr>\n",
       "    <tr>\n",
       "      <th>157</th>\n",
       "      <td>989</td>\n",
       "      <td>990PT</td>\n",
       "      <td>68.0</td>\n",
       "      <td>171</td>\n",
       "      <td>0</td>\n",
       "      <td>15.10</td>\n",
       "      <td>RH+AB</td>\n",
       "      <td>1</td>\n",
       "      <td>37</td>\n",
       "      <td>7</td>\n",
       "      <td>16.0</td>\n",
       "      <td>50.0</td>\n",
       "      <td>2155.3</td>\n",
       "      <td>Down</td>\n",
       "      <td>0</td>\n",
       "      <td>4</td>\n",
       "      <td>23.255019</td>\n",
       "      <td>정상 체중</td>\n",
       "    </tr>\n",
       "    <tr>\n",
       "      <th>158</th>\n",
       "      <td>992</td>\n",
       "      <td>993PT</td>\n",
       "      <td>68.0</td>\n",
       "      <td>169</td>\n",
       "      <td>0</td>\n",
       "      <td>13.60</td>\n",
       "      <td>RH+A</td>\n",
       "      <td>2</td>\n",
       "      <td>58</td>\n",
       "      <td>10</td>\n",
       "      <td>2.0</td>\n",
       "      <td>140.0</td>\n",
       "      <td>1912.1</td>\n",
       "      <td>Down</td>\n",
       "      <td>0</td>\n",
       "      <td>3</td>\n",
       "      <td>23.808690</td>\n",
       "      <td>정상 체중</td>\n",
       "    </tr>\n",
       "    <tr>\n",
       "      <th>159</th>\n",
       "      <td>1019</td>\n",
       "      <td>1020PT</td>\n",
       "      <td>57.0</td>\n",
       "      <td>162</td>\n",
       "      <td>0</td>\n",
       "      <td>13.10</td>\n",
       "      <td>RH+O</td>\n",
       "      <td>0</td>\n",
       "      <td>27</td>\n",
       "      <td>8</td>\n",
       "      <td>4.0</td>\n",
       "      <td>55.0</td>\n",
       "      <td>1257.5</td>\n",
       "      <td>Down</td>\n",
       "      <td>0</td>\n",
       "      <td>2</td>\n",
       "      <td>21.719250</td>\n",
       "      <td>정상 체중</td>\n",
       "    </tr>\n",
       "    <tr>\n",
       "      <th>160</th>\n",
       "      <td>1031</td>\n",
       "      <td>1032PT</td>\n",
       "      <td>50.0</td>\n",
       "      <td>152</td>\n",
       "      <td>0</td>\n",
       "      <td>11.00</td>\n",
       "      <td>RH+B</td>\n",
       "      <td>0</td>\n",
       "      <td>66</td>\n",
       "      <td>8</td>\n",
       "      <td>4.5</td>\n",
       "      <td>25.0</td>\n",
       "      <td>1583.8</td>\n",
       "      <td>Middle</td>\n",
       "      <td>0</td>\n",
       "      <td>2</td>\n",
       "      <td>21.641274</td>\n",
       "      <td>정상 체중</td>\n",
       "    </tr>\n",
       "    <tr>\n",
       "      <th>161</th>\n",
       "      <td>1216</td>\n",
       "      <td>1217PT</td>\n",
       "      <td>74.0</td>\n",
       "      <td>175</td>\n",
       "      <td>0</td>\n",
       "      <td>15.90</td>\n",
       "      <td>RH+A</td>\n",
       "      <td>3</td>\n",
       "      <td>46</td>\n",
       "      <td>3</td>\n",
       "      <td>1.0</td>\n",
       "      <td>45.0</td>\n",
       "      <td>2109.5</td>\n",
       "      <td>Middle</td>\n",
       "      <td>0</td>\n",
       "      <td>4</td>\n",
       "      <td>24.163265</td>\n",
       "      <td>정상 체중</td>\n",
       "    </tr>\n",
       "  </tbody>\n",
       "</table>\n",
       "<p>162 rows × 18 columns</p>\n",
       "</div>"
      ],
      "text/plain": [
       "     Unnamed: 0    환자ID    체중   신장  신부전여부  헤모글로빈수치    혈액형  과거수술횟수  연령  환자통증정도  \\\n",
       "0             0     1PT  60.3  163      0    13.66   RH+A       0  66      10   \n",
       "1             1     2PT  71.7  171      0    13.73   RH+A       0  47      10   \n",
       "2             3     4PT  74.2  174      0    15.38   RH+O       0  40       7   \n",
       "3            11    12PT  64.9  162      0    17.28   RH+O       0  65      10   \n",
       "4            15    16PT  75.6  176      0    15.05   RH+B       0  84       7   \n",
       "..          ...     ...   ...  ...    ...      ...    ...     ...  ..     ...   \n",
       "157         989   990PT  68.0  171      0    15.10  RH+AB       1  37       7   \n",
       "158         992   993PT  68.0  169      0    13.60   RH+A       2  58      10   \n",
       "159        1019  1020PT  57.0  162      0    13.10   RH+O       0  27       8   \n",
       "160        1031  1032PT  50.0  152      0    11.00   RH+B       0  66       8   \n",
       "161        1216  1217PT  74.0  175      0    15.90   RH+A       3  46       3   \n",
       "\n",
       "     통증기간(월)   수술시간  디스크단면적  척추이동척도  척추전방위증  입원기간        BMI BMI_categori  \n",
       "0        1.0   68.0  2048.5    Down       0     2  22.695623        정상 체중  \n",
       "1        1.0   31.0  1753.1      Up       0     1  24.520365        정상 체중  \n",
       "2        2.0   73.0  1796.2    Down       0     1  24.507861        정상 체중  \n",
       "3        1.0   49.0  2119.3  Middle       0     1  24.729462        정상 체중  \n",
       "4        1.0   42.0  2155.3    Down       0     1  24.405992        정상 체중  \n",
       "..       ...    ...     ...     ...     ...   ...        ...          ...  \n",
       "157     16.0   50.0  2155.3    Down       0     4  23.255019        정상 체중  \n",
       "158      2.0  140.0  1912.1    Down       0     3  23.808690        정상 체중  \n",
       "159      4.0   55.0  1257.5    Down       0     2  21.719250        정상 체중  \n",
       "160      4.5   25.0  1583.8  Middle       0     2  21.641274        정상 체중  \n",
       "161      1.0   45.0  2109.5  Middle       0     4  24.163265        정상 체중  \n",
       "\n",
       "[162 rows x 18 columns]"
      ]
     },
     "execution_count": 43,
     "metadata": {},
     "output_type": "execute_result"
    }
   ],
   "source": [
    "df_ROS_Q= pd.read_csv('../datasets/RecurrenceOfSurgery_exdata.csv')\n",
    "df_ROS_Q"
   ]
  },
  {
   "cell_type": "markdown",
   "id": "4e5f2f06-3920-4292-b731-926de7125a63",
   "metadata": {
    "tags": []
   },
   "source": [
    "### BMI \n",
    "- 통계적 가설 검정\n",
    "    - 귀무 가설: BMI와 입원기간은 상관관계가 없다.\n",
    "    - 대립 가설: BMI와 입원기간은 상관관계가 있다.\n",
    "\n",
    "- 분석결과: 주어진 데이터에 기반하여 수행한 통계적 분석 결과, BMI와 입원기간 간에는 유의한 상관관계가 없다. "
   ]
  },
  {
   "cell_type": "code",
   "execution_count": 44,
   "id": "abfa0518-8fba-4c8a-901c-07ac9927b0ec",
   "metadata": {
    "tags": []
   },
   "outputs": [],
   "source": [
    "df_ROS_BMI = df_ROS_Q[['입원기간','BMI']]"
   ]
  },
  {
   "cell_type": "code",
   "execution_count": 45,
   "id": "b18246f7-16fa-42e7-be95-9d4eeff8ba93",
   "metadata": {
    "tags": []
   },
   "outputs": [
    {
     "data": {
      "text/html": [
       "<div>\n",
       "<style scoped>\n",
       "    .dataframe tbody tr th:only-of-type {\n",
       "        vertical-align: middle;\n",
       "    }\n",
       "\n",
       "    .dataframe tbody tr th {\n",
       "        vertical-align: top;\n",
       "    }\n",
       "\n",
       "    .dataframe thead th {\n",
       "        text-align: right;\n",
       "    }\n",
       "</style>\n",
       "<table border=\"1\" class=\"dataframe\">\n",
       "  <thead>\n",
       "    <tr style=\"text-align: right;\">\n",
       "      <th></th>\n",
       "      <th>입원기간</th>\n",
       "      <th>BMI</th>\n",
       "    </tr>\n",
       "  </thead>\n",
       "  <tbody>\n",
       "    <tr>\n",
       "      <th>입원기간</th>\n",
       "      <td>1.000000</td>\n",
       "      <td>0.124863</td>\n",
       "    </tr>\n",
       "    <tr>\n",
       "      <th>BMI</th>\n",
       "      <td>0.124863</td>\n",
       "      <td>1.000000</td>\n",
       "    </tr>\n",
       "  </tbody>\n",
       "</table>\n",
       "</div>"
      ],
      "text/plain": [
       "          입원기간       BMI\n",
       "입원기간  1.000000  0.124863\n",
       "BMI   0.124863  1.000000"
      ]
     },
     "execution_count": 45,
     "metadata": {},
     "output_type": "execute_result"
    }
   ],
   "source": [
    "df_ROS_BMI.corr()"
   ]
  },
  {
   "cell_type": "code",
   "execution_count": 46,
   "id": "b0b2aa2a-28ef-48ea-ae6d-6607eda42154",
   "metadata": {
    "tags": []
   },
   "outputs": [
    {
     "data": {
      "text/plain": [
       "PearsonRResult(statistic=0.12486341549276461, pvalue=0.11338785688745626)"
      ]
     },
     "execution_count": 46,
     "metadata": {},
     "output_type": "execute_result"
    }
   ],
   "source": [
    "stats.pearsonr(df_ROS_BMI['입원기간'],df_ROS_BMI['BMI'])"
   ]
  },
  {
   "cell_type": "markdown",
   "id": "4c7efda6-5120-4fc1-af18-f53c8c558e7e",
   "metadata": {
    "tags": []
   },
   "source": [
    "### 신부전 여부"
   ]
  },
  {
   "cell_type": "code",
   "execution_count": 47,
   "id": "01452cd8-8ae8-4354-ba51-40ef8798016b",
   "metadata": {
    "tags": []
   },
   "outputs": [],
   "source": [
    "df_ROS_heart = df_ROS_Q[['입원기간','신부전여부']]"
   ]
  },
  {
   "cell_type": "code",
   "execution_count": 48,
   "id": "ed912f78-5e2d-4c66-aa99-9a7d898bd31e",
   "metadata": {
    "tags": []
   },
   "outputs": [
    {
     "data": {
      "text/html": [
       "<div>\n",
       "<style scoped>\n",
       "    .dataframe tbody tr th:only-of-type {\n",
       "        vertical-align: middle;\n",
       "    }\n",
       "\n",
       "    .dataframe tbody tr th {\n",
       "        vertical-align: top;\n",
       "    }\n",
       "\n",
       "    .dataframe thead th {\n",
       "        text-align: right;\n",
       "    }\n",
       "</style>\n",
       "<table border=\"1\" class=\"dataframe\">\n",
       "  <thead>\n",
       "    <tr style=\"text-align: right;\">\n",
       "      <th></th>\n",
       "      <th>입원기간</th>\n",
       "      <th>신부전여부</th>\n",
       "    </tr>\n",
       "  </thead>\n",
       "  <tbody>\n",
       "    <tr>\n",
       "      <th>입원기간</th>\n",
       "      <td>1.000000</td>\n",
       "      <td>-0.012871</td>\n",
       "    </tr>\n",
       "    <tr>\n",
       "      <th>신부전여부</th>\n",
       "      <td>-0.012871</td>\n",
       "      <td>1.000000</td>\n",
       "    </tr>\n",
       "  </tbody>\n",
       "</table>\n",
       "</div>"
      ],
      "text/plain": [
       "           입원기간     신부전여부\n",
       "입원기간   1.000000 -0.012871\n",
       "신부전여부 -0.012871  1.000000"
      ]
     },
     "execution_count": 48,
     "metadata": {},
     "output_type": "execute_result"
    }
   ],
   "source": [
    "df_ROS_heart.corr()"
   ]
  },
  {
   "cell_type": "code",
   "execution_count": 49,
   "id": "6f1cc442-2440-42a4-884e-14ff7becf41a",
   "metadata": {
    "tags": []
   },
   "outputs": [
    {
     "data": {
      "text/plain": [
       "PearsonRResult(statistic=-0.012871039932465963, pvalue=0.8708650734357269)"
      ]
     },
     "execution_count": 49,
     "metadata": {},
     "output_type": "execute_result"
    }
   ],
   "source": [
    "stats.pearsonr(df_ROS_heart['입원기간'],df_ROS_heart['신부전여부'])"
   ]
  },
  {
   "cell_type": "markdown",
   "id": "13cb76f0-edaf-4f30-a13f-97437e30157d",
   "metadata": {},
   "source": [
    "### 혈액형"
   ]
  },
  {
   "cell_type": "code",
   "execution_count": 62,
   "id": "8ba66b17-7f38-43d8-abbf-4684811b0af1",
   "metadata": {
    "tags": []
   },
   "outputs": [
    {
     "data": {
      "text/html": [
       "<div>\n",
       "<style scoped>\n",
       "    .dataframe tbody tr th:only-of-type {\n",
       "        vertical-align: middle;\n",
       "    }\n",
       "\n",
       "    .dataframe tbody tr th {\n",
       "        vertical-align: top;\n",
       "    }\n",
       "\n",
       "    .dataframe thead th {\n",
       "        text-align: right;\n",
       "    }\n",
       "</style>\n",
       "<table border=\"1\" class=\"dataframe\">\n",
       "  <thead>\n",
       "    <tr style=\"text-align: right;\">\n",
       "      <th></th>\n",
       "      <th>입원기간</th>\n",
       "      <th>혈액형</th>\n",
       "    </tr>\n",
       "  </thead>\n",
       "  <tbody>\n",
       "    <tr>\n",
       "      <th>0</th>\n",
       "      <td>2</td>\n",
       "      <td>RH+A</td>\n",
       "    </tr>\n",
       "    <tr>\n",
       "      <th>1</th>\n",
       "      <td>1</td>\n",
       "      <td>RH+A</td>\n",
       "    </tr>\n",
       "    <tr>\n",
       "      <th>2</th>\n",
       "      <td>1</td>\n",
       "      <td>RH+O</td>\n",
       "    </tr>\n",
       "    <tr>\n",
       "      <th>3</th>\n",
       "      <td>1</td>\n",
       "      <td>RH+O</td>\n",
       "    </tr>\n",
       "    <tr>\n",
       "      <th>4</th>\n",
       "      <td>1</td>\n",
       "      <td>RH+B</td>\n",
       "    </tr>\n",
       "    <tr>\n",
       "      <th>...</th>\n",
       "      <td>...</td>\n",
       "      <td>...</td>\n",
       "    </tr>\n",
       "    <tr>\n",
       "      <th>157</th>\n",
       "      <td>4</td>\n",
       "      <td>RH+AB</td>\n",
       "    </tr>\n",
       "    <tr>\n",
       "      <th>158</th>\n",
       "      <td>3</td>\n",
       "      <td>RH+A</td>\n",
       "    </tr>\n",
       "    <tr>\n",
       "      <th>159</th>\n",
       "      <td>2</td>\n",
       "      <td>RH+O</td>\n",
       "    </tr>\n",
       "    <tr>\n",
       "      <th>160</th>\n",
       "      <td>2</td>\n",
       "      <td>RH+B</td>\n",
       "    </tr>\n",
       "    <tr>\n",
       "      <th>161</th>\n",
       "      <td>4</td>\n",
       "      <td>RH+A</td>\n",
       "    </tr>\n",
       "  </tbody>\n",
       "</table>\n",
       "<p>162 rows × 2 columns</p>\n",
       "</div>"
      ],
      "text/plain": [
       "     입원기간    혈액형\n",
       "0       2   RH+A\n",
       "1       1   RH+A\n",
       "2       1   RH+O\n",
       "3       1   RH+O\n",
       "4       1   RH+B\n",
       "..    ...    ...\n",
       "157     4  RH+AB\n",
       "158     3   RH+A\n",
       "159     2   RH+O\n",
       "160     2   RH+B\n",
       "161     4   RH+A\n",
       "\n",
       "[162 rows x 2 columns]"
      ]
     },
     "execution_count": 62,
     "metadata": {},
     "output_type": "execute_result"
    }
   ],
   "source": [
    "df_ROS_ABO = df_ROS_Q[['입원기간','혈액형']]\n",
    "df_ROS_ABO"
   ]
  },
  {
   "cell_type": "markdown",
   "id": "7ab20b0e-cdf9-4ac0-bd4b-9f17f3f80f41",
   "metadata": {},
   "source": [
    "-> 이상치가 안나옴"
   ]
  },
  {
   "cell_type": "markdown",
   "id": "742b9ad0-1943-4932-8e81-484cd8eba3f9",
   "metadata": {
    "tags": []
   },
   "source": [
    "### 연령"
   ]
  },
  {
   "cell_type": "code",
   "execution_count": 63,
   "id": "a09a89d1-b359-4d82-a87c-d4726bc55385",
   "metadata": {
    "tags": []
   },
   "outputs": [],
   "source": [
    "df_ROS_age = df_ROS_Q[['입원기간','연령']]"
   ]
  },
  {
   "cell_type": "code",
   "execution_count": 64,
   "id": "ffefa83b-e792-47d3-a861-5c5b638f4b33",
   "metadata": {
    "tags": []
   },
   "outputs": [
    {
     "data": {
      "text/html": [
       "<div>\n",
       "<style scoped>\n",
       "    .dataframe tbody tr th:only-of-type {\n",
       "        vertical-align: middle;\n",
       "    }\n",
       "\n",
       "    .dataframe tbody tr th {\n",
       "        vertical-align: top;\n",
       "    }\n",
       "\n",
       "    .dataframe thead th {\n",
       "        text-align: right;\n",
       "    }\n",
       "</style>\n",
       "<table border=\"1\" class=\"dataframe\">\n",
       "  <thead>\n",
       "    <tr style=\"text-align: right;\">\n",
       "      <th></th>\n",
       "      <th>입원기간</th>\n",
       "      <th>연령</th>\n",
       "    </tr>\n",
       "  </thead>\n",
       "  <tbody>\n",
       "    <tr>\n",
       "      <th>입원기간</th>\n",
       "      <td>1.000000</td>\n",
       "      <td>0.072209</td>\n",
       "    </tr>\n",
       "    <tr>\n",
       "      <th>연령</th>\n",
       "      <td>0.072209</td>\n",
       "      <td>1.000000</td>\n",
       "    </tr>\n",
       "  </tbody>\n",
       "</table>\n",
       "</div>"
      ],
      "text/plain": [
       "          입원기간        연령\n",
       "입원기간  1.000000  0.072209\n",
       "연령    0.072209  1.000000"
      ]
     },
     "execution_count": 64,
     "metadata": {},
     "output_type": "execute_result"
    }
   ],
   "source": [
    "df_ROS_age.corr()"
   ]
  },
  {
   "cell_type": "code",
   "execution_count": 66,
   "id": "60115cca-e18f-4bbe-b493-f75f2d4f14af",
   "metadata": {
    "tags": []
   },
   "outputs": [
    {
     "data": {
      "text/plain": [
       "PearsonRResult(statistic=0.07220930679892429, pvalue=0.3611635280796103)"
      ]
     },
     "execution_count": 66,
     "metadata": {},
     "output_type": "execute_result"
    }
   ],
   "source": [
    "stats.pearsonr(df_ROS_age['입원기간'],df_ROS_age['연령'])"
   ]
  },
  {
   "cell_type": "markdown",
   "id": "e78da2c5-684b-4d7d-9427-18d77c7d810d",
   "metadata": {},
   "source": [
    "### 헤모글로빈수치"
   ]
  },
  {
   "cell_type": "code",
   "execution_count": 67,
   "id": "8c2c8356-766c-4a4f-b3e6-015c3e899a96",
   "metadata": {
    "tags": []
   },
   "outputs": [],
   "source": [
    "df_ROS_hemo = df_ROS_Q[['입원기간','헤모글로빈수치']]"
   ]
  },
  {
   "cell_type": "code",
   "execution_count": 68,
   "id": "ca96dd84-fb2c-4988-9a8c-b5f34dca2df2",
   "metadata": {
    "tags": []
   },
   "outputs": [
    {
     "data": {
      "text/html": [
       "<div>\n",
       "<style scoped>\n",
       "    .dataframe tbody tr th:only-of-type {\n",
       "        vertical-align: middle;\n",
       "    }\n",
       "\n",
       "    .dataframe tbody tr th {\n",
       "        vertical-align: top;\n",
       "    }\n",
       "\n",
       "    .dataframe thead th {\n",
       "        text-align: right;\n",
       "    }\n",
       "</style>\n",
       "<table border=\"1\" class=\"dataframe\">\n",
       "  <thead>\n",
       "    <tr style=\"text-align: right;\">\n",
       "      <th></th>\n",
       "      <th>입원기간</th>\n",
       "      <th>헤모글로빈수치</th>\n",
       "    </tr>\n",
       "  </thead>\n",
       "  <tbody>\n",
       "    <tr>\n",
       "      <th>입원기간</th>\n",
       "      <td>1.000000</td>\n",
       "      <td>-0.029182</td>\n",
       "    </tr>\n",
       "    <tr>\n",
       "      <th>헤모글로빈수치</th>\n",
       "      <td>-0.029182</td>\n",
       "      <td>1.000000</td>\n",
       "    </tr>\n",
       "  </tbody>\n",
       "</table>\n",
       "</div>"
      ],
      "text/plain": [
       "             입원기간   헤모글로빈수치\n",
       "입원기간     1.000000 -0.029182\n",
       "헤모글로빈수치 -0.029182  1.000000"
      ]
     },
     "execution_count": 68,
     "metadata": {},
     "output_type": "execute_result"
    }
   ],
   "source": [
    "df_ROS_hemo.corr()"
   ]
  },
  {
   "cell_type": "code",
   "execution_count": 69,
   "id": "5186924c-811c-4449-8c6e-3f5e85471f2b",
   "metadata": {
    "tags": []
   },
   "outputs": [
    {
     "data": {
      "text/plain": [
       "PearsonRResult(statistic=-0.02918245749854092, pvalue=0.7124002786970293)"
      ]
     },
     "execution_count": 69,
     "metadata": {},
     "output_type": "execute_result"
    }
   ],
   "source": [
    "stats.pearsonr(df_ROS_hemo['입원기간'],df_ROS_hemo['헤모글로빈수치'])"
   ]
  },
  {
   "cell_type": "markdown",
   "id": "718d50ed-8c45-4097-80da-17d678af1662",
   "metadata": {},
   "source": [
    "### pvalue 분석결과\n",
    "- 헤모글로빈수치 : 0.7124002786970293\n",
    "- 연령 : 0.3611635280796103\n",
    "- 혈액형 : x \n",
    "- 신부전여부 : 0.8708650734357269\n",
    "- BMI : 0.11338785688745626"
   ]
  },
  {
   "cell_type": "code",
   "execution_count": null,
   "id": "ec9a2f28-a758-4d2e-883e-1d4a38d0f7dc",
   "metadata": {},
   "outputs": [],
   "source": []
  }
 ],
 "metadata": {
  "kernelspec": {
   "display_name": "Python 3 (ipykernel)",
   "language": "python",
   "name": "python3"
  },
  "language_info": {
   "codemirror_mode": {
    "name": "ipython",
    "version": 3
   },
   "file_extension": ".py",
   "mimetype": "text/x-python",
   "name": "python",
   "nbconvert_exporter": "python",
   "pygments_lexer": "ipython3",
   "version": "3.11.4"
  }
 },
 "nbformat": 4,
 "nbformat_minor": 5
}
