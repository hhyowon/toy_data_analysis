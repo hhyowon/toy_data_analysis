{
 "cells": [
  {
   "cell_type": "code",
   "execution_count": 2,
   "id": "d5438be7-8e91-4d6d-957d-2df4187d37ed",
   "metadata": {
    "tags": []
   },
   "outputs": [],
   "source": [
    "import matplotlib.pyplot as plt\n",
    "import matplotlib as mpl \n",
    "mpl.rc('font',family='Malgun Gothic')\n",
    "import seaborn as sns\n",
    "import pandas as pd\n",
    "import scipy.stats as stats"
   ]
  },
  {
   "cell_type": "code",
   "execution_count": 3,
   "id": "6254aa89-71c6-46f4-afe5-b1e4b1289a82",
   "metadata": {
    "tags": []
   },
   "outputs": [
    {
     "data": {
      "text/plain": [
       "Index(['Unnamed: 0', 'EDC_SBA', 'OPRTN_YN', 'MDCARE_DD_CNT', 'BTH_YYYY',\n",
       "       'MCARE_RSLT_TYPE', 'VSHSP_DD_CNT', 'EDC_ADD_RT'],\n",
       "      dtype='object')"
      ]
     },
     "execution_count": 3,
     "metadata": {},
     "output_type": "execute_result"
    }
   ],
   "source": [
    "df_I10= pd.read_csv('../../datasets/Join_Collection_NSC2_BND_M20.csv')\n",
    "df_I10.columns"
   ]
  },
  {
   "cell_type": "code",
   "execution_count": 7,
   "id": "f6d8ac84-b2e6-462d-a6ae-13a944badc42",
   "metadata": {
    "tags": []
   },
   "outputs": [
    {
     "data": {
      "text/html": [
       "<div>\n",
       "<style scoped>\n",
       "    .dataframe tbody tr th:only-of-type {\n",
       "        vertical-align: middle;\n",
       "    }\n",
       "\n",
       "    .dataframe tbody tr th {\n",
       "        vertical-align: top;\n",
       "    }\n",
       "\n",
       "    .dataframe thead th {\n",
       "        text-align: right;\n",
       "    }\n",
       "</style>\n",
       "<table border=\"1\" class=\"dataframe\">\n",
       "  <thead>\n",
       "    <tr style=\"text-align: right;\">\n",
       "      <th></th>\n",
       "      <th>MDCARE_STRT_DT</th>\n",
       "      <th>MCARE_SUBJ_CD</th>\n",
       "      <th>ED_RC_TOT_AMT</th>\n",
       "    </tr>\n",
       "  </thead>\n",
       "  <tbody>\n",
       "    <tr>\n",
       "      <th>0</th>\n",
       "      <td>20020710</td>\n",
       "      <td>1</td>\n",
       "      <td>7570</td>\n",
       "    </tr>\n",
       "    <tr>\n",
       "      <th>1</th>\n",
       "      <td>20020805</td>\n",
       "      <td>1</td>\n",
       "      <td>18160</td>\n",
       "    </tr>\n",
       "    <tr>\n",
       "      <th>2</th>\n",
       "      <td>20021017</td>\n",
       "      <td>1</td>\n",
       "      <td>7570</td>\n",
       "    </tr>\n",
       "    <tr>\n",
       "      <th>3</th>\n",
       "      <td>20071008</td>\n",
       "      <td>23</td>\n",
       "      <td>14200</td>\n",
       "    </tr>\n",
       "    <tr>\n",
       "      <th>4</th>\n",
       "      <td>20040312</td>\n",
       "      <td>1</td>\n",
       "      <td>7310</td>\n",
       "    </tr>\n",
       "    <tr>\n",
       "      <th>...</th>\n",
       "      <td>...</td>\n",
       "      <td>...</td>\n",
       "      <td>...</td>\n",
       "    </tr>\n",
       "    <tr>\n",
       "      <th>4624</th>\n",
       "      <td>20051220</td>\n",
       "      <td>1</td>\n",
       "      <td>9050</td>\n",
       "    </tr>\n",
       "    <tr>\n",
       "      <th>4625</th>\n",
       "      <td>20050614</td>\n",
       "      <td>1</td>\n",
       "      <td>9050</td>\n",
       "    </tr>\n",
       "    <tr>\n",
       "      <th>4626</th>\n",
       "      <td>20050716</td>\n",
       "      <td>1</td>\n",
       "      <td>9050</td>\n",
       "    </tr>\n",
       "    <tr>\n",
       "      <th>4627</th>\n",
       "      <td>20060123</td>\n",
       "      <td>1</td>\n",
       "      <td>9380</td>\n",
       "    </tr>\n",
       "    <tr>\n",
       "      <th>4628</th>\n",
       "      <td>20101125</td>\n",
       "      <td>1</td>\n",
       "      <td>12280</td>\n",
       "    </tr>\n",
       "  </tbody>\n",
       "</table>\n",
       "<p>4629 rows × 3 columns</p>\n",
       "</div>"
      ],
      "text/plain": [
       "      MDCARE_STRT_DT  MCARE_SUBJ_CD  ED_RC_TOT_AMT\n",
       "0           20020710              1           7570\n",
       "1           20020805              1          18160\n",
       "2           20021017              1           7570\n",
       "3           20071008             23          14200\n",
       "4           20040312              1           7310\n",
       "...              ...            ...            ...\n",
       "4624        20051220              1           9050\n",
       "4625        20050614              1           9050\n",
       "4626        20050716              1           9050\n",
       "4627        20060123              1           9380\n",
       "4628        20101125              1          12280\n",
       "\n",
       "[4629 rows x 3 columns]"
      ]
     },
     "execution_count": 7,
     "metadata": {},
     "output_type": "execute_result"
    }
   ],
   "source": [
    "df_I10_Goni = df_I10[['MDCARE_STRT_DT','MCARE_SUBJ_CD','ED_RC_TOT_AMT',]]\n",
    "df_I10_Goni"
   ]
  },
  {
   "cell_type": "markdown",
   "id": "3762e009-77e2-4f52-8516-b6233a331c01",
   "metadata": {
    "tags": []
   },
   "source": [
    "## 목표변수 검증 \n",
    "\n",
    "Y : 연속형 : 단일 변수에 대한 정규성 여부 판단\n",
    "\n",
    "    - 검증 갯수 따른 방법 선택 (레코드 갯수)\n",
    "        - 5천개보다 이하 : shapiro normality test\n",
    "        - 5천개보다 이상 : Anderson normality test\n",
    "\n",
    "선정 변수: 입원기간\n",
    "    \n",
    "    - 분석 내용 : 진료를 받기 시작한 일자가 정규 분포를 따르는가?\n",
    "        - 귀무가설 : 진료를 받기 시작한 일자는 정규 분포이다.\n",
    "        - 대립가설 : 진료를 받기 시작한 일자는 정규 분포가 아니다.\n",
    "\n",
    "    - 분석결론 (기준:p-value 0.05) / P.value < 0.05 : 대립 참\n",
    "        - 통계 결론 : pvalue=0.0이므로 대립가설 참\n",
    "        - 사실 결론 :  정규 분포가 아니다.\n",
    "        ShapiroResult(statistic=0.9307956695556641, pvalue=5.97233405495237e-42)"
   ]
  },
  {
   "cell_type": "code",
   "execution_count": 8,
   "id": "b30fc98d-9a99-432f-8aed-52395ee639e1",
   "metadata": {
    "tags": []
   },
   "outputs": [
    {
     "data": {
      "text/plain": [
       "MDCARE_STRT_DT    0\n",
       "MCARE_SUBJ_CD     0\n",
       "ED_RC_TOT_AMT     0\n",
       "dtype: int64"
      ]
     },
     "execution_count": 8,
     "metadata": {},
     "output_type": "execute_result"
    }
   ],
   "source": [
    "df_I10_Goni.isnull().sum()"
   ]
  },
  {
   "cell_type": "code",
   "execution_count": 9,
   "id": "cc525ba2-9c5b-4fbe-831e-cec2e97ff20d",
   "metadata": {
    "tags": []
   },
   "outputs": [
    {
     "data": {
      "text/plain": [
       "ShapiroResult(statistic=0.9307956695556641, pvalue=5.97233405495237e-42)"
      ]
     },
     "execution_count": 9,
     "metadata": {},
     "output_type": "execute_result"
    }
   ],
   "source": [
    "stats.shapiro(df_I10_Goni['MDCARE_STRT_DT'])"
   ]
  },
  {
   "cell_type": "markdown",
   "id": "329ad819-b0cf-4763-aef7-9b3e8266a73e",
   "metadata": {
    "tags": []
   },
   "source": [
    "## 설명변수 검증\n",
    "- 'MCARE_SUBJ_CD','ED_RC_TOT_AMT'"
   ]
  },
  {
   "cell_type": "markdown",
   "id": "01e5fc59-b6aa-4676-8b53-7b3041c781b3",
   "metadata": {
    "tags": []
   },
   "source": [
    "### X : 연속형 / Y : 연속형 : 주로 상관관계 확인에서 사용\n",
    "    - correlation coefficient(상관계수)\n",
    "    - 1 ~ 1\n",
    "    - 0에 가까우면 관계없음, -1로 갈수록 반비례, 1로 갈수로 정비례"
   ]
  },
  {
   "cell_type": "code",
   "execution_count": 10,
   "id": "88a0120d-10a4-489d-84ec-e18d757f8d78",
   "metadata": {
    "tags": []
   },
   "outputs": [
    {
     "data": {
      "text/html": [
       "<div>\n",
       "<style scoped>\n",
       "    .dataframe tbody tr th:only-of-type {\n",
       "        vertical-align: middle;\n",
       "    }\n",
       "\n",
       "    .dataframe tbody tr th {\n",
       "        vertical-align: top;\n",
       "    }\n",
       "\n",
       "    .dataframe thead th {\n",
       "        text-align: right;\n",
       "    }\n",
       "</style>\n",
       "<table border=\"1\" class=\"dataframe\">\n",
       "  <thead>\n",
       "    <tr style=\"text-align: right;\">\n",
       "      <th></th>\n",
       "      <th>MDCARE_STRT_DT</th>\n",
       "      <th>ED_RC_TOT_AMT</th>\n",
       "    </tr>\n",
       "  </thead>\n",
       "  <tbody>\n",
       "    <tr>\n",
       "      <th>MDCARE_STRT_DT</th>\n",
       "      <td>1.000000</td>\n",
       "      <td>0.021376</td>\n",
       "    </tr>\n",
       "    <tr>\n",
       "      <th>ED_RC_TOT_AMT</th>\n",
       "      <td>0.021376</td>\n",
       "      <td>1.000000</td>\n",
       "    </tr>\n",
       "  </tbody>\n",
       "</table>\n",
       "</div>"
      ],
      "text/plain": [
       "                MDCARE_STRT_DT  ED_RC_TOT_AMT\n",
       "MDCARE_STRT_DT        1.000000       0.021376\n",
       "ED_RC_TOT_AMT         0.021376       1.000000"
      ]
     },
     "execution_count": 10,
     "metadata": {},
     "output_type": "execute_result"
    }
   ],
   "source": [
    "df_I10_Goni[['MDCARE_STRT_DT','ED_RC_TOT_AMT']].corr()"
   ]
  },
  {
   "cell_type": "markdown",
   "id": "2ddc6247-e604-4858-8a2e-2bd2f9712871",
   "metadata": {},
   "source": [
    "#### 선정 변수: 'MDCARE_STRT_DT'(진료시작일), 'ED_RC_TOT_AMT'(총요양급여비용) \n",
    "- 분석 내용 : 진료를 받기 시작한 일자에 따라서 건강보험 총요양급여비용이 차이가 있나?\n",
    "    - 귀무가설 : 시작일 따라서 비용차이가 없다.\n",
    "    - 대립가설 : 시작일 따라서 비용차이가 있다.\n",
    "- 분석결론 (기준:p-value 0.05) / P.value < 0.05 : 대립 참\n",
    "    - 통계 결론 : 대립가설 참, 상관계수 관계 없음\n",
    "    - 사실 결론 : 시작일에 따라서 비용차이가 있다. \n",
    "    (statistic=0.15384942352278172, pvalue=6.464904762600991e-26)\n",
    "    \n",
    "- PS : 사실 시작일과 치료기간에 따라서 건강보험 총요양급여비용이 차이가 있나?를 비교하려고 했는데 컬럼 이해를 잘못해서.. 되돌릴 수 없었다..."
   ]
  },
  {
   "cell_type": "code",
   "execution_count": 11,
   "id": "e321bb7f-52b2-4ba8-b2e3-abda574ca519",
   "metadata": {
    "tags": []
   },
   "outputs": [
    {
     "data": {
      "text/plain": [
       "SignificanceResult(statistic=0.15384942352278172, pvalue=6.464904762600991e-26)"
      ]
     },
     "execution_count": 11,
     "metadata": {},
     "output_type": "execute_result"
    }
   ],
   "source": [
    "# 컬럼 중 하나라도 비정규 분포이면 사용\n",
    "stats.spearmanr(df_I10_Goni['MDCARE_STRT_DT'], df_I10_Goni['ED_RC_TOT_AMT'])"
   ]
  },
  {
   "cell_type": "markdown",
   "id": "8da07be9-8e8c-4b2e-94b8-6645e380f3f0",
   "metadata": {},
   "source": [
    "### X : 범주형 / Y : 연속형 : 범주형 상관관계 확인. Wilcoxon TEST"
   ]
  },
  {
   "cell_type": "markdown",
   "id": "a3972c89-8298-476f-8ba6-1a05c33be38a",
   "metadata": {},
   "source": [
    "#### 선정 변수: 'MDCARE_STRT_DT'(진료시작일),'MCARE_SUBJ_CD'(진료과목)\n",
    "\n",
    "- 분석 내용 : 진료를 받기 시작한 일자에 따라서 실제 진료를 받은 진료과목이 차이가 있나?\n",
    "    - 귀무가설 : 시작일 따라서 실제 진료를 받은 진료과목 차이가  없다.\n",
    "    - 대립가설 : 시작일 따라서 실제 진료를 받은 진료과목 차이가 있다.\n",
    "- 분석결론 (기준:p-value 0.05) / P.value < 0.05 : 대립 참\n",
    "    - 통계 결론 : 대립가설 참, 상관계수 관계 없음\n",
    "    - 사실 결론 : 시작일에 따라서 비용차이가 있다. \n"
   ]
  },
  {
   "cell_type": "code",
   "execution_count": 12,
   "id": "a556c97c-4a58-4c17-a581-7727385ab303",
   "metadata": {
    "tags": []
   },
   "outputs": [
    {
     "data": {
      "image/png": "[encoded data removed]",
      "text/plain": [
       "<Figure size 640x480 with 1 Axes>"
      ]
     },
     "metadata": {},
     "output_type": "display_data"
    }
   ],
   "source": [
    "sns.countplot(data=df_I10_Goni, x='MCARE_SUBJ_CD')\n",
    "plt.savefig(\"MCARE_SUBJ_CD.png\")"
   ]
  },
  {
   "cell_type": "code",
   "execution_count": 13,
   "id": "9378f0b6-9247-4b76-855a-f59c9fd7f8d1",
   "metadata": {
    "tags": []
   },
   "outputs": [
    {
     "data": {
      "text/plain": [
       "1     3875\n",
       "0      415\n",
       "23     160\n",
       "5       86\n",
       "2       29\n",
       "6       19\n",
       "19      19\n",
       "21      15\n",
       "3        5\n",
       "4        3\n",
       "24       3\n",
       "Name: MCARE_SUBJ_CD, dtype: int64"
      ]
     },
     "execution_count": 13,
     "metadata": {},
     "output_type": "execute_result"
    }
   ],
   "source": [
    "df_I10_Goni['MCARE_SUBJ_CD'].value_counts()"
   ]
  },
  {
   "cell_type": "code",
   "execution_count": 14,
   "id": "86f19c6c-1000-4c60-882e-8cca8c8a7651",
   "metadata": {
    "tags": []
   },
   "outputs": [
    {
     "name": "stderr",
     "output_type": "stream",
     "text": [
      "C:\\Users\\01-10\\AppData\\Local\\Temp\\ipykernel_5472\\1640152481.py:1: SettingWithCopyWarning: \n",
      "A value is trying to be set on a copy of a slice from a DataFrame.\n",
      "Try using .loc[row_indexer,col_indexer] = value instead\n",
      "\n",
      "See the caveats in the documentation: https://pandas.pydata.org/pandas-docs/stable/user_guide/indexing.html#returning-a-view-versus-a-copy\n",
      "  df_I10_Goni['MCARE_SUBJ_CD']=df_I10_Goni['MCARE_SUBJ_CD'].astype(object)\n"
     ]
    }
   ],
   "source": [
    "df_I10_Goni['MCARE_SUBJ_CD']=df_I10_Goni['MCARE_SUBJ_CD'].astype(object)"
   ]
  },
  {
   "cell_type": "code",
   "execution_count": 15,
   "id": "2386dd3a-a568-4644-a978-ddfab63abec1",
   "metadata": {
    "tags": []
   },
   "outputs": [
    {
     "name": "stdout",
     "output_type": "stream",
     "text": [
      "<class 'pandas.core.frame.DataFrame'>\n",
      "RangeIndex: 4629 entries, 0 to 4628\n",
      "Data columns (total 3 columns):\n",
      " #   Column          Non-Null Count  Dtype \n",
      "---  ------          --------------  ----- \n",
      " 0   MDCARE_STRT_DT  4629 non-null   int64 \n",
      " 1   MCARE_SUBJ_CD   4629 non-null   object\n",
      " 2   ED_RC_TOT_AMT   4629 non-null   int64 \n",
      "dtypes: int64(2), object(1)\n",
      "memory usage: 108.6+ KB\n"
     ]
    }
   ],
   "source": [
    "df_I10_Goni.info()"
   ]
  },
  {
   "cell_type": "code",
   "execution_count": 16,
   "id": "e0638b3e-0691-4a9f-86eb-89c4a07aa817",
   "metadata": {
    "tags": []
   },
   "outputs": [
    {
     "data": {
      "text/plain": [
       "[1, 0, 23, 5, 2, 6, 19, 21, 3, 4, 24]"
      ]
     },
     "execution_count": 16,
     "metadata": {},
     "output_type": "execute_result"
    }
   ],
   "source": [
    "channel_list = df_I10_Goni['MCARE_SUBJ_CD'].value_counts().index.to_list()\n",
    "channel_list "
   ]
  },
  {
   "cell_type": "code",
   "execution_count": 18,
   "id": "085b1168-ec72-42ab-a5a2-ee9f0c2a62f5",
   "metadata": {},
   "outputs": [
    {
     "ename": "NameError",
     "evalue": "name 'df_channel4_amount' is not defined",
     "output_type": "error",
     "traceback": [
      "\u001b[1;31m---------------------------------------------------------------------------\u001b[0m",
      "\u001b[1;31mNameError\u001b[0m                                 Traceback (most recent call last)",
      "Cell \u001b[1;32mIn[18], line 4\u001b[0m\n\u001b[0;32m      2\u001b[0m \u001b[38;5;28;01mfor\u001b[39;00m item \u001b[38;5;129;01min\u001b[39;00m channel_list :\n\u001b[0;32m      3\u001b[0m     condition \u001b[38;5;241m=\u001b[39m (df_result \u001b[38;5;241m==\u001b[39m item)\n\u001b[1;32m----> 4\u001b[0m     df_result\u001b[38;5;241m.\u001b[39mappend(df_channel4_amount[condition])\n",
      "\u001b[1;31mNameError\u001b[0m: name 'df_channel4_amount' is not defined"
     ]
    }
   ],
   "source": [
    "df_result = []  # list()\n",
    "for item in channel_list :\n",
    "    condition = (df_result == item)\n",
    "    df_result.append(df_channel4_amount[condition]) #list index에 DF으로 들어감\n",
    "    "
   ]
  },
  {
   "cell_type": "code",
   "execution_count": null,
   "id": "2a257025-8e3f-4c3d-aa3f-450a4f6c48f8",
   "metadata": {},
   "outputs": [],
   "source": [
    "stats.kruskal(df_I10_Goni[0]['MDCARE_STRT_DT'],df_result[1]['amount'],df_result[2]['amount'],df_result[3]['amount'])"
   ]
  }
 ],
 "metadata": {
  "kernelspec": {
   "display_name": "Python 3 (ipykernel)",
   "language": "python",
   "name": "python3"
  },
  "language_info": {
   "codemirror_mode": {
    "name": "ipython",
    "version": 3
   },
   "file_extension": ".py",
   "mimetype": "text/x-python",
   "name": "python",
   "nbconvert_exporter": "python",
   "pygments_lexer": "ipython3",
   "version": "3.11.4"
  }
 },
 "nbformat": 4,
 "nbformat_minor": 5
}
