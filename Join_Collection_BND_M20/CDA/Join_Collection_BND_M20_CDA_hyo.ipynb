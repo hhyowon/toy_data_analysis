{
 "cells": [
  {
   "cell_type": "code",
   "execution_count": 1,
   "id": "7149c394-1d09-4bea-87e8-154bb8037b4e",
   "metadata": {
    "tags": []
   },
   "outputs": [],
   "source": [
    "import matplotlib.pyplot as plt\n",
    "import matplotlib as mpl \n",
    "mpl.rc('font',family='Malgun Gothic')\n",
    "import seaborn as sns\n",
    "import pandas as pd\n",
    "import numpy as np\n",
    "import scipy.stats as stats"
   ]
  },
  {
   "cell_type": "code",
   "execution_count": 2,
   "id": "8caacf59-7354-4cac-9142-e9c9aaff8bd7",
   "metadata": {
    "tags": []
   },
   "outputs": [
    {
     "data": {
      "text/plain": [
       "Index(['Unnamed: 0', 'EDC_SBA', 'OPRTN_YN', 'MDCARE_DD_CNT', 'BTH_YYYY',\n",
       "       'MCARE_RSLT_TYPE', 'VSHSP_DD_CNT', 'EDC_ADD_RT'],\n",
       "      dtype='object')"
      ]
     },
     "execution_count": 2,
     "metadata": {},
     "output_type": "execute_result"
    }
   ],
   "source": [
    "df_I10= pd.read_csv('../../datasets/Join_Collection_NSC2_BND_M20.csv')\n",
    "df_I10.columns"
   ]
  },
  {
   "cell_type": "code",
   "execution_count": 3,
   "id": "6cd5e194-0a47-4549-9e1d-4e855b9dcb84",
   "metadata": {
    "tags": []
   },
   "outputs": [
    {
     "data": {
      "text/html": [
       "<div>\n",
       "<style scoped>\n",
       "    .dataframe tbody tr th:only-of-type {\n",
       "        vertical-align: middle;\n",
       "    }\n",
       "\n",
       "    .dataframe tbody tr th {\n",
       "        vertical-align: top;\n",
       "    }\n",
       "\n",
       "    .dataframe thead th {\n",
       "        text-align: right;\n",
       "    }\n",
       "</style>\n",
       "<table border=\"1\" class=\"dataframe\">\n",
       "  <thead>\n",
       "    <tr style=\"text-align: right;\">\n",
       "      <th></th>\n",
       "      <th>EDC_SBA</th>\n",
       "      <th>OPRTN_YN</th>\n",
       "      <th>VSHSP_DD_CNT</th>\n",
       "      <th>BTH_YYYY</th>\n",
       "    </tr>\n",
       "  </thead>\n",
       "  <tbody>\n",
       "    <tr>\n",
       "      <th>0</th>\n",
       "      <td>3000</td>\n",
       "      <td>0</td>\n",
       "      <td>1</td>\n",
       "      <td>1921LE</td>\n",
       "    </tr>\n",
       "    <tr>\n",
       "      <th>1</th>\n",
       "      <td>6000</td>\n",
       "      <td>0</td>\n",
       "      <td>2</td>\n",
       "      <td>1921LE</td>\n",
       "    </tr>\n",
       "    <tr>\n",
       "      <th>2</th>\n",
       "      <td>3000</td>\n",
       "      <td>0</td>\n",
       "      <td>1</td>\n",
       "      <td>1921LE</td>\n",
       "    </tr>\n",
       "    <tr>\n",
       "      <th>3</th>\n",
       "      <td>4200</td>\n",
       "      <td>0</td>\n",
       "      <td>1</td>\n",
       "      <td>1921LE</td>\n",
       "    </tr>\n",
       "    <tr>\n",
       "      <th>4</th>\n",
       "      <td>1500</td>\n",
       "      <td>0</td>\n",
       "      <td>1</td>\n",
       "      <td>1921LE</td>\n",
       "    </tr>\n",
       "    <tr>\n",
       "      <th>...</th>\n",
       "      <td>...</td>\n",
       "      <td>...</td>\n",
       "      <td>...</td>\n",
       "      <td>...</td>\n",
       "    </tr>\n",
       "    <tr>\n",
       "      <th>4200</th>\n",
       "      <td>3000</td>\n",
       "      <td>0</td>\n",
       "      <td>1</td>\n",
       "      <td>2005</td>\n",
       "    </tr>\n",
       "    <tr>\n",
       "      <th>4201</th>\n",
       "      <td>3000</td>\n",
       "      <td>0</td>\n",
       "      <td>1</td>\n",
       "      <td>2005</td>\n",
       "    </tr>\n",
       "    <tr>\n",
       "      <th>4202</th>\n",
       "      <td>3000</td>\n",
       "      <td>0</td>\n",
       "      <td>1</td>\n",
       "      <td>2005</td>\n",
       "    </tr>\n",
       "    <tr>\n",
       "      <th>4203</th>\n",
       "      <td>3000</td>\n",
       "      <td>0</td>\n",
       "      <td>1</td>\n",
       "      <td>2005</td>\n",
       "    </tr>\n",
       "    <tr>\n",
       "      <th>4204</th>\n",
       "      <td>1500</td>\n",
       "      <td>0</td>\n",
       "      <td>1</td>\n",
       "      <td>2005</td>\n",
       "    </tr>\n",
       "  </tbody>\n",
       "</table>\n",
       "<p>4205 rows × 4 columns</p>\n",
       "</div>"
      ],
      "text/plain": [
       "      EDC_SBA  OPRTN_YN  VSHSP_DD_CNT BTH_YYYY\n",
       "0        3000         0             1   1921LE\n",
       "1        6000         0             2   1921LE\n",
       "2        3000         0             1   1921LE\n",
       "3        4200         0             1   1921LE\n",
       "4        1500         0             1   1921LE\n",
       "...       ...       ...           ...      ...\n",
       "4200     3000         0             1     2005\n",
       "4201     3000         0             1     2005\n",
       "4202     3000         0             1     2005\n",
       "4203     3000         0             1     2005\n",
       "4204     1500         0             1     2005\n",
       "\n",
       "[4205 rows x 4 columns]"
      ]
     },
     "execution_count": 3,
     "metadata": {},
     "output_type": "execute_result"
    }
   ],
   "source": [
    "df_I10_h = df_I10[['EDC_SBA','OPRTN_YN','VSHSP_DD_CNT','BTH_YYYY']]\n",
    "df_I10_h  #분석할 컬럼들만 추출"
   ]
  },
  {
   "cell_type": "markdown",
   "id": "343dc3ec-004f-40b1-850b-8dcc5179800c",
   "metadata": {},
   "source": [
    "## 목표변수 검증\n",
    "\n",
    "Y : 연속형 : 단일 변수에 대한 정규성 여부 판단\n",
    "\n",
    "    - 검증 갯수 따른 방법 선택 (레코드 갯수)\n",
    "        - 5천개보다 이하 : shapiro normality test\n",
    "        - 5천개보다 이상 : Anderson normality test\n",
    "\n",
    "선정 변수: EDC_SBA (심결본인부담금)\n",
    "    \n",
    "   - 분석 내용 : EDC_SBA (심결본인부담금 가 정규 분포를 따르는가?\n",
    "        - 귀무가설 : EDC_SBA (심결본인부담금)가 정규 분포이다.\n",
    "        - 대립가설 : EDC_SBA (심결본인부담금)가 정규 분포가 아니다.\n",
    "\n",
    "    - 분석결론 (기준:p-value 0.05) / P.value < 0.05 : 대립 참\n",
    "        - 통계 결론 : pvalue=0.0이므로 대립가설 참\n",
    "        - 사실 결론 : 심결본인부담금 (EDC_SBA)가 정규 분포가 아니다."
   ]
  },
  {
   "cell_type": "code",
   "execution_count": 33,
   "id": "6fbf9086-e989-430b-8593-caa256514e21",
   "metadata": {
    "tags": []
   },
   "outputs": [
    {
     "data": {
      "image/png": "[encoded data removed]",
      "text/plain": [
       "<Figure size 640x480 with 1 Axes>"
      ]
     },
     "metadata": {},
     "output_type": "display_data"
    },
    {
     "data": {
      "text/plain": [
       "<Figure size 640x480 with 0 Axes>"
      ]
     },
     "metadata": {},
     "output_type": "display_data"
    }
   ],
   "source": [
    "sns.histplot(data=df_I10_h, x='EDC_SBA', kde=True)\n",
    "plt.title(\"심결본인부담금\")\n",
    "plt.show()\n",
    "plt.savefig(\"심결본인부담금.png\")"
   ]
  },
  {
   "cell_type": "code",
   "execution_count": 8,
   "id": "be7dfe13-faea-4885-8898-ed74450b8004",
   "metadata": {
    "tags": []
   },
   "outputs": [
    {
     "data": {
      "text/plain": [
       "4205"
      ]
     },
     "execution_count": 8,
     "metadata": {},
     "output_type": "execute_result"
    }
   ],
   "source": [
    "df_I10_h['EDC_SBA'].count()"
   ]
  },
  {
   "cell_type": "code",
   "execution_count": 9,
   "id": "a65e4bf4-ebfb-4352-8606-f99c5d5739ce",
   "metadata": {
    "tags": []
   },
   "outputs": [
    {
     "data": {
      "text/plain": [
       "ShapiroResult(statistic=0.11326897144317627, pvalue=0.0)"
      ]
     },
     "execution_count": 9,
     "metadata": {},
     "output_type": "execute_result"
    }
   ],
   "source": [
    "stats.shapiro(df_I10_h['EDC_SBA'])\n",
    "\n",
    "## pvalue=0.0 --> 0.05이하로 대립가설참"
   ]
  },
  {
   "cell_type": "markdown",
   "id": "6298d699-f3a9-4b03-b937-3f08c84af235",
   "metadata": {
    "tags": []
   },
   "source": [
    "## 설명변수 검증\n",
    "\n",
    "- VSHSP_DD_CNT(공상 등 구분) - 연속형\n",
    "- BTH_YYYY(출생년도) - 연속형 \n",
    "- OPRTN_YN(수술여부) - 범주형 "
   ]
  },
  {
   "cell_type": "markdown",
   "id": "ec6c7b01-16bb-4799-a3eb-a957d3627d89",
   "metadata": {},
   "source": [
    "### X:연속형 / Y:연속형 : 주로 상관관계 확인\n",
    "\n",
    "- correlation coefficient(상관계수)\n",
    "- -1 ~ 1\n",
    "- 0에 가까우면 관계없음, -1로 갈수록 반비례, 1로 갈수로 정비례\n"
   ]
  },
  {
   "cell_type": "code",
   "execution_count": 21,
   "id": "17ed6767-00ea-4b68-ac21-419f3fced8fb",
   "metadata": {
    "tags": []
   },
   "outputs": [
    {
     "name": "stdout",
     "output_type": "stream",
     "text": [
      "<class 'pandas.core.frame.DataFrame'>\n",
      "Int64Index: 4194 entries, 11 to 4204\n",
      "Data columns (total 4 columns):\n",
      " #   Column        Non-Null Count  Dtype \n",
      "---  ------        --------------  ----- \n",
      " 0   EDC_SBA       4194 non-null   int64 \n",
      " 1   OPRTN_YN      4194 non-null   object\n",
      " 2   VSHSP_DD_CNT  4194 non-null   int64 \n",
      " 3   BTH_YYYY      4194 non-null   int32 \n",
      "dtypes: int32(1), int64(2), object(1)\n",
      "memory usage: 147.4+ KB\n"
     ]
    }
   ],
   "source": [
    "df_I10_h.info()"
   ]
  },
  {
   "cell_type": "markdown",
   "id": "1278d04e-3668-4686-8f8c-39d9077904b2",
   "metadata": {},
   "source": [
    "#### 선정 변수: 심결본인부담금, 공상 등 구분\n",
    "\n",
    "    - 분석 내용 : 심결본인부담금에 따라서 공상 등 구분에 변화가 있는가?\n",
    "        - 귀무가설 : 심결요양급여비용총액에 변화가 없다.\n",
    "        - 대립가설 : 심결요양급여비용총액에 변화가 있다.\n",
    "        \n",
    "    - 분석결론 (기준:p-value 0.05) / P.value < 0.05 : 대립 참\n",
    "        - 통계 결론 : 대립가설 참, 상관계수 비례관계\n",
    "        - 사실 결론 : 심결본인부담금에 변화가 있다.\n",
    "        - SignificanceResult(statistic=0.3698375474288705, pvalue=1.9098228360110356e-136)"
   ]
  },
  {
   "cell_type": "markdown",
   "id": "4925cd46-b6ae-4c72-a8ac-766f366497b2",
   "metadata": {
    "tags": []
   },
   "source": [
    "#### X : 연속형 / Y : 연속형  = 주로 상관관계 확인에서 사용\n",
    "    - correlation coefficient(상관계수)\n",
    "    - 1 ~ 1\n",
    "    - 0에 가까우면 관계없음, -1로 갈수록 반비례, 1로 갈수로 정비례"
   ]
  },
  {
   "cell_type": "code",
   "execution_count": 12,
   "id": "2f53b888-531e-4b19-abd9-2a89907d59d8",
   "metadata": {
    "tags": []
   },
   "outputs": [
    {
     "data": {
      "text/html": [
       "<div>\n",
       "<style scoped>\n",
       "    .dataframe tbody tr th:only-of-type {\n",
       "        vertical-align: middle;\n",
       "    }\n",
       "\n",
       "    .dataframe tbody tr th {\n",
       "        vertical-align: top;\n",
       "    }\n",
       "\n",
       "    .dataframe thead th {\n",
       "        text-align: right;\n",
       "    }\n",
       "</style>\n",
       "<table border=\"1\" class=\"dataframe\">\n",
       "  <thead>\n",
       "    <tr style=\"text-align: right;\">\n",
       "      <th></th>\n",
       "      <th>EDC_SBA</th>\n",
       "      <th>VSHSP_DD_CNT</th>\n",
       "    </tr>\n",
       "  </thead>\n",
       "  <tbody>\n",
       "    <tr>\n",
       "      <th>EDC_SBA</th>\n",
       "      <td>1.000000</td>\n",
       "      <td>-0.136108</td>\n",
       "    </tr>\n",
       "    <tr>\n",
       "      <th>VSHSP_DD_CNT</th>\n",
       "      <td>-0.136108</td>\n",
       "      <td>1.000000</td>\n",
       "    </tr>\n",
       "  </tbody>\n",
       "</table>\n",
       "</div>"
      ],
      "text/plain": [
       "               EDC_SBA  VSHSP_DD_CNT\n",
       "EDC_SBA       1.000000     -0.136108\n",
       "VSHSP_DD_CNT -0.136108      1.000000"
      ]
     },
     "execution_count": 12,
     "metadata": {},
     "output_type": "execute_result"
    }
   ],
   "source": [
    "df_I10_h[['EDC_SBA','VSHSP_DD_CNT']].describe().corr()"
   ]
  },
  {
   "cell_type": "code",
   "execution_count": 17,
   "id": "d6aec991-ab4a-4820-b466-aa639e8017dd",
   "metadata": {
    "tags": []
   },
   "outputs": [
    {
     "data": {
      "text/plain": [
       "SignificanceResult(statistic=0.3698375474288705, pvalue=1.9098228360110356e-136)"
      ]
     },
     "execution_count": 17,
     "metadata": {},
     "output_type": "execute_result"
    }
   ],
   "source": [
    "stats.spearmanr(df_I10_h['EDC_SBA'], df_I10_h['VSHSP_DD_CNT'])\n",
    "##  statistic=0.369, pvalue=1.9098228360110356e-136) --> 0.05보다 작음 대립가설 참 "
   ]
  },
  {
   "cell_type": "markdown",
   "id": "2bf42ab4-1892-4ac2-b062-adae4aecda4e",
   "metadata": {
    "tags": []
   },
   "source": [
    "#### 선정 변수: 심결본인부담금(EDC_SBA) , 생년월일(BTH_YYYY)\n",
    "\n",
    "- 분석 내용 : 출생년도에 따라 요양개시일자에 관계가 있는가?\n",
    "    - 귀무가설 : EDC_SBA(심결본인부담금),BTH_YYYY(출생년도)에 상관관계가 없다.\n",
    "    - 대립가설 : EDC_SBA(심결본인부담금),BTH_YYYY(출생년도)에 상관관계가 있다.\n",
    "    \n",
    "- 분석결론 (기준:p-value 0.05) / P.value < 0.05 : 대립 참\n",
    "    - 통계 결론 : 대립가설 참\n",
    "    - 사실 결론 : 심결본인부담금과 출생년도와 관계가 있다.\n",
    "    - SignificanceResult(statistic=0.03672791508391399, pvalue=0.017230460044135053)"
   ]
  },
  {
   "cell_type": "code",
   "execution_count": 15,
   "id": "84b8732f-f45d-4f66-8c6d-85ffb0c74240",
   "metadata": {
    "tags": []
   },
   "outputs": [
    {
     "data": {
      "text/html": [
       "<div>\n",
       "<style scoped>\n",
       "    .dataframe tbody tr th:only-of-type {\n",
       "        vertical-align: middle;\n",
       "    }\n",
       "\n",
       "    .dataframe tbody tr th {\n",
       "        vertical-align: top;\n",
       "    }\n",
       "\n",
       "    .dataframe thead th {\n",
       "        text-align: right;\n",
       "    }\n",
       "</style>\n",
       "<table border=\"1\" class=\"dataframe\">\n",
       "  <thead>\n",
       "    <tr style=\"text-align: right;\">\n",
       "      <th></th>\n",
       "      <th>EDC_SBA</th>\n",
       "    </tr>\n",
       "  </thead>\n",
       "  <tbody>\n",
       "    <tr>\n",
       "      <th>EDC_SBA</th>\n",
       "      <td>1.0</td>\n",
       "    </tr>\n",
       "  </tbody>\n",
       "</table>\n",
       "</div>"
      ],
      "text/plain": [
       "         EDC_SBA\n",
       "EDC_SBA      1.0"
      ]
     },
     "execution_count": 15,
     "metadata": {},
     "output_type": "execute_result"
    }
   ],
   "source": [
    "df_I10_h[['EDC_SBA','BTH_YYYY']].describe().corr()"
   ]
  },
  {
   "cell_type": "code",
   "execution_count": 16,
   "id": "42568515-152e-4fde-8047-909a67fbd05e",
   "metadata": {
    "tags": []
   },
   "outputs": [
    {
     "data": {
      "text/plain": [
       "SignificanceResult(statistic=0.03672791508391399, pvalue=0.017230460044135053)"
      ]
     },
     "execution_count": 16,
     "metadata": {},
     "output_type": "execute_result"
    }
   ],
   "source": [
    "stats.spearmanr(df_I10_h['EDC_SBA'], df_I10_h['BTH_YYYY'])"
   ]
  },
  {
   "cell_type": "markdown",
   "id": "218ddb86-5846-4774-ae2f-a40c3641c10c",
   "metadata": {
    "tags": []
   },
   "source": [
    "### X : 범주형 / Y : 연속형 = 주로 상관관계 확인에서 사용\n",
    "\n",
    "- record 갯수 5천개 이하 : shapiro test (정규성 검증)\n",
    "- 정규분포 등분산 검증방법\n",
    "    - p_value > 0.05 등분산\n",
    "    - p_value < 0.05 이분산"
   ]
  },
  {
   "cell_type": "markdown",
   "id": "2b661f53-8a72-4ea9-8b3d-417e9f5fa2e7",
   "metadata": {},
   "source": [
    "#### 선정 변수: EDC_SBA(심결본인부담금) ,OPRTN_YN(수술여부) Wilcoxon Test\n",
    "\n",
    "- 분석 내용 : 본인부담금이 수술여부와 차이가 있나?\n",
    "    - 귀무가설 : 본인부담금이 수술여부와 차이가 없다.\n",
    "    - 대립가설 : 본인부담금이 수술여부와 차이가 있다.\n",
    "- 분석결론 (기준:p-value 0.05) / P.value < 0.05 : 대립 참\n",
    "    - 통계 결론 : 대립가설 참\n",
    "    - 사실 결론 : 수술여부에 따라서 본인부담금이 차이가 있다. \n",
    "    - RanksumsResult(statistic=-2.998573127148773, pvalue=0.0027124705352598944)"
   ]
  },
  {
   "cell_type": "code",
   "execution_count": 34,
   "id": "0f3b4205-c599-41a7-92a6-14219fdd4de1",
   "metadata": {
    "tags": []
   },
   "outputs": [
    {
     "data": {
      "image/png": "[encoded data removed]",
      "text/plain": [
       "<Figure size 640x480 with 1 Axes>"
      ]
     },
     "metadata": {},
     "output_type": "display_data"
    }
   ],
   "source": [
    "sns.countplot(data=df_I10_h, x='OPRTN_YN')\n",
    "plt.savefig(\"수술여부.png\")"
   ]
  },
  {
   "cell_type": "code",
   "execution_count": 21,
   "id": "45a333e3-e1fb-4b78-a95d-bcfd41765442",
   "metadata": {
    "tags": []
   },
   "outputs": [
    {
     "data": {
      "text/plain": [
       "0    4202\n",
       "9       3\n",
       "Name: OPRTN_YN, dtype: int64"
      ]
     },
     "execution_count": 21,
     "metadata": {},
     "output_type": "execute_result"
    }
   ],
   "source": [
    "df_I10_h['OPRTN_YN'].value_counts()"
   ]
  },
  {
   "cell_type": "code",
   "execution_count": 24,
   "id": "844d0dd9-4d40-4849-922a-50ed17ded19a",
   "metadata": {
    "tags": []
   },
   "outputs": [],
   "source": [
    "df_OPR = df_I10_h[['EDC_SBA','OPRTN_YN']]"
   ]
  },
  {
   "cell_type": "code",
   "execution_count": 25,
   "id": "3d212ccb-f177-404a-b169-181d4d1fc220",
   "metadata": {
    "tags": []
   },
   "outputs": [
    {
     "data": {
      "text/html": [
       "<div>\n",
       "<style scoped>\n",
       "    .dataframe tbody tr th:only-of-type {\n",
       "        vertical-align: middle;\n",
       "    }\n",
       "\n",
       "    .dataframe tbody tr th {\n",
       "        vertical-align: top;\n",
       "    }\n",
       "\n",
       "    .dataframe thead th {\n",
       "        text-align: right;\n",
       "    }\n",
       "</style>\n",
       "<table border=\"1\" class=\"dataframe\">\n",
       "  <thead>\n",
       "    <tr style=\"text-align: right;\">\n",
       "      <th></th>\n",
       "      <th>EDC_SBA</th>\n",
       "      <th>OPRTN_YN</th>\n",
       "    </tr>\n",
       "  </thead>\n",
       "  <tbody>\n",
       "    <tr>\n",
       "      <th>0</th>\n",
       "      <td>3000</td>\n",
       "      <td>0</td>\n",
       "    </tr>\n",
       "    <tr>\n",
       "      <th>1</th>\n",
       "      <td>6000</td>\n",
       "      <td>0</td>\n",
       "    </tr>\n",
       "  </tbody>\n",
       "</table>\n",
       "</div>"
      ],
      "text/plain": [
       "   EDC_SBA  OPRTN_YN\n",
       "0     3000         0\n",
       "1     6000         0"
      ]
     },
     "execution_count": 25,
     "metadata": {},
     "output_type": "execute_result"
    }
   ],
   "source": [
    "df_OPR_O = df_OPR[df_OPR['OPRTN_YN'] == 0]\n",
    "df_OPR_O[:2]"
   ]
  },
  {
   "cell_type": "code",
   "execution_count": 27,
   "id": "246ab756-a789-414f-a328-f632993d9ee1",
   "metadata": {
    "tags": []
   },
   "outputs": [
    {
     "data": {
      "text/html": [
       "<div>\n",
       "<style scoped>\n",
       "    .dataframe tbody tr th:only-of-type {\n",
       "        vertical-align: middle;\n",
       "    }\n",
       "\n",
       "    .dataframe tbody tr th {\n",
       "        vertical-align: top;\n",
       "    }\n",
       "\n",
       "    .dataframe thead th {\n",
       "        text-align: right;\n",
       "    }\n",
       "</style>\n",
       "<table border=\"1\" class=\"dataframe\">\n",
       "  <thead>\n",
       "    <tr style=\"text-align: right;\">\n",
       "      <th></th>\n",
       "      <th>EDC_SBA</th>\n",
       "      <th>OPRTN_YN</th>\n",
       "    </tr>\n",
       "  </thead>\n",
       "  <tbody>\n",
       "    <tr>\n",
       "      <th>3961</th>\n",
       "      <td>94100</td>\n",
       "      <td>9</td>\n",
       "    </tr>\n",
       "    <tr>\n",
       "      <th>4155</th>\n",
       "      <td>1500</td>\n",
       "      <td>9</td>\n",
       "    </tr>\n",
       "  </tbody>\n",
       "</table>\n",
       "</div>"
      ],
      "text/plain": [
       "      EDC_SBA  OPRTN_YN\n",
       "3961    94100         9\n",
       "4155     1500         9"
      ]
     },
     "execution_count": 27,
     "metadata": {},
     "output_type": "execute_result"
    }
   ],
   "source": [
    "df_OPR_N = df_OPR[df_OPR['OPRTN_YN'] == 9]\n",
    "df_OPR_N[:2]"
   ]
  },
  {
   "cell_type": "code",
   "execution_count": 28,
   "id": "f4320660-7679-4e77-9f95-46355e24032e",
   "metadata": {
    "tags": []
   },
   "outputs": [
    {
     "data": {
      "text/plain": [
       "RanksumsResult(statistic=-2.998573127148773, pvalue=0.0027124705352598944)"
      ]
     },
     "execution_count": 28,
     "metadata": {},
     "output_type": "execute_result"
    }
   ],
   "source": [
    "stats.ranksums(df_OPR_O['OPRTN_YN'], df_OPR_N['OPRTN_YN'])\n",
    "\n",
    "## statistic=0.0, pvalue=1.0 -> 0.05보다 큼, 귀무가설 참 "
   ]
  }
 ],
 "metadata": {
  "kernelspec": {
   "display_name": "Python 3 (ipykernel)",
   "language": "python",
   "name": "python3"
  },
  "language_info": {
   "codemirror_mode": {
    "name": "ipython",
    "version": 3
   },
   "file_extension": ".py",
   "mimetype": "text/x-python",
   "name": "python",
   "nbconvert_exporter": "python",
   "pygments_lexer": "ipython3",
   "version": "3.11.3"
  }
 },
 "nbformat": 4,
 "nbformat_minor": 5
}
