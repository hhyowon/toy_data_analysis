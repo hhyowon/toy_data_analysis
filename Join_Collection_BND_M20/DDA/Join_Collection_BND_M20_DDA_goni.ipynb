{
 "cells": [
  {
   "cell_type": "code",
   "execution_count": 11,
   "id": "5f0be1df-4bec-42a8-b584-ab3f1e9f7464",
   "metadata": {
    "tags": []
   },
   "outputs": [],
   "source": [
    "import matplotlib.pyplot as plt\n",
    "import matplotlib as mpl\n",
    "mpl.rc('font',family='Malgun Gothic')   #한글처리\n",
    "import seaborn as sns\n",
    "import pandas as pd"
   ]
  },
  {
   "cell_type": "code",
   "execution_count": 12,
   "id": "1f0e8b56-4c6e-46c7-a8b1-14e4b6cc3a17",
   "metadata": {
    "tags": []
   },
   "outputs": [
    {
     "data": {
      "text/plain": [
       "Index(['Unnamed: 0', 'EDC_SBA', 'OPRTN_YN', 'MDCARE_DD_CNT', 'BTH_YYYY',\n",
       "       'MCARE_RSLT_TYPE', 'VSHSP_DD_CNT', 'EDC_ADD_RT'],\n",
       "      dtype='object')"
      ]
     },
     "execution_count": 12,
     "metadata": {},
     "output_type": "execute_result"
    }
   ],
   "source": [
    "df_I10= pd.read_csv('../../datasets/Join_Collection_NSC2_BND_M20.csv')\n",
    "df_I10.columns"
   ]
  },
  {
   "cell_type": "markdown",
   "id": "52d38a4b-f72f-4621-bf17-769802ec535f",
   "metadata": {},
   "source": [
    "## 설명변수 \n",
    "- 요양일수(MDCARE_DD_CNT)\n",
    "- 진료결과구분(MCARE_RSLT_TYPE)\n",
    "- 심결가산율(EDC_ADD_RT)"
   ]
  },
  {
   "cell_type": "code",
   "execution_count": 4,
   "id": "9a720626-e140-4bcf-8a5d-4ee4c93297ff",
   "metadata": {
    "tags": []
   },
   "outputs": [
    {
     "data": {
      "text/html": [
       "<div>\n",
       "<style scoped>\n",
       "    .dataframe tbody tr th:only-of-type {\n",
       "        vertical-align: middle;\n",
       "    }\n",
       "\n",
       "    .dataframe tbody tr th {\n",
       "        vertical-align: top;\n",
       "    }\n",
       "\n",
       "    .dataframe thead th {\n",
       "        text-align: right;\n",
       "    }\n",
       "</style>\n",
       "<table border=\"1\" class=\"dataframe\">\n",
       "  <thead>\n",
       "    <tr style=\"text-align: right;\">\n",
       "      <th></th>\n",
       "      <th>MDCARE_DD_CNT</th>\n",
       "      <th>MCARE_RSLT_TYPE</th>\n",
       "      <th>EDC_ADD_RT</th>\n",
       "    </tr>\n",
       "  </thead>\n",
       "  <tbody>\n",
       "    <tr>\n",
       "      <th>0</th>\n",
       "      <td>1</td>\n",
       "      <td>5.0</td>\n",
       "      <td>0.15</td>\n",
       "    </tr>\n",
       "    <tr>\n",
       "      <th>1</th>\n",
       "      <td>2</td>\n",
       "      <td>5.0</td>\n",
       "      <td>0.15</td>\n",
       "    </tr>\n",
       "    <tr>\n",
       "      <th>2</th>\n",
       "      <td>1</td>\n",
       "      <td>5.0</td>\n",
       "      <td>0.15</td>\n",
       "    </tr>\n",
       "    <tr>\n",
       "      <th>3</th>\n",
       "      <td>1</td>\n",
       "      <td>1.0</td>\n",
       "      <td>0.15</td>\n",
       "    </tr>\n",
       "    <tr>\n",
       "      <th>4</th>\n",
       "      <td>1</td>\n",
       "      <td>5.0</td>\n",
       "      <td>0.15</td>\n",
       "    </tr>\n",
       "    <tr>\n",
       "      <th>...</th>\n",
       "      <td>...</td>\n",
       "      <td>...</td>\n",
       "      <td>...</td>\n",
       "    </tr>\n",
       "    <tr>\n",
       "      <th>4200</th>\n",
       "      <td>1</td>\n",
       "      <td>1.0</td>\n",
       "      <td>0.15</td>\n",
       "    </tr>\n",
       "    <tr>\n",
       "      <th>4201</th>\n",
       "      <td>1</td>\n",
       "      <td>1.0</td>\n",
       "      <td>0.15</td>\n",
       "    </tr>\n",
       "    <tr>\n",
       "      <th>4202</th>\n",
       "      <td>1</td>\n",
       "      <td>1.0</td>\n",
       "      <td>0.15</td>\n",
       "    </tr>\n",
       "    <tr>\n",
       "      <th>4203</th>\n",
       "      <td>1</td>\n",
       "      <td>1.0</td>\n",
       "      <td>0.15</td>\n",
       "    </tr>\n",
       "    <tr>\n",
       "      <th>4204</th>\n",
       "      <td>1</td>\n",
       "      <td>1.0</td>\n",
       "      <td>0.15</td>\n",
       "    </tr>\n",
       "  </tbody>\n",
       "</table>\n",
       "<p>4205 rows × 3 columns</p>\n",
       "</div>"
      ],
      "text/plain": [
       "      MDCARE_DD_CNT  MCARE_RSLT_TYPE  EDC_ADD_RT\n",
       "0                 1              5.0        0.15\n",
       "1                 2              5.0        0.15\n",
       "2                 1              5.0        0.15\n",
       "3                 1              1.0        0.15\n",
       "4                 1              5.0        0.15\n",
       "...             ...              ...         ...\n",
       "4200              1              1.0        0.15\n",
       "4201              1              1.0        0.15\n",
       "4202              1              1.0        0.15\n",
       "4203              1              1.0        0.15\n",
       "4204              1              1.0        0.15\n",
       "\n",
       "[4205 rows x 3 columns]"
      ]
     },
     "execution_count": 4,
     "metadata": {},
     "output_type": "execute_result"
    }
   ],
   "source": [
    "df_I10_Goni = df_I10[['MDCARE_DD_CNT','MCARE_RSLT_TYPE', 'EDC_ADD_RT']]\n",
    "df_I10_Goni"
   ]
  },
  {
   "cell_type": "code",
   "execution_count": 5,
   "id": "46f68a0c-6248-4118-9f84-fdcfca0fbb51",
   "metadata": {
    "tags": []
   },
   "outputs": [
    {
     "name": "stdout",
     "output_type": "stream",
     "text": [
      "<class 'pandas.core.frame.DataFrame'>\n",
      "RangeIndex: 4205 entries, 0 to 4204\n",
      "Data columns (total 3 columns):\n",
      " #   Column           Non-Null Count  Dtype  \n",
      "---  ------           --------------  -----  \n",
      " 0   MDCARE_DD_CNT    4205 non-null   int64  \n",
      " 1   MCARE_RSLT_TYPE  4205 non-null   float64\n",
      " 2   EDC_ADD_RT       4205 non-null   float64\n",
      "dtypes: float64(2), int64(1)\n",
      "memory usage: 98.7 KB\n"
     ]
    }
   ],
   "source": [
    "df_I10_Goni.info()"
   ]
  },
  {
   "cell_type": "code",
   "execution_count": 6,
   "id": "4e35e331-2268-410b-9a16-169e3d76f374",
   "metadata": {
    "tags": []
   },
   "outputs": [
    {
     "data": {
      "text/html": [
       "<div>\n",
       "<style scoped>\n",
       "    .dataframe tbody tr th:only-of-type {\n",
       "        vertical-align: middle;\n",
       "    }\n",
       "\n",
       "    .dataframe tbody tr th {\n",
       "        vertical-align: top;\n",
       "    }\n",
       "\n",
       "    .dataframe thead th {\n",
       "        text-align: right;\n",
       "    }\n",
       "</style>\n",
       "<table border=\"1\" class=\"dataframe\">\n",
       "  <thead>\n",
       "    <tr style=\"text-align: right;\">\n",
       "      <th></th>\n",
       "      <th>MDCARE_DD_CNT</th>\n",
       "      <th>MCARE_RSLT_TYPE</th>\n",
       "      <th>EDC_ADD_RT</th>\n",
       "    </tr>\n",
       "  </thead>\n",
       "  <tbody>\n",
       "    <tr>\n",
       "      <th>count</th>\n",
       "      <td>4205.000000</td>\n",
       "      <td>4205.000000</td>\n",
       "      <td>4205.000000</td>\n",
       "    </tr>\n",
       "    <tr>\n",
       "      <th>mean</th>\n",
       "      <td>1.275149</td>\n",
       "      <td>1.899168</td>\n",
       "      <td>0.159907</td>\n",
       "    </tr>\n",
       "    <tr>\n",
       "      <th>std</th>\n",
       "      <td>2.216228</td>\n",
       "      <td>1.752071</td>\n",
       "      <td>0.036120</td>\n",
       "    </tr>\n",
       "    <tr>\n",
       "      <th>min</th>\n",
       "      <td>1.000000</td>\n",
       "      <td>1.000000</td>\n",
       "      <td>0.110000</td>\n",
       "    </tr>\n",
       "    <tr>\n",
       "      <th>25%</th>\n",
       "      <td>1.000000</td>\n",
       "      <td>1.000000</td>\n",
       "      <td>0.150000</td>\n",
       "    </tr>\n",
       "    <tr>\n",
       "      <th>50%</th>\n",
       "      <td>1.000000</td>\n",
       "      <td>1.000000</td>\n",
       "      <td>0.150000</td>\n",
       "    </tr>\n",
       "    <tr>\n",
       "      <th>75%</th>\n",
       "      <td>1.000000</td>\n",
       "      <td>1.000000</td>\n",
       "      <td>0.150000</td>\n",
       "    </tr>\n",
       "    <tr>\n",
       "      <th>max</th>\n",
       "      <td>60.000000</td>\n",
       "      <td>9.000000</td>\n",
       "      <td>0.300000</td>\n",
       "    </tr>\n",
       "  </tbody>\n",
       "</table>\n",
       "</div>"
      ],
      "text/plain": [
       "       MDCARE_DD_CNT  MCARE_RSLT_TYPE   EDC_ADD_RT\n",
       "count    4205.000000      4205.000000  4205.000000\n",
       "mean        1.275149         1.899168     0.159907\n",
       "std         2.216228         1.752071     0.036120\n",
       "min         1.000000         1.000000     0.110000\n",
       "25%         1.000000         1.000000     0.150000\n",
       "50%         1.000000         1.000000     0.150000\n",
       "75%         1.000000         1.000000     0.150000\n",
       "max        60.000000         9.000000     0.300000"
      ]
     },
     "execution_count": 6,
     "metadata": {},
     "output_type": "execute_result"
    }
   ],
   "source": [
    "df_I10_Goni.describe()"
   ]
  },
  {
   "cell_type": "code",
   "execution_count": 8,
   "id": "0149f634-2e59-468c-8af5-d3234ec04b17",
   "metadata": {
    "tags": []
   },
   "outputs": [
    {
     "data": {
      "text/plain": [
       "1     3800\n",
       "2      275\n",
       "3       61\n",
       "4       28\n",
       "6       10\n",
       "5        8\n",
       "31       6\n",
       "30       5\n",
       "60       2\n",
       "8        2\n",
       "7        2\n",
       "23       1\n",
       "21       1\n",
       "27       1\n",
       "37       1\n",
       "10       1\n",
       "13       1\n",
       "Name: MDCARE_DD_CNT, dtype: int64"
      ]
     },
     "execution_count": 8,
     "metadata": {},
     "output_type": "execute_result"
    }
   ],
   "source": [
    "df_I10_Goni['MDCARE_DD_CNT'].value_counts()"
   ]
  },
  {
   "cell_type": "code",
   "execution_count": 9,
   "id": "37c05c00-883d-4eb5-875d-b01e7e488f94",
   "metadata": {
    "tags": []
   },
   "outputs": [
    {
     "data": {
      "text/plain": [
       "1.0    3296\n",
       "5.0     871\n",
       "9.0      37\n",
       "2.0       1\n",
       "Name: MCARE_RSLT_TYPE, dtype: int64"
      ]
     },
     "execution_count": 9,
     "metadata": {},
     "output_type": "execute_result"
    }
   ],
   "source": [
    "df_I10_Goni['MCARE_RSLT_TYPE'].value_counts()"
   ]
  },
  {
   "cell_type": "code",
   "execution_count": 10,
   "id": "2f8146aa-630e-4de2-ba2f-8d2aab97e1a3",
   "metadata": {
    "tags": []
   },
   "outputs": [
    {
     "data": {
      "text/plain": [
       "0.15    3588\n",
       "0.25     214\n",
       "0.11     157\n",
       "0.30     146\n",
       "0.20      82\n",
       "0.18      18\n",
       "Name: EDC_ADD_RT, dtype: int64"
      ]
     },
     "execution_count": 10,
     "metadata": {},
     "output_type": "execute_result"
    }
   ],
   "source": [
    "df_I10_Goni['EDC_ADD_RT'].value_counts()"
   ]
  },
  {
   "cell_type": "code",
   "execution_count": null,
   "id": "7b04fd55-5123-4224-8f19-b7e510cd309f",
   "metadata": {},
   "outputs": [],
   "source": []
  }
 ],
 "metadata": {
  "kernelspec": {
   "display_name": "Python 3 (ipykernel)",
   "language": "python",
   "name": "python3"
  },
  "language_info": {
   "codemirror_mode": {
    "name": "ipython",
    "version": 3
   },
   "file_extension": ".py",
   "mimetype": "text/x-python",
   "name": "python",
   "nbconvert_exporter": "python",
   "pygments_lexer": "ipython3",
   "version": "3.11.4"
  }
 },
 "nbformat": 4,
 "nbformat_minor": 5
}
