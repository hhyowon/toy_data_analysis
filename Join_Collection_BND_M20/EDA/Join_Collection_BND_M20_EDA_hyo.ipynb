{
 "cells": [
  {
   "cell_type": "code",
   "execution_count": 2,
   "id": "f6d62975-0db9-47d1-9dea-94fea75d1fd8",
   "metadata": {
    "tags": []
   },
   "outputs": [],
   "source": [
    "import matplotlib.pyplot as plt\n",
    "import matplotlib as mpl\n",
    "mpl.rc('font',family='Malgun Gothic')   #한글처리\n",
    "import seaborn as sns\n",
    "import pandas as pd"
   ]
  },
  {
   "cell_type": "code",
   "execution_count": 3,
   "id": "1a5c14b4-6229-4c75-a5fd-86ed941c53c2",
   "metadata": {
    "tags": []
   },
   "outputs": [
    {
     "data": {
      "text/plain": [
       "Index(['Unnamed: 0', 'EDC_SBA', 'OPRTN_YN', 'MDCARE_DD_CNT', 'BTH_YYYY',\n",
       "       'MCARE_RSLT_TYPE', 'MDCARE_DD_CNT.1', 'EDC_ADD_RT'],\n",
       "      dtype='object')"
      ]
     },
     "execution_count": 3,
     "metadata": {},
     "output_type": "execute_result"
    }
   ],
   "source": [
    "df_I10= pd.read_csv('../../datasets/Join_Collection_NSC2_BND_M20.csv')\n",
    "df_I10.columns"
   ]
  },
  {
   "cell_type": "markdown",
   "id": "086b9bd4-1223-43a2-adae-64c86d874110",
   "metadata": {},
   "source": [
    "### EDA 전략 : 상관관계 확인\n",
    "- 궁금한 점 : 고혈압환자들의 심결본인부담금에 영향을 끼치는 변수들이 무엇인지 \n",
    "- 목표 변수 : '심결본인부담금' -> 분포 : 언발란스\n",
    "    - 연속형일 경우 : 정규화 확인\n",
    "    - 범주형일 경우 : 밸런스 여부 확인\n",
    "- 설명 변수 설정 : \n",
    "    - 수술 여부 (OPRTN_YN)\n",
    "    - 입내원일수 (MDCARE_DD_CNT) \n",
    "    - 출생년도 (BTH_YYYY)"
   ]
  },
  {
   "cell_type": "code",
   "execution_count": 5,
   "id": "13550899-7415-4e66-a7c0-706b683234f3",
   "metadata": {
    "tags": []
   },
   "outputs": [
    {
     "data": {
      "text/html": [
       "<div>\n",
       "<style scoped>\n",
       "    .dataframe tbody tr th:only-of-type {\n",
       "        vertical-align: middle;\n",
       "    }\n",
       "\n",
       "    .dataframe tbody tr th {\n",
       "        vertical-align: top;\n",
       "    }\n",
       "\n",
       "    .dataframe thead th {\n",
       "        text-align: right;\n",
       "    }\n",
       "</style>\n",
       "<table border=\"1\" class=\"dataframe\">\n",
       "  <thead>\n",
       "    <tr style=\"text-align: right;\">\n",
       "      <th></th>\n",
       "      <th>EDC_SBA</th>\n",
       "      <th>OPRTN_YN</th>\n",
       "      <th>MDCARE_DD_CNT</th>\n",
       "      <th>BTH_YYYY</th>\n",
       "    </tr>\n",
       "  </thead>\n",
       "  <tbody>\n",
       "    <tr>\n",
       "      <th>0</th>\n",
       "      <td>3000</td>\n",
       "      <td>0</td>\n",
       "      <td>1</td>\n",
       "      <td>1921LE</td>\n",
       "    </tr>\n",
       "    <tr>\n",
       "      <th>1</th>\n",
       "      <td>6000</td>\n",
       "      <td>0</td>\n",
       "      <td>2</td>\n",
       "      <td>1921LE</td>\n",
       "    </tr>\n",
       "    <tr>\n",
       "      <th>2</th>\n",
       "      <td>3000</td>\n",
       "      <td>0</td>\n",
       "      <td>1</td>\n",
       "      <td>1921LE</td>\n",
       "    </tr>\n",
       "    <tr>\n",
       "      <th>3</th>\n",
       "      <td>4200</td>\n",
       "      <td>0</td>\n",
       "      <td>1</td>\n",
       "      <td>1921LE</td>\n",
       "    </tr>\n",
       "    <tr>\n",
       "      <th>4</th>\n",
       "      <td>1500</td>\n",
       "      <td>0</td>\n",
       "      <td>1</td>\n",
       "      <td>1921LE</td>\n",
       "    </tr>\n",
       "    <tr>\n",
       "      <th>...</th>\n",
       "      <td>...</td>\n",
       "      <td>...</td>\n",
       "      <td>...</td>\n",
       "      <td>...</td>\n",
       "    </tr>\n",
       "    <tr>\n",
       "      <th>4200</th>\n",
       "      <td>3000</td>\n",
       "      <td>0</td>\n",
       "      <td>1</td>\n",
       "      <td>2005</td>\n",
       "    </tr>\n",
       "    <tr>\n",
       "      <th>4201</th>\n",
       "      <td>3000</td>\n",
       "      <td>0</td>\n",
       "      <td>1</td>\n",
       "      <td>2005</td>\n",
       "    </tr>\n",
       "    <tr>\n",
       "      <th>4202</th>\n",
       "      <td>3000</td>\n",
       "      <td>0</td>\n",
       "      <td>1</td>\n",
       "      <td>2005</td>\n",
       "    </tr>\n",
       "    <tr>\n",
       "      <th>4203</th>\n",
       "      <td>3000</td>\n",
       "      <td>0</td>\n",
       "      <td>1</td>\n",
       "      <td>2005</td>\n",
       "    </tr>\n",
       "    <tr>\n",
       "      <th>4204</th>\n",
       "      <td>1500</td>\n",
       "      <td>0</td>\n",
       "      <td>1</td>\n",
       "      <td>2005</td>\n",
       "    </tr>\n",
       "  </tbody>\n",
       "</table>\n",
       "<p>4205 rows × 4 columns</p>\n",
       "</div>"
      ],
      "text/plain": [
       "      EDC_SBA  OPRTN_YN  MDCARE_DD_CNT BTH_YYYY\n",
       "0        3000         0              1   1921LE\n",
       "1        6000         0              2   1921LE\n",
       "2        3000         0              1   1921LE\n",
       "3        4200         0              1   1921LE\n",
       "4        1500         0              1   1921LE\n",
       "...       ...       ...            ...      ...\n",
       "4200     3000         0              1     2005\n",
       "4201     3000         0              1     2005\n",
       "4202     3000         0              1     2005\n",
       "4203     3000         0              1     2005\n",
       "4204     1500         0              1     2005\n",
       "\n",
       "[4205 rows x 4 columns]"
      ]
     },
     "execution_count": 5,
     "metadata": {},
     "output_type": "execute_result"
    }
   ],
   "source": [
    "df_I10_h = df_I10[['EDC_SBA','OPRTN_YN','MDCARE_DD_CNT','BTH_YYYY']]\n",
    "df_I10_h  #분석할 컬럼들만 추출"
   ]
  },
  {
   "cell_type": "code",
   "execution_count": 7,
   "id": "ad1c4fb7-2ace-4161-9365-05edd667617b",
   "metadata": {
    "tags": []
   },
   "outputs": [
    {
     "name": "stdout",
     "output_type": "stream",
     "text": [
      "<class 'pandas.core.frame.DataFrame'>\n",
      "RangeIndex: 4205 entries, 0 to 4204\n",
      "Data columns (total 4 columns):\n",
      " #   Column         Non-Null Count  Dtype \n",
      "---  ------         --------------  ----- \n",
      " 0   EDC_SBA        4205 non-null   int64 \n",
      " 1   OPRTN_YN       4205 non-null   int64 \n",
      " 2   MDCARE_DD_CNT  4205 non-null   int64 \n",
      " 3   BTH_YYYY       4205 non-null   object\n",
      "dtypes: int64(3), object(1)\n",
      "memory usage: 131.5+ KB\n"
     ]
    }
   ],
   "source": [
    "df_I10_h.info()"
   ]
  },
  {
   "cell_type": "code",
   "execution_count": 9,
   "id": "4d6dad9e-90b6-47ad-833e-cdd3b3024384",
   "metadata": {
    "tags": []
   },
   "outputs": [
    {
     "data": {
      "text/plain": [
       "EDC_SBA          0\n",
       "OPRTN_YN         0\n",
       "MDCARE_DD_CNT    0\n",
       "BTH_YYYY         0\n",
       "dtype: int64"
      ]
     },
     "execution_count": 9,
     "metadata": {},
     "output_type": "execute_result"
    }
   ],
   "source": [
    "df_I10_h.isnull().sum()   #데이터 전처리"
   ]
  },
  {
   "cell_type": "code",
   "execution_count": 11,
   "id": "06752cf6-b92f-40b2-84b2-eb24d7105ab4",
   "metadata": {
    "tags": []
   },
   "outputs": [
    {
     "name": "stderr",
     "output_type": "stream",
     "text": [
      "C:\\Users\\04-04\\AppData\\Local\\Temp\\ipykernel_15084\\3122358078.py:1: FutureWarning: The default value of numeric_only in DataFrame.corr is deprecated. In a future version, it will default to False. Select only valid columns or specify the value of numeric_only to silence this warning.\n",
      "  df_I10_h.corr() # 상관 계수 계산\n"
     ]
    },
    {
     "data": {
      "text/html": [
       "<div>\n",
       "<style scoped>\n",
       "    .dataframe tbody tr th:only-of-type {\n",
       "        vertical-align: middle;\n",
       "    }\n",
       "\n",
       "    .dataframe tbody tr th {\n",
       "        vertical-align: top;\n",
       "    }\n",
       "\n",
       "    .dataframe thead th {\n",
       "        text-align: right;\n",
       "    }\n",
       "</style>\n",
       "<table border=\"1\" class=\"dataframe\">\n",
       "  <thead>\n",
       "    <tr style=\"text-align: right;\">\n",
       "      <th></th>\n",
       "      <th>EDC_SBA</th>\n",
       "      <th>OPRTN_YN</th>\n",
       "      <th>MDCARE_DD_CNT</th>\n",
       "    </tr>\n",
       "  </thead>\n",
       "  <tbody>\n",
       "    <tr>\n",
       "      <th>EDC_SBA</th>\n",
       "      <td>1.000000</td>\n",
       "      <td>0.130686</td>\n",
       "      <td>0.411302</td>\n",
       "    </tr>\n",
       "    <tr>\n",
       "      <th>OPRTN_YN</th>\n",
       "      <td>0.130686</td>\n",
       "      <td>1.000000</td>\n",
       "      <td>0.044914</td>\n",
       "    </tr>\n",
       "    <tr>\n",
       "      <th>MDCARE_DD_CNT</th>\n",
       "      <td>0.411302</td>\n",
       "      <td>0.044914</td>\n",
       "      <td>1.000000</td>\n",
       "    </tr>\n",
       "  </tbody>\n",
       "</table>\n",
       "</div>"
      ],
      "text/plain": [
       "                EDC_SBA  OPRTN_YN  MDCARE_DD_CNT\n",
       "EDC_SBA        1.000000  0.130686       0.411302\n",
       "OPRTN_YN       0.130686  1.000000       0.044914\n",
       "MDCARE_DD_CNT  0.411302  0.044914       1.000000"
      ]
     },
     "execution_count": 11,
     "metadata": {},
     "output_type": "execute_result"
    }
   ],
   "source": [
    "df_I10_h.corr() # 상관 계수 계산"
   ]
  },
  {
   "cell_type": "code",
   "execution_count": 26,
   "id": "5d4b32a5-f519-42e1-9b28-014401ce2c5a",
   "metadata": {
    "tags": []
   },
   "outputs": [
    {
     "data": {
      "image/png": "[encoded data removed]",
      "text/plain": [
       "<Figure size 640x480 with 1 Axes>"
      ]
     },
     "metadata": {},
     "output_type": "display_data"
    }
   ],
   "source": [
    "sns.histplot(data=df_I10_h , x='EDC_SBA',kde=True)\n",
    "plt.title(\"심결요양급여비용총액\")\n",
    "plt.show()"
   ]
  },
  {
   "cell_type": "code",
   "execution_count": 13,
   "id": "ab002664-4d18-41bd-9665-6e0128027dbe",
   "metadata": {
    "tags": []
   },
   "outputs": [
    {
     "data": {
      "text/plain": [
       "1500      1480\n",
       "3000       942\n",
       "3100       195\n",
       "2900       173\n",
       "1000       136\n",
       "          ... \n",
       "419100       1\n",
       "542210       1\n",
       "12920        1\n",
       "574770       1\n",
       "25200        1\n",
       "Name: EDC_SBA, Length: 353, dtype: int64"
      ]
     },
     "execution_count": 13,
     "metadata": {},
     "output_type": "execute_result"
    }
   ],
   "source": [
    "df_I10_h['EDC_SBA'].value_counts()"
   ]
  },
  {
   "cell_type": "markdown",
   "id": "ce25ec25-cf4b-44b5-b621-5ef257ac9dfc",
   "metadata": {},
   "source": [
    "#### 범주형과 연속형(순서형)으로 dtype변형\n",
    "- BTH_YYYY(출생년도) object -> int형\n",
    "    - 1920LE를 int형으로 바꾸기 위해서는 LE를 제거하고 '1921'값을 이용해서 분석해야 하는데 그건 정확한 분석이라고 생각하지 않아우선, 1920LE사람들을 제외하고 분석함"
   ]
  },
  {
   "cell_type": "code",
   "execution_count": 14,
   "id": "2322254a-ca84-4d99-be53-5d9e4f96fbeb",
   "metadata": {
    "tags": []
   },
   "outputs": [
    {
     "name": "stdout",
     "output_type": "stream",
     "text": [
      "<class 'pandas.core.frame.DataFrame'>\n",
      "RangeIndex: 4205 entries, 0 to 4204\n",
      "Data columns (total 4 columns):\n",
      " #   Column         Non-Null Count  Dtype \n",
      "---  ------         --------------  ----- \n",
      " 0   EDC_SBA        4205 non-null   int64 \n",
      " 1   OPRTN_YN       4205 non-null   int64 \n",
      " 2   MDCARE_DD_CNT  4205 non-null   int64 \n",
      " 3   BTH_YYYY       4205 non-null   object\n",
      "dtypes: int64(3), object(1)\n",
      "memory usage: 131.5+ KB\n"
     ]
    }
   ],
   "source": [
    "df_I10_h.info()   # Dtype 확인"
   ]
  },
  {
   "cell_type": "code",
   "execution_count": 15,
   "id": "cf61c861-27d0-4bf6-8b1f-2819923310b9",
   "metadata": {
    "tags": []
   },
   "outputs": [],
   "source": [
    "df_I10_h = df_I10_h[~df_I10_h[\"BTH_YYYY\"].str.contains(\"1921LE\", case=False)] #LE 있는 데이터 삭제"
   ]
  },
  {
   "cell_type": "code",
   "execution_count": 21,
   "id": "e2ba98ae-dbfa-43e8-9909-5d673b2099b9",
   "metadata": {
    "tags": []
   },
   "outputs": [
    {
     "data": {
      "text/html": [
       "<div>\n",
       "<style scoped>\n",
       "    .dataframe tbody tr th:only-of-type {\n",
       "        vertical-align: middle;\n",
       "    }\n",
       "\n",
       "    .dataframe tbody tr th {\n",
       "        vertical-align: top;\n",
       "    }\n",
       "\n",
       "    .dataframe thead th {\n",
       "        text-align: right;\n",
       "    }\n",
       "</style>\n",
       "<table border=\"1\" class=\"dataframe\">\n",
       "  <thead>\n",
       "    <tr style=\"text-align: right;\">\n",
       "      <th></th>\n",
       "      <th>EDC_SBA</th>\n",
       "      <th>OPRTN_YN</th>\n",
       "      <th>MDCARE_DD_CNT</th>\n",
       "      <th>BTH_YYYY</th>\n",
       "    </tr>\n",
       "  </thead>\n",
       "  <tbody>\n",
       "    <tr>\n",
       "      <th>11</th>\n",
       "      <td>8580</td>\n",
       "      <td>0</td>\n",
       "      <td>1</td>\n",
       "      <td>1926</td>\n",
       "    </tr>\n",
       "    <tr>\n",
       "      <th>12</th>\n",
       "      <td>2900</td>\n",
       "      <td>0</td>\n",
       "      <td>1</td>\n",
       "      <td>1926</td>\n",
       "    </tr>\n",
       "    <tr>\n",
       "      <th>13</th>\n",
       "      <td>2900</td>\n",
       "      <td>0</td>\n",
       "      <td>1</td>\n",
       "      <td>1926</td>\n",
       "    </tr>\n",
       "    <tr>\n",
       "      <th>14</th>\n",
       "      <td>2900</td>\n",
       "      <td>0</td>\n",
       "      <td>1</td>\n",
       "      <td>1926</td>\n",
       "    </tr>\n",
       "    <tr>\n",
       "      <th>15</th>\n",
       "      <td>3500</td>\n",
       "      <td>0</td>\n",
       "      <td>1</td>\n",
       "      <td>1926</td>\n",
       "    </tr>\n",
       "  </tbody>\n",
       "</table>\n",
       "</div>"
      ],
      "text/plain": [
       "    EDC_SBA OPRTN_YN  MDCARE_DD_CNT  BTH_YYYY\n",
       "11     8580        0              1      1926\n",
       "12     2900        0              1      1926\n",
       "13     2900        0              1      1926\n",
       "14     2900        0              1      1926\n",
       "15     3500        0              1      1926"
      ]
     },
     "execution_count": 21,
     "metadata": {},
     "output_type": "execute_result"
    }
   ],
   "source": [
    "df_I10_h[:5]  # 12LE 데이터 삭제됨 확인"
   ]
  },
  {
   "cell_type": "code",
   "execution_count": 23,
   "id": "743f5486-4f3f-41b4-a218-0adea70ac065",
   "metadata": {
    "tags": []
   },
   "outputs": [
    {
     "name": "stderr",
     "output_type": "stream",
     "text": [
      "C:\\Users\\04-04\\AppData\\Local\\Temp\\ipykernel_15084\\1182345637.py:1: SettingWithCopyWarning: \n",
      "A value is trying to be set on a copy of a slice from a DataFrame.\n",
      "Try using .loc[row_indexer,col_indexer] = value instead\n",
      "\n",
      "See the caveats in the documentation: https://pandas.pydata.org/pandas-docs/stable/user_guide/indexing.html#returning-a-view-versus-a-copy\n",
      "  df_I10_h[\"BTH_YYYY\"] = df_I10_h[\"BTH_YYYY\"].astype(int)\n"
     ]
    }
   ],
   "source": [
    "df_I10_h[\"BTH_YYYY\"] = df_I10_h[\"BTH_YYYY\"].astype(int)"
   ]
  },
  {
   "cell_type": "code",
   "execution_count": 25,
   "id": "6ffe6679-d27b-46c6-ae80-79d44ae39637",
   "metadata": {
    "tags": []
   },
   "outputs": [
    {
     "name": "stdout",
     "output_type": "stream",
     "text": [
      "<class 'pandas.core.frame.DataFrame'>\n",
      "Int64Index: 4194 entries, 11 to 4204\n",
      "Data columns (total 4 columns):\n",
      " #   Column         Non-Null Count  Dtype \n",
      "---  ------         --------------  ----- \n",
      " 0   EDC_SBA        4194 non-null   int64 \n",
      " 1   OPRTN_YN       4194 non-null   object\n",
      " 2   MDCARE_DD_CNT  4194 non-null   int64 \n",
      " 3   BTH_YYYY       4194 non-null   int32 \n",
      "dtypes: int32(1), int64(2), object(1)\n",
      "memory usage: 147.4+ KB\n"
     ]
    }
   ],
   "source": [
    "df_I10_h.info()  # Dtype 변경확인 : int형으로 변경 성공"
   ]
  },
  {
   "cell_type": "markdown",
   "id": "1edcddd5-734c-444d-8157-c927c566fe55",
   "metadata": {},
   "source": [
    "### 시각화 확인\n"
   ]
  },
  {
   "cell_type": "markdown",
   "id": "3393807c-62cd-4c74-9b8e-0fca915c6ac5",
   "metadata": {},
   "source": [
    "#### 변수간에 상관성 확인\n",
    "- 목표 변수는 정규화 여부 판단\n",
    "- 목표 변수와 각 설명 변수 간에 관계 확인"
   ]
  },
  {
   "cell_type": "code",
   "execution_count": 30,
   "id": "7f5bdbaf-837c-4181-8ba0-1ad8d5ec01c7",
   "metadata": {
    "tags": []
   },
   "outputs": [
    {
     "data": {
      "text/plain": [
       "['EDC_SBA', 'MDCARE_DD_CNT', 'BTH_YYYY']"
      ]
     },
     "execution_count": 30,
     "metadata": {},
     "output_type": "execute_result"
    }
   ],
   "source": [
    "df_I10_h.describe().columns.to_list() #연속형 분포도 확인"
   ]
  },
  {
   "cell_type": "markdown",
   "id": "f9ffa61a-b546-4ae6-80e4-74c473ddabe7",
   "metadata": {},
   "source": [
    "#### 연속형 분포도 확인"
   ]
  },
  {
   "cell_type": "code",
   "execution_count": 29,
   "id": "a6d8185f-90a4-4cbf-a6f1-437657236e92",
   "metadata": {
    "tags": []
   },
   "outputs": [
    {
     "data": {
      "image/png": "[encoded data removed]",
      "text/plain": [
       "<Figure size 640x480 with 1 Axes>"
      ]
     },
     "metadata": {},
     "output_type": "display_data"
    }
   ],
   "source": [
    "sns.histplot(data=df_I10_h, x='BTH_YYYY', kde=True)\n",
    "plt.title('출생년도')\n",
    "plt.show() "
   ]
  },
  {
   "cell_type": "code",
   "execution_count": 31,
   "id": "ec970434-b814-433b-a24f-be3d96254d80",
   "metadata": {
    "tags": []
   },
   "outputs": [
    {
     "data": {
      "image/png": "[encoded data removed]",
      "text/plain": [
       "<Figure size 640x480 with 1 Axes>"
      ]
     },
     "metadata": {},
     "output_type": "display_data"
    }
   ],
   "source": [
    "sns.histplot(data=df_I10_h, x='MDCARE_DD_CNT', kde=True)\n",
    "plt.title('입내원일수')\n",
    "plt.show() "
   ]
  },
  {
   "cell_type": "markdown",
   "id": "447dd79d-53d3-46dc-a256-c59b4042d641",
   "metadata": {
    "tags": []
   },
   "source": [
    "#### 범주형 분포도 확인"
   ]
  },
  {
   "cell_type": "code",
   "execution_count": 38,
   "id": "0475be10-95bb-4228-83c5-c650bb2177bc",
   "metadata": {
    "tags": []
   },
   "outputs": [
    {
     "data": {
      "image/png": "[encoded data removed]",
      "text/plain": [
       "<Figure size 640x480 with 1 Axes>"
      ]
     },
     "metadata": {},
     "output_type": "display_data"
    }
   ],
   "source": [
    "sns.countplot(data=df_I10_h, x='OPRTN_YN')\n",
    "plt.title('수술여부')\n",
    "plt.text(0, df_I10_h['OPRTN_YN'].value_counts().loc[0], '미수술', ha='center', va='bottom', fontsize=10)\n",
    "plt.text(1, df_I10_h['OPRTN_YN'].value_counts().loc[9], '수술', ha='center', va='bottom', fontsize=10)\n",
    "plt.show()"
   ]
  },
  {
   "cell_type": "code",
   "execution_count": null,
   "id": "9196339a-ce0d-4771-99d4-f93d0473fe9d",
   "metadata": {
    "tags": []
   },
   "outputs": [],
   "source": [
    "df_I10_h['OPRTN_YN'].value_counts()"
   ]
  },
  {
   "cell_type": "code",
   "execution_count": null,
   "id": "df14adf2-e7cf-4340-b4c0-cdab5a4ce564",
   "metadata": {},
   "outputs": [],
   "source": []
  }
 ],
 "metadata": {
  "kernelspec": {
   "display_name": "Python 3 (ipykernel)",
   "language": "python",
   "name": "python3"
  },
  "language_info": {
   "codemirror_mode": {
    "name": "ipython",
    "version": 3
   },
   "file_extension": ".py",
   "mimetype": "text/x-python",
   "name": "python",
   "nbconvert_exporter": "python",
   "pygments_lexer": "ipython3",
   "version": "3.11.3"
  }
 },
 "nbformat": 4,
 "nbformat_minor": 5
}
