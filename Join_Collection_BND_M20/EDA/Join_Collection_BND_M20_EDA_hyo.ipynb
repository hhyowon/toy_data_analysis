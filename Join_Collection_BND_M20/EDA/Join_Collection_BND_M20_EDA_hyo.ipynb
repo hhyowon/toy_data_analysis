{
 "cells": [
  {
   "cell_type": "code",
   "execution_count": 17,
   "id": "f6d62975-0db9-47d1-9dea-94fea75d1fd8",
   "metadata": {
    "tags": []
   },
   "outputs": [],
   "source": [
    "import matplotlib.pyplot as plt\n",
    "import matplotlib as mpl\n",
    "mpl.rc('font',family='Malgun Gothic')   #한글처리\n",
    "import seaborn as sns\n",
    "import pandas as pd"
   ]
  },
  {
   "cell_type": "code",
   "execution_count": 18,
   "id": "1a5c14b4-6229-4c75-a5fd-86ed941c53c2",
   "metadata": {
    "tags": []
   },
   "outputs": [
    {
     "data": {
      "text/plain": [
       "Index(['Unnamed: 0', 'EDC_SBA', 'OPRTN_YN', 'MDCARE_DD_CNT', 'BTH_YYYY',\n",
       "       'MCARE_RSLT_TYPE', 'VSHSP_DD_CNT', 'EDC_ADD_RT'],\n",
       "      dtype='object')"
      ]
     },
     "execution_count": 18,
     "metadata": {},
     "output_type": "execute_result"
    }
   ],
   "source": [
    "df_I10= pd.read_csv('../../datasets/Join_Collection_NSC2_BND_M20.csv')\n",
    "df_I10.columns"
   ]
  },
  {
   "cell_type": "markdown",
   "id": "086b9bd4-1223-43a2-adae-64c86d874110",
   "metadata": {},
   "source": [
    "### EDA 전략 : 상관관계 확인\n",
    "- 궁금한 점 : 고혈압환자들의 심결본인부담금에 영향을 끼치는 변수들이 무엇인지 \n",
    "- 목표 변수 : '심결본인부담금' -> 분포 : 언발란스\n",
    "    - 연속형일 경우 : 정규화 확인\n",
    "    - 범주형일 경우 : 밸런스 여부 확인\n",
    "- 설명 변수 설정 : \n",
    "    - 수술 여부 (OPRTN_YN)\n",
    "    - 입내원일수 (VSHSP_DD_CNT) \n",
    "    - 출생년도 (BTH_YYYY)"
   ]
  },
  {
   "cell_type": "code",
   "execution_count": 19,
   "id": "13550899-7415-4e66-a7c0-706b683234f3",
   "metadata": {
    "tags": []
   },
   "outputs": [
    {
     "data": {
      "text/html": [
       "<div>\n",
       "<style scoped>\n",
       "    .dataframe tbody tr th:only-of-type {\n",
       "        vertical-align: middle;\n",
       "    }\n",
       "\n",
       "    .dataframe tbody tr th {\n",
       "        vertical-align: top;\n",
       "    }\n",
       "\n",
       "    .dataframe thead th {\n",
       "        text-align: right;\n",
       "    }\n",
       "</style>\n",
       "<table border=\"1\" class=\"dataframe\">\n",
       "  <thead>\n",
       "    <tr style=\"text-align: right;\">\n",
       "      <th></th>\n",
       "      <th>OPRTN_YN</th>\n",
       "      <th>VSHSP_DD_CNT</th>\n",
       "      <th>BTH_YYYY</th>\n",
       "    </tr>\n",
       "  </thead>\n",
       "  <tbody>\n",
       "    <tr>\n",
       "      <th>0</th>\n",
       "      <td>0</td>\n",
       "      <td>1</td>\n",
       "      <td>1921LE</td>\n",
       "    </tr>\n",
       "    <tr>\n",
       "      <th>1</th>\n",
       "      <td>0</td>\n",
       "      <td>2</td>\n",
       "      <td>1921LE</td>\n",
       "    </tr>\n",
       "    <tr>\n",
       "      <th>2</th>\n",
       "      <td>0</td>\n",
       "      <td>1</td>\n",
       "      <td>1921LE</td>\n",
       "    </tr>\n",
       "    <tr>\n",
       "      <th>3</th>\n",
       "      <td>0</td>\n",
       "      <td>1</td>\n",
       "      <td>1921LE</td>\n",
       "    </tr>\n",
       "    <tr>\n",
       "      <th>4</th>\n",
       "      <td>0</td>\n",
       "      <td>1</td>\n",
       "      <td>1921LE</td>\n",
       "    </tr>\n",
       "    <tr>\n",
       "      <th>...</th>\n",
       "      <td>...</td>\n",
       "      <td>...</td>\n",
       "      <td>...</td>\n",
       "    </tr>\n",
       "    <tr>\n",
       "      <th>4200</th>\n",
       "      <td>0</td>\n",
       "      <td>1</td>\n",
       "      <td>2005</td>\n",
       "    </tr>\n",
       "    <tr>\n",
       "      <th>4201</th>\n",
       "      <td>0</td>\n",
       "      <td>1</td>\n",
       "      <td>2005</td>\n",
       "    </tr>\n",
       "    <tr>\n",
       "      <th>4202</th>\n",
       "      <td>0</td>\n",
       "      <td>1</td>\n",
       "      <td>2005</td>\n",
       "    </tr>\n",
       "    <tr>\n",
       "      <th>4203</th>\n",
       "      <td>0</td>\n",
       "      <td>1</td>\n",
       "      <td>2005</td>\n",
       "    </tr>\n",
       "    <tr>\n",
       "      <th>4204</th>\n",
       "      <td>0</td>\n",
       "      <td>1</td>\n",
       "      <td>2005</td>\n",
       "    </tr>\n",
       "  </tbody>\n",
       "</table>\n",
       "<p>4205 rows × 3 columns</p>\n",
       "</div>"
      ],
      "text/plain": [
       "      OPRTN_YN  VSHSP_DD_CNT BTH_YYYY\n",
       "0            0             1   1921LE\n",
       "1            0             2   1921LE\n",
       "2            0             1   1921LE\n",
       "3            0             1   1921LE\n",
       "4            0             1   1921LE\n",
       "...        ...           ...      ...\n",
       "4200         0             1     2005\n",
       "4201         0             1     2005\n",
       "4202         0             1     2005\n",
       "4203         0             1     2005\n",
       "4204         0             1     2005\n",
       "\n",
       "[4205 rows x 3 columns]"
      ]
     },
     "execution_count": 19,
     "metadata": {},
     "output_type": "execute_result"
    }
   ],
   "source": [
    "df_I10_h = df_I10[['OPRTN_YN','VSHSP_DD_CNT','BTH_YYYY']]\n",
    "df_I10_h"
   ]
  },
  {
   "cell_type": "code",
   "execution_count": 20,
   "id": "ad1c4fb7-2ace-4161-9365-05edd667617b",
   "metadata": {
    "tags": []
   },
   "outputs": [
    {
     "name": "stdout",
     "output_type": "stream",
     "text": [
      "<class 'pandas.core.frame.DataFrame'>\n",
      "RangeIndex: 4205 entries, 0 to 4204\n",
      "Data columns (total 3 columns):\n",
      " #   Column        Non-Null Count  Dtype \n",
      "---  ------        --------------  ----- \n",
      " 0   OPRTN_YN      4205 non-null   int64 \n",
      " 1   VSHSP_DD_CNT  4205 non-null   int64 \n",
      " 2   BTH_YYYY      4205 non-null   object\n",
      "dtypes: int64(2), object(1)\n",
      "memory usage: 98.7+ KB\n"
     ]
    }
   ],
   "source": [
    "df_I10_h.info()"
   ]
  },
  {
   "cell_type": "code",
   "execution_count": 21,
   "id": "4d6dad9e-90b6-47ad-833e-cdd3b3024384",
   "metadata": {
    "tags": []
   },
   "outputs": [
    {
     "data": {
      "text/plain": [
       "OPRTN_YN        0\n",
       "VSHSP_DD_CNT    0\n",
       "BTH_YYYY        0\n",
       "dtype: int64"
      ]
     },
     "execution_count": 21,
     "metadata": {},
     "output_type": "execute_result"
    }
   ],
   "source": [
    "df_I10_h.isnull().sum()   #데이터 전처리"
   ]
  },
  {
   "cell_type": "markdown",
   "id": "ce25ec25-cf4b-44b5-b621-5ef257ac9dfc",
   "metadata": {},
   "source": [
    "#### 범주형과 연속형(순서형)으로 dtype변형\n",
    "- BTH_YYYY(출생년도) object -> int형\n",
    "    - 1920LE를 int형으로 바꾸기 위해서는 LE를 제거하고 '1921'값을 이용해서 분석해야 하는데 그건 정확한 분석이라고 생각하지 않아우선, 1920LE사람들을 제외하고 분석함"
   ]
  },
  {
   "cell_type": "code",
   "execution_count": 22,
   "id": "2322254a-ca84-4d99-be53-5d9e4f96fbeb",
   "metadata": {
    "tags": []
   },
   "outputs": [
    {
     "name": "stdout",
     "output_type": "stream",
     "text": [
      "<class 'pandas.core.frame.DataFrame'>\n",
      "RangeIndex: 4205 entries, 0 to 4204\n",
      "Data columns (total 3 columns):\n",
      " #   Column        Non-Null Count  Dtype \n",
      "---  ------        --------------  ----- \n",
      " 0   OPRTN_YN      4205 non-null   int64 \n",
      " 1   VSHSP_DD_CNT  4205 non-null   int64 \n",
      " 2   BTH_YYYY      4205 non-null   object\n",
      "dtypes: int64(2), object(1)\n",
      "memory usage: 98.7+ KB\n"
     ]
    }
   ],
   "source": [
    "df_I10_h.info()   # Dtype 확인"
   ]
  },
  {
   "cell_type": "code",
   "execution_count": 23,
   "id": "cf61c861-27d0-4bf6-8b1f-2819923310b9",
   "metadata": {
    "tags": []
   },
   "outputs": [],
   "source": [
    "df_I10_h = df_I10_h[~df_I10_h[\"BTH_YYYY\"].str.contains(\"1921LE\", case=False)] #LE 있는 데이터 삭제"
   ]
  },
  {
   "cell_type": "code",
   "execution_count": 24,
   "id": "e2ba98ae-dbfa-43e8-9909-5d673b2099b9",
   "metadata": {
    "tags": []
   },
   "outputs": [
    {
     "data": {
      "text/html": [
       "<div>\n",
       "<style scoped>\n",
       "    .dataframe tbody tr th:only-of-type {\n",
       "        vertical-align: middle;\n",
       "    }\n",
       "\n",
       "    .dataframe tbody tr th {\n",
       "        vertical-align: top;\n",
       "    }\n",
       "\n",
       "    .dataframe thead th {\n",
       "        text-align: right;\n",
       "    }\n",
       "</style>\n",
       "<table border=\"1\" class=\"dataframe\">\n",
       "  <thead>\n",
       "    <tr style=\"text-align: right;\">\n",
       "      <th></th>\n",
       "      <th>OPRTN_YN</th>\n",
       "      <th>VSHSP_DD_CNT</th>\n",
       "      <th>BTH_YYYY</th>\n",
       "    </tr>\n",
       "  </thead>\n",
       "  <tbody>\n",
       "    <tr>\n",
       "      <th>11</th>\n",
       "      <td>0</td>\n",
       "      <td>1</td>\n",
       "      <td>1926</td>\n",
       "    </tr>\n",
       "    <tr>\n",
       "      <th>12</th>\n",
       "      <td>0</td>\n",
       "      <td>1</td>\n",
       "      <td>1926</td>\n",
       "    </tr>\n",
       "    <tr>\n",
       "      <th>13</th>\n",
       "      <td>0</td>\n",
       "      <td>1</td>\n",
       "      <td>1926</td>\n",
       "    </tr>\n",
       "    <tr>\n",
       "      <th>14</th>\n",
       "      <td>0</td>\n",
       "      <td>1</td>\n",
       "      <td>1926</td>\n",
       "    </tr>\n",
       "    <tr>\n",
       "      <th>15</th>\n",
       "      <td>0</td>\n",
       "      <td>1</td>\n",
       "      <td>1926</td>\n",
       "    </tr>\n",
       "  </tbody>\n",
       "</table>\n",
       "</div>"
      ],
      "text/plain": [
       "    OPRTN_YN  VSHSP_DD_CNT BTH_YYYY\n",
       "11         0             1     1926\n",
       "12         0             1     1926\n",
       "13         0             1     1926\n",
       "14         0             1     1926\n",
       "15         0             1     1926"
      ]
     },
     "execution_count": 24,
     "metadata": {},
     "output_type": "execute_result"
    }
   ],
   "source": [
    "df_I10_h[:5]  # 12LE 데이터 삭제됨 확인"
   ]
  },
  {
   "cell_type": "code",
   "execution_count": 25,
   "id": "743f5486-4f3f-41b4-a218-0adea70ac065",
   "metadata": {
    "tags": []
   },
   "outputs": [
    {
     "name": "stderr",
     "output_type": "stream",
     "text": [
      "C:\\Users\\82102\\AppData\\Local\\Temp\\ipykernel_11820\\1182345637.py:1: SettingWithCopyWarning: \n",
      "A value is trying to be set on a copy of a slice from a DataFrame.\n",
      "Try using .loc[row_indexer,col_indexer] = value instead\n",
      "\n",
      "See the caveats in the documentation: https://pandas.pydata.org/pandas-docs/stable/user_guide/indexing.html#returning-a-view-versus-a-copy\n",
      "  df_I10_h[\"BTH_YYYY\"] = df_I10_h[\"BTH_YYYY\"].astype(int)\n"
     ]
    }
   ],
   "source": [
    "df_I10_h[\"BTH_YYYY\"] = df_I10_h[\"BTH_YYYY\"].astype(int)"
   ]
  },
  {
   "cell_type": "code",
   "execution_count": 26,
   "id": "6ffe6679-d27b-46c6-ae80-79d44ae39637",
   "metadata": {
    "tags": []
   },
   "outputs": [
    {
     "name": "stdout",
     "output_type": "stream",
     "text": [
      "<class 'pandas.core.frame.DataFrame'>\n",
      "Int64Index: 4194 entries, 11 to 4204\n",
      "Data columns (total 3 columns):\n",
      " #   Column        Non-Null Count  Dtype\n",
      "---  ------        --------------  -----\n",
      " 0   OPRTN_YN      4194 non-null   int64\n",
      " 1   VSHSP_DD_CNT  4194 non-null   int64\n",
      " 2   BTH_YYYY      4194 non-null   int32\n",
      "dtypes: int32(1), int64(2)\n",
      "memory usage: 114.7 KB\n"
     ]
    }
   ],
   "source": [
    "df_I10_h.info()  # Dtype 변경확인 : int형으로 변경 성공"
   ]
  },
  {
   "cell_type": "code",
   "execution_count": 27,
   "id": "eabbbaa0-c763-4726-9bdb-6f29ae9bfc4c",
   "metadata": {
    "tags": []
   },
   "outputs": [
    {
     "data": {
      "text/html": [
       "<div>\n",
       "<style scoped>\n",
       "    .dataframe tbody tr th:only-of-type {\n",
       "        vertical-align: middle;\n",
       "    }\n",
       "\n",
       "    .dataframe tbody tr th {\n",
       "        vertical-align: top;\n",
       "    }\n",
       "\n",
       "    .dataframe thead th {\n",
       "        text-align: right;\n",
       "    }\n",
       "</style>\n",
       "<table border=\"1\" class=\"dataframe\">\n",
       "  <thead>\n",
       "    <tr style=\"text-align: right;\">\n",
       "      <th></th>\n",
       "      <th>OPRTN_YN</th>\n",
       "      <th>VSHSP_DD_CNT</th>\n",
       "      <th>BTH_YYYY</th>\n",
       "    </tr>\n",
       "  </thead>\n",
       "  <tbody>\n",
       "    <tr>\n",
       "      <th>OPRTN_YN</th>\n",
       "      <td>1.000000</td>\n",
       "      <td>0.030972</td>\n",
       "      <td>0.041659</td>\n",
       "    </tr>\n",
       "    <tr>\n",
       "      <th>VSHSP_DD_CNT</th>\n",
       "      <td>0.030972</td>\n",
       "      <td>1.000000</td>\n",
       "      <td>0.028705</td>\n",
       "    </tr>\n",
       "    <tr>\n",
       "      <th>BTH_YYYY</th>\n",
       "      <td>0.041659</td>\n",
       "      <td>0.028705</td>\n",
       "      <td>1.000000</td>\n",
       "    </tr>\n",
       "  </tbody>\n",
       "</table>\n",
       "</div>"
      ],
      "text/plain": [
       "              OPRTN_YN  VSHSP_DD_CNT  BTH_YYYY\n",
       "OPRTN_YN      1.000000      0.030972  0.041659\n",
       "VSHSP_DD_CNT  0.030972      1.000000  0.028705\n",
       "BTH_YYYY      0.041659      0.028705  1.000000"
      ]
     },
     "execution_count": 27,
     "metadata": {},
     "output_type": "execute_result"
    }
   ],
   "source": [
    "df_I10_h.corr() # 상관 계수 계산"
   ]
  },
  {
   "cell_type": "markdown",
   "id": "1edcddd5-734c-444d-8157-c927c566fe55",
   "metadata": {},
   "source": [
    "### 시각화 확인\n"
   ]
  },
  {
   "cell_type": "markdown",
   "id": "3393807c-62cd-4c74-9b8e-0fca915c6ac5",
   "metadata": {},
   "source": [
    "#### 변수간에 상관성 확인\n",
    "- 목표 변수는 정규화 여부 판단\n",
    "- 목표 변수와 각 설명 변수 간에 관계 확인"
   ]
  },
  {
   "cell_type": "code",
   "execution_count": 28,
   "id": "7f5bdbaf-837c-4181-8ba0-1ad8d5ec01c7",
   "metadata": {
    "tags": []
   },
   "outputs": [
    {
     "data": {
      "text/plain": [
       "['OPRTN_YN', 'VSHSP_DD_CNT', 'BTH_YYYY']"
      ]
     },
     "execution_count": 28,
     "metadata": {},
     "output_type": "execute_result"
    }
   ],
   "source": [
    "df_I10_h.describe().columns.to_list() #연속형 분포도 확인"
   ]
  },
  {
   "cell_type": "markdown",
   "id": "f9ffa61a-b546-4ae6-80e4-74c473ddabe7",
   "metadata": {},
   "source": [
    "#### 연속형 분포도 확인"
   ]
  },
  {
   "cell_type": "code",
   "execution_count": 35,
   "id": "ec970434-b814-433b-a24f-be3d96254d80",
   "metadata": {
    "tags": []
   },
   "outputs": [
    {
     "data": {
      "image/png": "[encoded data removed]",
      "text/plain": [
       "<Figure size 640x480 with 1 Axes>"
      ]
     },
     "metadata": {},
     "output_type": "display_data"
    },
    {
     "data": {
      "text/plain": [
       "<Figure size 640x480 with 0 Axes>"
      ]
     },
     "metadata": {},
     "output_type": "display_data"
    }
   ],
   "source": [
    "sns.histplot(df_I10_h['VSHSP_DD_CNT'], kde=True)\n",
    "plt.title('입내원일수')\n",
    "plt.show() \n",
    "plt.savefig('입내원일수')"
   ]
  },
  {
   "cell_type": "code",
   "execution_count": 36,
   "id": "a6d8185f-90a4-4cbf-a6f1-437657236e92",
   "metadata": {
    "tags": []
   },
   "outputs": [
    {
     "data": {
      "image/png": "[encoded data removed]",
      "text/plain": [
       "<Figure size 1200x600 with 1 Axes>"
      ]
     },
     "metadata": {},
     "output_type": "display_data"
    },
    {
     "data": {
      "text/plain": [
       "<Figure size 640x480 with 0 Axes>"
      ]
     },
     "metadata": {},
     "output_type": "display_data"
    }
   ],
   "source": [
    "# 데이터프레임을 'BTH_YYYY' (태어난 연도)로 그룹화하고 'VSHSP_DD_CNT'의 평균을 계산\n",
    "grouped_data = df_I10_h.groupby('BTH_YYYY')['VSHSP_DD_CNT'].mean().reset_index()\n",
    "\n",
    "# 그래프 크기 설정\n",
    "plt.figure(figsize=(12, 6))\n",
    "\n",
    "# Seaborn을 사용하여 막대 그래프 생성\n",
    "sns.barplot(data=grouped_data, x='BTH_YYYY', y='VSHSP_DD_CNT')\n",
    "\n",
    "# 그래프 제목 설정\n",
    "plt.title('태어난 연도별 평균 입내원일수')\n",
    "\n",
    "# x축 레이블 회전하여 가독성 향상\n",
    "plt.xticks(rotation=90)\n",
    "\n",
    "# x축과 y축 레이블 추가\n",
    "plt.xlabel('태어난 연도/BTH_YYYY')\n",
    "plt.ylabel('평균 입내원일수/VSHSP_DD_CNT')\n",
    "\n",
    "# 그래프 표시\n",
    "plt.show()\n",
    "plt.savefig(\"태어난 연도별 평균 입내원일수.png\")"
   ]
  },
  {
   "cell_type": "markdown",
   "id": "447dd79d-53d3-46dc-a256-c59b4042d641",
   "metadata": {
    "tags": []
   },
   "source": [
    "#### 범주형 분포도 확인"
   ]
  },
  {
   "cell_type": "code",
   "execution_count": 15,
   "id": "0475be10-95bb-4228-83c5-c650bb2177bc",
   "metadata": {
    "tags": []
   },
   "outputs": [
    {
     "data": {
      "image/png": "[encoded data removed]",
      "text/plain": [
       "<Figure size 640x480 with 1 Axes>"
      ]
     },
     "metadata": {},
     "output_type": "display_data"
    }
   ],
   "source": [
    "sns.countplot(data=df_I10_h, x='OPRTN_YN')\n",
    "plt.title('수술여부')\n",
    "plt.text(0, df_I10_h['OPRTN_YN'].value_counts().loc[0], '미수술', ha='center', va='bottom', fontsize=10)\n",
    "plt.text(1, df_I10_h['OPRTN_YN'].value_counts().loc[9], '수술', ha='center', va='bottom', fontsize=10)\n",
    "plt.show()"
   ]
  }
 ],
 "metadata": {
  "kernelspec": {
   "display_name": "Python 3 (ipykernel)",
   "language": "python",
   "name": "python3"
  },
  "language_info": {
   "codemirror_mode": {
    "name": "ipython",
    "version": 3
   },
   "file_extension": ".py",
   "mimetype": "text/x-python",
   "name": "python",
   "nbconvert_exporter": "python",
   "pygments_lexer": "ipython3",
   "version": "3.11.4"
  }
 },
 "nbformat": 4,
 "nbformat_minor": 5
}
