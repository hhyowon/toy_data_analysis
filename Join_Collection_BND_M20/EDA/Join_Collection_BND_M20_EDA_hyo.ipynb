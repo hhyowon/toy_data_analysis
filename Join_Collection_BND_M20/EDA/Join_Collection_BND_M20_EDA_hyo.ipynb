{
 "cells": [
  {
   "cell_type": "code",
   "execution_count": 1,
   "id": "f6d62975-0db9-47d1-9dea-94fea75d1fd8",
   "metadata": {
    "tags": []
   },
   "outputs": [],
   "source": [
    "import matplotlib.pyplot as plt\n",
    "import matplotlib as mpl\n",
    "mpl.rc('font',family='Malgun Gothic')   #한글처리\n",
    "import seaborn as sns\n",
    "import pandas as pd"
   ]
  },
  {
   "cell_type": "code",
   "execution_count": 3,
   "id": "1a5c14b4-6229-4c75-a5fd-86ed941c53c2",
   "metadata": {
    "tags": []
   },
   "outputs": [
    {
     "data": {
      "text/plain": [
       "Index(['Unnamed: 0', 'MDCARE_STRT_DT', 'BTH_YYYY', 'OFIJ_TYPE',\n",
       "       'MCARE_SUBJ_CD', 'OPRTN_YN', 'ED_RC_TOT_AMT'],\n",
       "      dtype='object')"
      ]
     },
     "execution_count": 3,
     "metadata": {},
     "output_type": "execute_result"
    }
   ],
   "source": [
    "df_I10= pd.read_csv('../../datasets/Join_Collection_NSC2_BND_M20.csv')\n",
    "df_I10.columns"
   ]
  },
  {
   "cell_type": "code",
   "execution_count": 4,
   "id": "13550899-7415-4e66-a7c0-706b683234f3",
   "metadata": {
    "tags": []
   },
   "outputs": [
    {
     "data": {
      "text/html": [
       "<div>\n",
       "<style scoped>\n",
       "    .dataframe tbody tr th:only-of-type {\n",
       "        vertical-align: middle;\n",
       "    }\n",
       "\n",
       "    .dataframe tbody tr th {\n",
       "        vertical-align: top;\n",
       "    }\n",
       "\n",
       "    .dataframe thead th {\n",
       "        text-align: right;\n",
       "    }\n",
       "</style>\n",
       "<table border=\"1\" class=\"dataframe\">\n",
       "  <thead>\n",
       "    <tr style=\"text-align: right;\">\n",
       "      <th></th>\n",
       "      <th>MDCARE_STRT_DT</th>\n",
       "      <th>BTH_YYYY</th>\n",
       "      <th>OPRTN_YN</th>\n",
       "      <th>OFIJ_TYPE</th>\n",
       "    </tr>\n",
       "  </thead>\n",
       "  <tbody>\n",
       "    <tr>\n",
       "      <th>0</th>\n",
       "      <td>20020710</td>\n",
       "      <td>1921LE</td>\n",
       "      <td>0</td>\n",
       "      <td>0</td>\n",
       "    </tr>\n",
       "    <tr>\n",
       "      <th>1</th>\n",
       "      <td>20020805</td>\n",
       "      <td>1921LE</td>\n",
       "      <td>0</td>\n",
       "      <td>0</td>\n",
       "    </tr>\n",
       "    <tr>\n",
       "      <th>2</th>\n",
       "      <td>20021017</td>\n",
       "      <td>1921LE</td>\n",
       "      <td>0</td>\n",
       "      <td>0</td>\n",
       "    </tr>\n",
       "    <tr>\n",
       "      <th>3</th>\n",
       "      <td>20071008</td>\n",
       "      <td>1921LE</td>\n",
       "      <td>0</td>\n",
       "      <td>0</td>\n",
       "    </tr>\n",
       "    <tr>\n",
       "      <th>4</th>\n",
       "      <td>20040312</td>\n",
       "      <td>1921LE</td>\n",
       "      <td>0</td>\n",
       "      <td>0</td>\n",
       "    </tr>\n",
       "    <tr>\n",
       "      <th>...</th>\n",
       "      <td>...</td>\n",
       "      <td>...</td>\n",
       "      <td>...</td>\n",
       "      <td>...</td>\n",
       "    </tr>\n",
       "    <tr>\n",
       "      <th>4624</th>\n",
       "      <td>20051220</td>\n",
       "      <td>2005</td>\n",
       "      <td>0</td>\n",
       "      <td>0</td>\n",
       "    </tr>\n",
       "    <tr>\n",
       "      <th>4625</th>\n",
       "      <td>20050614</td>\n",
       "      <td>2005</td>\n",
       "      <td>0</td>\n",
       "      <td>0</td>\n",
       "    </tr>\n",
       "    <tr>\n",
       "      <th>4626</th>\n",
       "      <td>20050716</td>\n",
       "      <td>2005</td>\n",
       "      <td>0</td>\n",
       "      <td>0</td>\n",
       "    </tr>\n",
       "    <tr>\n",
       "      <th>4627</th>\n",
       "      <td>20060123</td>\n",
       "      <td>2005</td>\n",
       "      <td>0</td>\n",
       "      <td>0</td>\n",
       "    </tr>\n",
       "    <tr>\n",
       "      <th>4628</th>\n",
       "      <td>20101125</td>\n",
       "      <td>2005</td>\n",
       "      <td>0</td>\n",
       "      <td>0</td>\n",
       "    </tr>\n",
       "  </tbody>\n",
       "</table>\n",
       "<p>4629 rows × 4 columns</p>\n",
       "</div>"
      ],
      "text/plain": [
       "      MDCARE_STRT_DT BTH_YYYY  OPRTN_YN OFIJ_TYPE\n",
       "0           20020710   1921LE         0         0\n",
       "1           20020805   1921LE         0         0\n",
       "2           20021017   1921LE         0         0\n",
       "3           20071008   1921LE         0         0\n",
       "4           20040312   1921LE         0         0\n",
       "...              ...      ...       ...       ...\n",
       "4624        20051220     2005         0         0\n",
       "4625        20050614     2005         0         0\n",
       "4626        20050716     2005         0         0\n",
       "4627        20060123     2005         0         0\n",
       "4628        20101125     2005         0         0\n",
       "\n",
       "[4629 rows x 4 columns]"
      ]
     },
     "execution_count": 4,
     "metadata": {},
     "output_type": "execute_result"
    }
   ],
   "source": [
    "df_I10_h = df_I10[['MDCARE_STRT_DT','BTH_YYYY','OPRTN_YN','OFIJ_TYPE']]\n",
    "df_I10_h  #분석할 컬럼들만 추출"
   ]
  },
  {
   "cell_type": "markdown",
   "id": "086b9bd4-1223-43a2-adae-64c86d874110",
   "metadata": {},
   "source": [
    "### 상관관계 확인\n",
    "- 궁금한 점 : 입원기간에 영향을 미치는 컬럼들\n",
    "- 목표 변수 : '입원기간' -> 분포 : 언발란스\n",
    "    - 연속형일 경우 : 정규화 확인\n",
    "    - 범주형일 경우 : 밸런스 여부 확인\n",
    "- 설명 변수 설정 : \n",
    "    - '과거수술횟수' : 과거 수술 횟수가 많을 수록 입원 기간이 길어짐\n",
    "    - '연령' : : 상대적으로 나이 많으면 발생률이 높은 것으로 보임.\n",
    "    - '환자통증정도' : 통증정도가 크면 입원기간이 길어짐\n",
    "    - '통증기간(월)' : 통증기간은 보통 2달이제일 많았으며 분포는 1-2사이가 가장 많았다. 입원기간과 관계가 적다.\n",
    "    - '수술시간' : 수술시간은 보통 62분에 중간값을 가지고 있었다.\n",
    "    - '디스크단면적' : 단면적 크기에 따라 입원기간에 영향을 줌"
   ]
  },
  {
   "cell_type": "markdown",
   "id": "f0c403a6-f63f-448c-995e-be92df5fef7a",
   "metadata": {},
   "source": [
    "### EDA 전략\n",
    "- 목표 변수와 각 설명 변수의 관계 확인\n",
    "- 해당 변수(목표와 설명) 선택"
   ]
  },
  {
   "cell_type": "code",
   "execution_count": null,
   "id": "56fd0d10-4c02-42c2-baf5-ef15361b9984",
   "metadata": {
    "tags": []
   },
   "outputs": [],
   "source": [
    "df_I10_h.corr()"
   ]
  },
  {
   "cell_type": "code",
   "execution_count": null,
   "id": "5d4b32a5-f519-42e1-9b28-014401ce2c5a",
   "metadata": {
    "tags": []
   },
   "outputs": [],
   "source": [
    "sns.histplot(data=df_I10_h , x='MDCARE_STRT_DT',kde=True)\n",
    "plt.show()"
   ]
  },
  {
   "cell_type": "code",
   "execution_count": null,
   "id": "ab002664-4d18-41bd-9665-6e0128027dbe",
   "metadata": {
    "tags": []
   },
   "outputs": [],
   "source": [
    "df_I10_h['MDCARE_STRT_DT'].value_counts()"
   ]
  },
  {
   "cell_type": "markdown",
   "id": "ce25ec25-cf4b-44b5-b621-5ef257ac9dfc",
   "metadata": {},
   "source": [
    "#### 범주형과 연속형(순서형)으로 dtype변형\n",
    "- BTH_YYYY(출생년도) object -> int형\n",
    "    - 1920LE를 int형으로 바꾸기 위해서는 LE를 제거하고 '1921'값을 이용해서 분석해야 하는데 그건 정확한 분석이라고 생각하지 않아우선, 1920LE사람들을 제외하고 분석함\n",
    "- OPRTN_YN(공상 등 구분) int형 -> object"
   ]
  },
  {
   "cell_type": "code",
   "execution_count": null,
   "id": "2322254a-ca84-4d99-be53-5d9e4f96fbeb",
   "metadata": {
    "tags": []
   },
   "outputs": [],
   "source": [
    "df_I10_h.info()   # Dtype 확인"
   ]
  },
  {
   "cell_type": "code",
   "execution_count": null,
   "id": "cf61c861-27d0-4bf6-8b1f-2819923310b9",
   "metadata": {
    "tags": []
   },
   "outputs": [],
   "source": [
    "df_I10_h = df_I10_h[~df_I10_h[\"BTH_YYYY\"].str.contains(\"1921LE\", case=False)] #LE 있는 데이터 삭제"
   ]
  },
  {
   "cell_type": "code",
   "execution_count": null,
   "id": "e2ba98ae-dbfa-43e8-9909-5d673b2099b9",
   "metadata": {
    "tags": []
   },
   "outputs": [],
   "source": [
    "df_I10_h"
   ]
  },
  {
   "cell_type": "code",
   "execution_count": null,
   "id": "743f5486-4f3f-41b4-a218-0adea70ac065",
   "metadata": {
    "tags": []
   },
   "outputs": [],
   "source": [
    "df_I10_h[\"BTH_YYYY\"] = df_I10_h[\"BTH_YYYY\"].astype(int)"
   ]
  },
  {
   "cell_type": "code",
   "execution_count": null,
   "id": "91d6e444-0b60-4cad-98b7-157aad9e6401",
   "metadata": {
    "tags": []
   },
   "outputs": [],
   "source": [
    "df_I10_h[\"OPRTN_YN\"] = df_I10_h[\"OPRTN_YN\"].astype(object)"
   ]
  },
  {
   "cell_type": "code",
   "execution_count": null,
   "id": "6ffe6679-d27b-46c6-ae80-79d44ae39637",
   "metadata": {
    "tags": []
   },
   "outputs": [],
   "source": [
    "df_I10_h.info()  # Dtype 변경확인"
   ]
  },
  {
   "cell_type": "markdown",
   "id": "1edcddd5-734c-444d-8157-c927c566fe55",
   "metadata": {},
   "source": [
    "### 시각화 확인\n"
   ]
  },
  {
   "cell_type": "markdown",
   "id": "3393807c-62cd-4c74-9b8e-0fca915c6ac5",
   "metadata": {},
   "source": [
    "#### 변수간에 상관성 확인\n",
    "- 목표 변수는 정규화 여부 판단\n",
    "- 목표 변수와 각 설명 변수 간에 관계 확인"
   ]
  },
  {
   "cell_type": "code",
   "execution_count": null,
   "id": "6d00762f-a58f-4c8f-957c-37745c0329e6",
   "metadata": {
    "tags": []
   },
   "outputs": [],
   "source": [
    "df_I10_h.describe()  #연속형 확인"
   ]
  },
  {
   "cell_type": "code",
   "execution_count": null,
   "id": "7f5bdbaf-837c-4181-8ba0-1ad8d5ec01c7",
   "metadata": {
    "tags": []
   },
   "outputs": [],
   "source": [
    "df_I10_h.describe().columns.to_list() #연속형 분포도 확인"
   ]
  },
  {
   "cell_type": "code",
   "execution_count": null,
   "id": "a6d8185f-90a4-4cbf-a6f1-437657236e92",
   "metadata": {
    "tags": []
   },
   "outputs": [],
   "source": [
    "sns.histplot(data=df_I10_h, x='BTH_YYYY', kde=True)\n",
    "plt.title('출생년도')\n",
    "plt.show() "
   ]
  },
  {
   "cell_type": "code",
   "execution_count": null,
   "id": "54977478-03e1-4209-9a6d-8670cf0bd2bb",
   "metadata": {
    "tags": []
   },
   "outputs": [],
   "source": [
    "df_I10_h.describe(include=object).columns.to_list()"
   ]
  },
  {
   "cell_type": "code",
   "execution_count": null,
   "id": "0475be10-95bb-4228-83c5-c650bb2177bc",
   "metadata": {
    "tags": []
   },
   "outputs": [],
   "source": [
    "sns.countplot(data=df_I10_h, x='OPRTN_YN')\n",
    "plt.title('수술여부')\n",
    "plt.text(0, df_I10_h['OPRTN_YN'].value_counts().loc[0], '미수술', ha='center', va='bottom', fontsize=10)\n",
    "plt.text(1, df_I10_h['OPRTN_YN'].value_counts().loc[9], '수술', ha='center', va='bottom', fontsize=10)\n",
    "plt.show()"
   ]
  },
  {
   "cell_type": "code",
   "execution_count": null,
   "id": "9196339a-ce0d-4771-99d4-f93d0473fe9d",
   "metadata": {
    "tags": []
   },
   "outputs": [],
   "source": [
    "df_I10_h['OPRTN_YN'].value_counts()"
   ]
  },
  {
   "cell_type": "code",
   "execution_count": null,
   "id": "5968721b-397a-4e9e-b9f3-f458c93ea16f",
   "metadata": {
    "tags": []
   },
   "outputs": [],
   "source": [
    "sns.countplot(data=df_I10_h, x='OFIJ_TYPE')\n",
    "plt.title('공상 등 구분')\n",
    "plt.show()"
   ]
  },
  {
   "cell_type": "code",
   "execution_count": null,
   "id": "a9839acb-0f24-4dfc-ab93-55c1323bfa8f",
   "metadata": {
    "tags": []
   },
   "outputs": [],
   "source": [
    "df_I10_h['OFIJ_TYPE'].value_counts()   # 0: 해당없음 B : 보훈병원의 국비일반(상이처, 무자격자) 또는 국비보험(급여) 1차"
   ]
  },
  {
   "cell_type": "markdown",
   "id": "f2c8c0a0-fa2c-405f-8ae0-4c7f8fa51685",
   "metadata": {
    "tags": []
   },
   "source": [
    "#### 연속형 / 범주형"
   ]
  },
  {
   "cell_type": "code",
   "execution_count": null,
   "id": "da375ce1-6bb8-429e-86b4-0f9dab79d102",
   "metadata": {
    "tags": []
   },
   "outputs": [],
   "source": [
    "sns.boxplot(data=df_I10_h, x='OPRTN_YN', y='MDCARE_STRT_DT')\n",
    "plt.title('수술여부와 요양개시일자의 관계')\n",
    "plt.show()"
   ]
  },
  {
   "cell_type": "code",
   "execution_count": null,
   "id": "cf6c6f1f-6bb6-48da-945e-b2ada64da020",
   "metadata": {
    "tags": []
   },
   "outputs": [],
   "source": [
    "sns.boxplot(data=df_I10_h, x='OFIJ_TYPE', y='MDCARE_STRT_DT')\n",
    "plt.title('공상 등과 요양개시일자의 관계')\n",
    "plt.show()"
   ]
  },
  {
   "cell_type": "markdown",
   "id": "24fc2b1c-cc3a-4720-98e9-43d0ff66a802",
   "metadata": {
    "tags": []
   },
   "source": [
    "#### 연속형 / 연속형"
   ]
  },
  {
   "cell_type": "code",
   "execution_count": null,
   "id": "4c43d503-f576-44fd-b3e7-c29db3b8ed66",
   "metadata": {
    "tags": []
   },
   "outputs": [],
   "source": [
    "sns.scatterplot(data=df_I10_h, x='BTH_YYYY', y='MDCARE_STRT_DT')\n",
    "plt.xlabel('BTH_YYYY')\n",
    "plt.ylabel('MDCARE_STRT_DT')\n",
    "plt.title('출생년도와 요양개시일자의 관계')\n",
    "plt.show()"
   ]
  },
  {
   "cell_type": "code",
   "execution_count": null,
   "id": "df14adf2-e7cf-4340-b4c0-cdab5a4ce564",
   "metadata": {},
   "outputs": [],
   "source": []
  }
 ],
 "metadata": {
  "kernelspec": {
   "display_name": "Python 3 (ipykernel)",
   "language": "python",
   "name": "python3"
  },
  "language_info": {
   "codemirror_mode": {
    "name": "ipython",
    "version": 3
   },
   "file_extension": ".py",
   "mimetype": "text/x-python",
   "name": "python",
   "nbconvert_exporter": "python",
   "pygments_lexer": "ipython3",
   "version": "3.11.3"
  }
 },
 "nbformat": 4,
 "nbformat_minor": 5
}
