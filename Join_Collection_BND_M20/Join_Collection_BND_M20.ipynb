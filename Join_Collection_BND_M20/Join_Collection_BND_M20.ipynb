{
 "cells": [
  {
   "cell_type": "code",
   "execution_count": 1,
   "id": "ed81bd43-12e6-4f0e-aa75-84ec19654fc1",
   "metadata": {
    "tags": []
   },
   "outputs": [],
   "source": [
    "import pymongo as mg\n",
    "import pandas as pd "
   ]
  },
  {
   "cell_type": "code",
   "execution_count": 2,
   "id": "6f4bb514-1bb5-4b91-9d05-ea799d9cef6f",
   "metadata": {
    "tags": []
   },
   "outputs": [],
   "source": [
    "client = mg.MongoClient(host='mongodb://localhost:27017')"
   ]
  },
  {
   "cell_type": "code",
   "execution_count": 3,
   "id": "906c9b93-e910-4acb-89c0-8d78ac0cb262",
   "metadata": {
    "tags": []
   },
   "outputs": [],
   "source": [
    "database = client['db_NHIS'] #Database 선택"
   ]
  },
  {
   "cell_type": "code",
   "execution_count": 4,
   "id": "4534caca-57a8-42a8-bc89-88fcd97734f9",
   "metadata": {
    "tags": []
   },
   "outputs": [],
   "source": [
    "collection = database['Join Collection NSC2_BND_M20'] # collection 선택"
   ]
  },
  {
   "cell_type": "code",
   "execution_count": 5,
   "id": "ab8a38aa-c1da-4071-8ce8-bea50981d39a",
   "metadata": {
    "tags": []
   },
   "outputs": [],
   "source": [
    "cursor = collection.find({\"SICK_SYM1\":\"I10\"})"
   ]
  },
  {
   "cell_type": "code",
   "execution_count": 6,
   "id": "6155bd42-6eae-4a29-a2f9-9907116a3277",
   "metadata": {
    "tags": []
   },
   "outputs": [],
   "source": [
    "list_I10 = list(cursor) # casting"
   ]
  },
  {
   "cell_type": "code",
   "execution_count": 7,
   "id": "76fb63cc-332a-4a96-9b71-35b81d28e7c0",
   "metadata": {
    "tags": []
   },
   "outputs": [],
   "source": [
    "df_I10 = pd.DataFrame(list_I10)"
   ]
  },
  {
   "cell_type": "code",
   "execution_count": 13,
   "id": "4af8c724-0f47-4c15-ac72-e2a6da87b4bd",
   "metadata": {
    "tags": []
   },
   "outputs": [
    {
     "data": {
      "text/html": [
       "<div>\n",
       "<style scoped>\n",
       "    .dataframe tbody tr th:only-of-type {\n",
       "        vertical-align: middle;\n",
       "    }\n",
       "\n",
       "    .dataframe tbody tr th {\n",
       "        vertical-align: top;\n",
       "    }\n",
       "\n",
       "    .dataframe thead th {\n",
       "        text-align: right;\n",
       "    }\n",
       "</style>\n",
       "<table border=\"1\" class=\"dataframe\">\n",
       "  <thead>\n",
       "    <tr style=\"text-align: right;\">\n",
       "      <th></th>\n",
       "      <th>MDCARE_STRT_DT</th>\n",
       "      <th>BTH_YYYY</th>\n",
       "      <th>OFIJ_TYPE</th>\n",
       "      <th>MCARE_SUBJ_CD</th>\n",
       "      <th>OPRTN_YN</th>\n",
       "      <th>ED_RC_TOT_AMT</th>\n",
       "    </tr>\n",
       "  </thead>\n",
       "  <tbody>\n",
       "    <tr>\n",
       "      <th>0</th>\n",
       "      <td>20020710</td>\n",
       "      <td>1921LE</td>\n",
       "      <td>0</td>\n",
       "      <td>1</td>\n",
       "      <td>0</td>\n",
       "      <td>7570</td>\n",
       "    </tr>\n",
       "    <tr>\n",
       "      <th>1</th>\n",
       "      <td>20020805</td>\n",
       "      <td>1921LE</td>\n",
       "      <td>0</td>\n",
       "      <td>1</td>\n",
       "      <td>0</td>\n",
       "      <td>18160</td>\n",
       "    </tr>\n",
       "    <tr>\n",
       "      <th>2</th>\n",
       "      <td>20021017</td>\n",
       "      <td>1921LE</td>\n",
       "      <td>0</td>\n",
       "      <td>1</td>\n",
       "      <td>0</td>\n",
       "      <td>7570</td>\n",
       "    </tr>\n",
       "    <tr>\n",
       "      <th>3</th>\n",
       "      <td>20071008</td>\n",
       "      <td>1921LE</td>\n",
       "      <td>0</td>\n",
       "      <td>23</td>\n",
       "      <td>0</td>\n",
       "      <td>14200</td>\n",
       "    </tr>\n",
       "    <tr>\n",
       "      <th>4</th>\n",
       "      <td>20040312</td>\n",
       "      <td>1921LE</td>\n",
       "      <td>0</td>\n",
       "      <td>1</td>\n",
       "      <td>0</td>\n",
       "      <td>7310</td>\n",
       "    </tr>\n",
       "    <tr>\n",
       "      <th>...</th>\n",
       "      <td>...</td>\n",
       "      <td>...</td>\n",
       "      <td>...</td>\n",
       "      <td>...</td>\n",
       "      <td>...</td>\n",
       "      <td>...</td>\n",
       "    </tr>\n",
       "    <tr>\n",
       "      <th>4624</th>\n",
       "      <td>20051220</td>\n",
       "      <td>2005</td>\n",
       "      <td>0</td>\n",
       "      <td>1</td>\n",
       "      <td>0</td>\n",
       "      <td>9050</td>\n",
       "    </tr>\n",
       "    <tr>\n",
       "      <th>4625</th>\n",
       "      <td>20050614</td>\n",
       "      <td>2005</td>\n",
       "      <td>0</td>\n",
       "      <td>1</td>\n",
       "      <td>0</td>\n",
       "      <td>9050</td>\n",
       "    </tr>\n",
       "    <tr>\n",
       "      <th>4626</th>\n",
       "      <td>20050716</td>\n",
       "      <td>2005</td>\n",
       "      <td>0</td>\n",
       "      <td>1</td>\n",
       "      <td>0</td>\n",
       "      <td>9050</td>\n",
       "    </tr>\n",
       "    <tr>\n",
       "      <th>4627</th>\n",
       "      <td>20060123</td>\n",
       "      <td>2005</td>\n",
       "      <td>0</td>\n",
       "      <td>1</td>\n",
       "      <td>0</td>\n",
       "      <td>9380</td>\n",
       "    </tr>\n",
       "    <tr>\n",
       "      <th>4628</th>\n",
       "      <td>20101125</td>\n",
       "      <td>2005</td>\n",
       "      <td>0</td>\n",
       "      <td>1</td>\n",
       "      <td>0</td>\n",
       "      <td>12280</td>\n",
       "    </tr>\n",
       "  </tbody>\n",
       "</table>\n",
       "<p>4629 rows × 6 columns</p>\n",
       "</div>"
      ],
      "text/plain": [
       "      MDCARE_STRT_DT BTH_YYYY OFIJ_TYPE  MCARE_SUBJ_CD  OPRTN_YN  \\\n",
       "0           20020710   1921LE         0              1         0   \n",
       "1           20020805   1921LE         0              1         0   \n",
       "2           20021017   1921LE         0              1         0   \n",
       "3           20071008   1921LE         0             23         0   \n",
       "4           20040312   1921LE         0              1         0   \n",
       "...              ...      ...       ...            ...       ...   \n",
       "4624        20051220     2005         0              1         0   \n",
       "4625        20050614     2005         0              1         0   \n",
       "4626        20050716     2005         0              1         0   \n",
       "4627        20060123     2005         0              1         0   \n",
       "4628        20101125     2005         0              1         0   \n",
       "\n",
       "      ED_RC_TOT_AMT  \n",
       "0              7570  \n",
       "1             18160  \n",
       "2              7570  \n",
       "3             14200  \n",
       "4              7310  \n",
       "...             ...  \n",
       "4624           9050  \n",
       "4625           9050  \n",
       "4626           9050  \n",
       "4627           9380  \n",
       "4628          12280  \n",
       "\n",
       "[4629 rows x 6 columns]"
      ]
     },
     "execution_count": 13,
     "metadata": {},
     "output_type": "execute_result"
    }
   ],
   "source": [
    "df_I10"
   ]
  },
  {
   "cell_type": "markdown",
   "id": "aeb6c493-006a-4815-86f6-fcb15ddc4a0a",
   "metadata": {},
   "source": [
    "### 필요한 컬럼 내역\n",
    "목표변수 :  MDCARE_STRT_DT(요양개시일자)\n",
    "\n",
    "설명변수\n",
    "- MCARE_SUBJ_CD(진료과목코드)\n",
    "- OFIJ_TYPE(공상 등 구분)\n",
    "- OPRTN_YN(수술여부)\n",
    "- ED_RC_TOT_AMT(심결요양급여비용총액)\n",
    "- BTH_YYYY(출생년도)"
   ]
  },
  {
   "cell_type": "code",
   "execution_count": null,
   "id": "44906025-2796-40e3-a616-db91671ada19",
   "metadata": {
    "tags": []
   },
   "outputs": [],
   "source": [
    "df_I10 = df_I10[['MDCARE_STRT_DT','BTH_YYYY','OFIJ_TYPE','MCARE_SUBJ_CD','OPRTN_YN','ED_RC_TOT_AMT']]\n",
    "df_I10"
   ]
  },
  {
   "cell_type": "code",
   "execution_count": 11,
   "id": "6caadb48-a8e0-4fe2-a193-2e2aeea6f8b8",
   "metadata": {
    "tags": []
   },
   "outputs": [
    {
     "data": {
      "text/plain": [
       "MDCARE_STRT_DT      0\n",
       "BTH_YYYY            0\n",
       "OFIJ_TYPE         107\n",
       "MCARE_SUBJ_CD       0\n",
       "OPRTN_YN            0\n",
       "ED_RC_TOT_AMT       0\n",
       "dtype: int64"
      ]
     },
     "execution_count": 11,
     "metadata": {},
     "output_type": "execute_result"
    }
   ],
   "source": [
    "df_I10.isnull().sum()"
   ]
  },
  {
   "cell_type": "code",
   "execution_count": 12,
   "id": "814e9bba-b204-4594-8872-f174f950d7a6",
   "metadata": {
    "tags": []
   },
   "outputs": [
    {
     "data": {
      "text/html": [
       "<div>\n",
       "<style scoped>\n",
       "    .dataframe tbody tr th:only-of-type {\n",
       "        vertical-align: middle;\n",
       "    }\n",
       "\n",
       "    .dataframe tbody tr th {\n",
       "        vertical-align: top;\n",
       "    }\n",
       "\n",
       "    .dataframe thead th {\n",
       "        text-align: right;\n",
       "    }\n",
       "</style>\n",
       "<table border=\"1\" class=\"dataframe\">\n",
       "  <thead>\n",
       "    <tr style=\"text-align: right;\">\n",
       "      <th></th>\n",
       "      <th>MDCARE_STRT_DT</th>\n",
       "      <th>BTH_YYYY</th>\n",
       "      <th>OFIJ_TYPE</th>\n",
       "      <th>MCARE_SUBJ_CD</th>\n",
       "      <th>OPRTN_YN</th>\n",
       "      <th>ED_RC_TOT_AMT</th>\n",
       "    </tr>\n",
       "  </thead>\n",
       "  <tbody>\n",
       "    <tr>\n",
       "      <th>0</th>\n",
       "      <td>20020710</td>\n",
       "      <td>1921LE</td>\n",
       "      <td>0</td>\n",
       "      <td>1</td>\n",
       "      <td>0</td>\n",
       "      <td>7570</td>\n",
       "    </tr>\n",
       "    <tr>\n",
       "      <th>1</th>\n",
       "      <td>20020805</td>\n",
       "      <td>1921LE</td>\n",
       "      <td>0</td>\n",
       "      <td>1</td>\n",
       "      <td>0</td>\n",
       "      <td>18160</td>\n",
       "    </tr>\n",
       "    <tr>\n",
       "      <th>2</th>\n",
       "      <td>20021017</td>\n",
       "      <td>1921LE</td>\n",
       "      <td>0</td>\n",
       "      <td>1</td>\n",
       "      <td>0</td>\n",
       "      <td>7570</td>\n",
       "    </tr>\n",
       "    <tr>\n",
       "      <th>3</th>\n",
       "      <td>20071008</td>\n",
       "      <td>1921LE</td>\n",
       "      <td>0</td>\n",
       "      <td>23</td>\n",
       "      <td>0</td>\n",
       "      <td>14200</td>\n",
       "    </tr>\n",
       "    <tr>\n",
       "      <th>4</th>\n",
       "      <td>20040312</td>\n",
       "      <td>1921LE</td>\n",
       "      <td>0</td>\n",
       "      <td>1</td>\n",
       "      <td>0</td>\n",
       "      <td>7310</td>\n",
       "    </tr>\n",
       "    <tr>\n",
       "      <th>...</th>\n",
       "      <td>...</td>\n",
       "      <td>...</td>\n",
       "      <td>...</td>\n",
       "      <td>...</td>\n",
       "      <td>...</td>\n",
       "      <td>...</td>\n",
       "    </tr>\n",
       "    <tr>\n",
       "      <th>4624</th>\n",
       "      <td>20051220</td>\n",
       "      <td>2005</td>\n",
       "      <td>0</td>\n",
       "      <td>1</td>\n",
       "      <td>0</td>\n",
       "      <td>9050</td>\n",
       "    </tr>\n",
       "    <tr>\n",
       "      <th>4625</th>\n",
       "      <td>20050614</td>\n",
       "      <td>2005</td>\n",
       "      <td>0</td>\n",
       "      <td>1</td>\n",
       "      <td>0</td>\n",
       "      <td>9050</td>\n",
       "    </tr>\n",
       "    <tr>\n",
       "      <th>4626</th>\n",
       "      <td>20050716</td>\n",
       "      <td>2005</td>\n",
       "      <td>0</td>\n",
       "      <td>1</td>\n",
       "      <td>0</td>\n",
       "      <td>9050</td>\n",
       "    </tr>\n",
       "    <tr>\n",
       "      <th>4627</th>\n",
       "      <td>20060123</td>\n",
       "      <td>2005</td>\n",
       "      <td>0</td>\n",
       "      <td>1</td>\n",
       "      <td>0</td>\n",
       "      <td>9380</td>\n",
       "    </tr>\n",
       "    <tr>\n",
       "      <th>4628</th>\n",
       "      <td>20101125</td>\n",
       "      <td>2005</td>\n",
       "      <td>0</td>\n",
       "      <td>1</td>\n",
       "      <td>0</td>\n",
       "      <td>12280</td>\n",
       "    </tr>\n",
       "  </tbody>\n",
       "</table>\n",
       "<p>4522 rows × 6 columns</p>\n",
       "</div>"
      ],
      "text/plain": [
       "      MDCARE_STRT_DT BTH_YYYY OFIJ_TYPE  MCARE_SUBJ_CD  OPRTN_YN  \\\n",
       "0           20020710   1921LE         0              1         0   \n",
       "1           20020805   1921LE         0              1         0   \n",
       "2           20021017   1921LE         0              1         0   \n",
       "3           20071008   1921LE         0             23         0   \n",
       "4           20040312   1921LE         0              1         0   \n",
       "...              ...      ...       ...            ...       ...   \n",
       "4624        20051220     2005         0              1         0   \n",
       "4625        20050614     2005         0              1         0   \n",
       "4626        20050716     2005         0              1         0   \n",
       "4627        20060123     2005         0              1         0   \n",
       "4628        20101125     2005         0              1         0   \n",
       "\n",
       "      ED_RC_TOT_AMT  \n",
       "0              7570  \n",
       "1             18160  \n",
       "2              7570  \n",
       "3             14200  \n",
       "4              7310  \n",
       "...             ...  \n",
       "4624           9050  \n",
       "4625           9050  \n",
       "4626           9050  \n",
       "4627           9380  \n",
       "4628          12280  \n",
       "\n",
       "[4522 rows x 6 columns]"
      ]
     },
     "execution_count": 12,
     "metadata": {},
     "output_type": "execute_result"
    }
   ],
   "source": [
    "df_I10.dropna()"
   ]
  },
  {
   "cell_type": "code",
   "execution_count": 30,
   "id": "d88d01e0-3cd5-4294-a4f4-f9ebbf0022cc",
   "metadata": {
    "tags": []
   },
   "outputs": [],
   "source": [
    "df_I10.to_csv('Join_Collection_NSC2_BND_M20.csv')"
   ]
  },
  {
   "cell_type": "code",
   "execution_count": null,
   "id": "2f5a0eb6-7371-4f10-964f-169486a57033",
   "metadata": {},
   "outputs": [],
   "source": []
  }
 ],
 "metadata": {
  "kernelspec": {
   "display_name": "Python 3 (ipykernel)",
   "language": "python",
   "name": "python3"
  },
  "language_info": {
   "codemirror_mode": {
    "name": "ipython",
    "version": 3
   },
   "file_extension": ".py",
   "mimetype": "text/x-python",
   "name": "python",
   "nbconvert_exporter": "python",
   "pygments_lexer": "ipython3",
   "version": "3.11.3"
  }
 },
 "nbformat": 4,
 "nbformat_minor": 5
}
