{
 "cells": [
  {
   "cell_type": "code",
   "execution_count": 1,
   "id": "0ccf68f5-b64f-4538-ae50-8f507884b7e5",
   "metadata": {},
   "outputs": [],
   "source": [
    "import matplotlib.pyplot as plt\n",
    "import matplotlib as mpl\n",
    "mpl.rc('font',family='Malgun Gothic')   #한글처리\n",
    "import seaborn as sns\n",
    "import pandas as pd"
   ]
  },
  {
   "cell_type": "markdown",
   "id": "db326289-5334-41a1-8131-3fbf22c69923",
   "metadata": {},
   "source": [
    "#### DDA 선결"
   ]
  },
  {
   "cell_type": "code",
   "execution_count": 4,
   "id": "d7f4b523-3b3c-4408-bc1e-12b7452f1b03",
   "metadata": {
    "tags": []
   },
   "outputs": [
    {
     "data": {
      "text/plain": [
       "Index(['Unnamed: 0', '환자ID', '체중', '신장', '신부전여부', '헤모글로빈수치', '혈액형', '과거수술횟수',\n",
       "       '연령', '환자통증정도', '통증기간(월)', '수술시간', '디스크단면적', '척추이동척도', '척추전방위증',\n",
       "       '입원기간'],\n",
       "      dtype='object')"
      ]
     },
     "execution_count": 4,
     "metadata": {},
     "output_type": "execute_result"
    }
   ],
   "source": [
    "df_ROS_Q= pd.read_csv('../datasets/RecurrenceOfSurgery_exdata.csv')\n",
    "df_ROS_Q.columns"
   ]
  },
  {
   "cell_type": "code",
   "execution_count": 18,
   "id": "24830764-a661-43e9-8238-37869bf48cdf",
   "metadata": {
    "tags": []
   },
   "outputs": [
    {
     "data": {
      "text/html": [
       "<div>\n",
       "<style scoped>\n",
       "    .dataframe tbody tr th:only-of-type {\n",
       "        vertical-align: middle;\n",
       "    }\n",
       "\n",
       "    .dataframe tbody tr th {\n",
       "        vertical-align: top;\n",
       "    }\n",
       "\n",
       "    .dataframe thead th {\n",
       "        text-align: right;\n",
       "    }\n",
       "</style>\n",
       "<table border=\"1\" class=\"dataframe\">\n",
       "  <thead>\n",
       "    <tr style=\"text-align: right;\">\n",
       "      <th></th>\n",
       "      <th>환자ID</th>\n",
       "      <th>체중</th>\n",
       "      <th>신장</th>\n",
       "      <th>신부전여부</th>\n",
       "      <th>헤모글로빈수치</th>\n",
       "      <th>혈액형</th>\n",
       "      <th>연령</th>\n",
       "      <th>입원기간</th>\n",
       "    </tr>\n",
       "  </thead>\n",
       "  <tbody>\n",
       "    <tr>\n",
       "      <th>80</th>\n",
       "      <td>472PT</td>\n",
       "      <td>69.5</td>\n",
       "      <td>168</td>\n",
       "      <td>0</td>\n",
       "      <td>14.87</td>\n",
       "      <td>RH+A</td>\n",
       "      <td>42</td>\n",
       "      <td>1</td>\n",
       "    </tr>\n",
       "    <tr>\n",
       "      <th>127</th>\n",
       "      <td>589PT</td>\n",
       "      <td>74.0</td>\n",
       "      <td>174</td>\n",
       "      <td>0</td>\n",
       "      <td>15.95</td>\n",
       "      <td>RH+A</td>\n",
       "      <td>47</td>\n",
       "      <td>1</td>\n",
       "    </tr>\n",
       "    <tr>\n",
       "      <th>73</th>\n",
       "      <td>348PT</td>\n",
       "      <td>69.0</td>\n",
       "      <td>167</td>\n",
       "      <td>0</td>\n",
       "      <td>14.42</td>\n",
       "      <td>RH+O</td>\n",
       "      <td>37</td>\n",
       "      <td>1</td>\n",
       "    </tr>\n",
       "    <tr>\n",
       "      <th>72</th>\n",
       "      <td>344PT</td>\n",
       "      <td>60.6</td>\n",
       "      <td>164</td>\n",
       "      <td>0</td>\n",
       "      <td>14.49</td>\n",
       "      <td>RH+B</td>\n",
       "      <td>33</td>\n",
       "      <td>1</td>\n",
       "    </tr>\n",
       "    <tr>\n",
       "      <th>71</th>\n",
       "      <td>343PT</td>\n",
       "      <td>56.5</td>\n",
       "      <td>152</td>\n",
       "      <td>0</td>\n",
       "      <td>14.16</td>\n",
       "      <td>RH+O</td>\n",
       "      <td>31</td>\n",
       "      <td>1</td>\n",
       "    </tr>\n",
       "    <tr>\n",
       "      <th>...</th>\n",
       "      <td>...</td>\n",
       "      <td>...</td>\n",
       "      <td>...</td>\n",
       "      <td>...</td>\n",
       "      <td>...</td>\n",
       "      <td>...</td>\n",
       "      <td>...</td>\n",
       "      <td>...</td>\n",
       "    </tr>\n",
       "    <tr>\n",
       "      <th>78</th>\n",
       "      <td>356PT</td>\n",
       "      <td>71.9</td>\n",
       "      <td>171</td>\n",
       "      <td>0</td>\n",
       "      <td>16.91</td>\n",
       "      <td>RH+O</td>\n",
       "      <td>60</td>\n",
       "      <td>3</td>\n",
       "    </tr>\n",
       "    <tr>\n",
       "      <th>26</th>\n",
       "      <td>79PT</td>\n",
       "      <td>77.9</td>\n",
       "      <td>179</td>\n",
       "      <td>0</td>\n",
       "      <td>13.97</td>\n",
       "      <td>RH+O</td>\n",
       "      <td>64</td>\n",
       "      <td>3</td>\n",
       "    </tr>\n",
       "    <tr>\n",
       "      <th>154</th>\n",
       "      <td>975PT</td>\n",
       "      <td>56.0</td>\n",
       "      <td>143</td>\n",
       "      <td>0</td>\n",
       "      <td>13.10</td>\n",
       "      <td>RH+O</td>\n",
       "      <td>56</td>\n",
       "      <td>4</td>\n",
       "    </tr>\n",
       "    <tr>\n",
       "      <th>157</th>\n",
       "      <td>990PT</td>\n",
       "      <td>68.0</td>\n",
       "      <td>171</td>\n",
       "      <td>0</td>\n",
       "      <td>15.10</td>\n",
       "      <td>RH+AB</td>\n",
       "      <td>37</td>\n",
       "      <td>4</td>\n",
       "    </tr>\n",
       "    <tr>\n",
       "      <th>161</th>\n",
       "      <td>1217PT</td>\n",
       "      <td>74.0</td>\n",
       "      <td>175</td>\n",
       "      <td>0</td>\n",
       "      <td>15.90</td>\n",
       "      <td>RH+A</td>\n",
       "      <td>46</td>\n",
       "      <td>4</td>\n",
       "    </tr>\n",
       "  </tbody>\n",
       "</table>\n",
       "<p>162 rows × 8 columns</p>\n",
       "</div>"
      ],
      "text/plain": [
       "       환자ID    체중   신장  신부전여부  헤모글로빈수치    혈액형  연령  입원기간\n",
       "80    472PT  69.5  168      0    14.87   RH+A  42     1\n",
       "127   589PT  74.0  174      0    15.95   RH+A  47     1\n",
       "73    348PT  69.0  167      0    14.42   RH+O  37     1\n",
       "72    344PT  60.6  164      0    14.49   RH+B  33     1\n",
       "71    343PT  56.5  152      0    14.16   RH+O  31     1\n",
       "..      ...   ...  ...    ...      ...    ...  ..   ...\n",
       "78    356PT  71.9  171      0    16.91   RH+O  60     3\n",
       "26     79PT  77.9  179      0    13.97   RH+O  64     3\n",
       "154   975PT  56.0  143      0    13.10   RH+O  56     4\n",
       "157   990PT  68.0  171      0    15.10  RH+AB  37     4\n",
       "161  1217PT  74.0  175      0    15.90   RH+A  46     4\n",
       "\n",
       "[162 rows x 8 columns]"
      ]
     },
     "execution_count": 18,
     "metadata": {},
     "output_type": "execute_result"
    }
   ],
   "source": [
    "df_ROS_ex = df_ROS_Q[['환자ID','체중','신장','신부전여부','헤모글로빈수치','혈액형','연령','입원기간']]\n",
    "df_ROS_ex.sort_values(by=['입원기간'])  # 사용할 컬럼 추출"
   ]
  },
  {
   "cell_type": "code",
   "execution_count": 22,
   "id": "cf854661-8a6f-4b4d-8dd6-cdbd86078d51",
   "metadata": {
    "tags": []
   },
   "outputs": [
    {
     "data": {
      "text/plain": [
       "Index(['환자ID', '체중', '신장', '신부전여부', '헤모글로빈수치', '혈액형', '연령', '입원기간'], dtype='object')"
      ]
     },
     "execution_count": 22,
     "metadata": {},
     "output_type": "execute_result"
    }
   ],
   "source": [
    "df_ROS_ex.columns  #데이터 타입"
   ]
  },
  {
   "cell_type": "code",
   "execution_count": 26,
   "id": "85f95ae0-bcfd-4106-9198-6c9846e5b413",
   "metadata": {
    "tags": []
   },
   "outputs": [
    {
     "data": {
      "text/plain": [
       "RangeIndex(start=0, stop=162, step=1)"
      ]
     },
     "execution_count": 26,
     "metadata": {},
     "output_type": "execute_result"
    }
   ],
   "source": [
    "df_ROS_ex.index  #데이터 개수"
   ]
  },
  {
   "cell_type": "code",
   "execution_count": 25,
   "id": "d04eff20-00e0-415b-a182-1c069bf00358",
   "metadata": {
    "tags": []
   },
   "outputs": [
    {
     "data": {
      "text/plain": [
       "환자ID        object\n",
       "체중         float64\n",
       "신장           int64\n",
       "신부전여부        int64\n",
       "헤모글로빈수치    float64\n",
       "혈액형         object\n",
       "연령           int64\n",
       "입원기간         int64\n",
       "dtype: object"
      ]
     },
     "execution_count": 25,
     "metadata": {},
     "output_type": "execute_result"
    }
   ],
   "source": [
    "df_ROS_ex.dtypes"
   ]
  },
  {
   "cell_type": "code",
   "execution_count": 12,
   "id": "d97f4014-f468-4d22-9dfe-26e2de2cd028",
   "metadata": {
    "tags": []
   },
   "outputs": [
    {
     "data": {
      "text/html": [
       "<div>\n",
       "<style scoped>\n",
       "    .dataframe tbody tr th:only-of-type {\n",
       "        vertical-align: middle;\n",
       "    }\n",
       "\n",
       "    .dataframe tbody tr th {\n",
       "        vertical-align: top;\n",
       "    }\n",
       "\n",
       "    .dataframe thead th {\n",
       "        text-align: right;\n",
       "    }\n",
       "</style>\n",
       "<table border=\"1\" class=\"dataframe\">\n",
       "  <thead>\n",
       "    <tr style=\"text-align: right;\">\n",
       "      <th></th>\n",
       "      <th>체중</th>\n",
       "      <th>신장</th>\n",
       "      <th>신부전여부</th>\n",
       "      <th>헤모글로빈수치</th>\n",
       "      <th>연령</th>\n",
       "      <th>입원기간</th>\n",
       "    </tr>\n",
       "  </thead>\n",
       "  <tbody>\n",
       "    <tr>\n",
       "      <th>count</th>\n",
       "      <td>162.000000</td>\n",
       "      <td>162.000000</td>\n",
       "      <td>162.000000</td>\n",
       "      <td>162.000000</td>\n",
       "      <td>162.000000</td>\n",
       "      <td>162.000000</td>\n",
       "    </tr>\n",
       "    <tr>\n",
       "      <th>mean</th>\n",
       "      <td>67.495679</td>\n",
       "      <td>167.012346</td>\n",
       "      <td>0.012346</td>\n",
       "      <td>14.340370</td>\n",
       "      <td>40.444444</td>\n",
       "      <td>1.586420</td>\n",
       "    </tr>\n",
       "    <tr>\n",
       "      <th>std</th>\n",
       "      <td>9.007694</td>\n",
       "      <td>9.570911</td>\n",
       "      <td>0.110766</td>\n",
       "      <td>1.556056</td>\n",
       "      <td>12.083046</td>\n",
       "      <td>0.753007</td>\n",
       "    </tr>\n",
       "    <tr>\n",
       "      <th>min</th>\n",
       "      <td>43.000000</td>\n",
       "      <td>142.000000</td>\n",
       "      <td>0.000000</td>\n",
       "      <td>10.600000</td>\n",
       "      <td>16.000000</td>\n",
       "      <td>1.000000</td>\n",
       "    </tr>\n",
       "    <tr>\n",
       "      <th>25%</th>\n",
       "      <td>58.900000</td>\n",
       "      <td>159.000000</td>\n",
       "      <td>0.000000</td>\n",
       "      <td>13.350000</td>\n",
       "      <td>33.000000</td>\n",
       "      <td>1.000000</td>\n",
       "    </tr>\n",
       "    <tr>\n",
       "      <th>50%</th>\n",
       "      <td>68.800000</td>\n",
       "      <td>168.000000</td>\n",
       "      <td>0.000000</td>\n",
       "      <td>14.285000</td>\n",
       "      <td>39.000000</td>\n",
       "      <td>1.000000</td>\n",
       "    </tr>\n",
       "    <tr>\n",
       "      <th>75%</th>\n",
       "      <td>74.450000</td>\n",
       "      <td>174.000000</td>\n",
       "      <td>0.000000</td>\n",
       "      <td>15.467500</td>\n",
       "      <td>46.000000</td>\n",
       "      <td>2.000000</td>\n",
       "    </tr>\n",
       "    <tr>\n",
       "      <th>max</th>\n",
       "      <td>94.000000</td>\n",
       "      <td>185.000000</td>\n",
       "      <td>1.000000</td>\n",
       "      <td>19.280000</td>\n",
       "      <td>84.000000</td>\n",
       "      <td>4.000000</td>\n",
       "    </tr>\n",
       "  </tbody>\n",
       "</table>\n",
       "</div>"
      ],
      "text/plain": [
       "               체중          신장       신부전여부     헤모글로빈수치          연령        입원기간\n",
       "count  162.000000  162.000000  162.000000  162.000000  162.000000  162.000000\n",
       "mean    67.495679  167.012346    0.012346   14.340370   40.444444    1.586420\n",
       "std      9.007694    9.570911    0.110766    1.556056   12.083046    0.753007\n",
       "min     43.000000  142.000000    0.000000   10.600000   16.000000    1.000000\n",
       "25%     58.900000  159.000000    0.000000   13.350000   33.000000    1.000000\n",
       "50%     68.800000  168.000000    0.000000   14.285000   39.000000    1.000000\n",
       "75%     74.450000  174.000000    0.000000   15.467500   46.000000    2.000000\n",
       "max     94.000000  185.000000    1.000000   19.280000   84.000000    4.000000"
      ]
     },
     "execution_count": 12,
     "metadata": {},
     "output_type": "execute_result"
    }
   ],
   "source": [
    "df_ROS_ex.describe()"
   ]
  },
  {
   "cell_type": "markdown",
   "id": "8213d4a9-1104-4c52-9e62-342be681ab2a",
   "metadata": {},
   "source": [
    "### 환자 대상 분석 필요\n",
    " 1. 목표 변수 설정 : '입원여부'정의 \n",
    " 2. 설명 변수 설정 :'환자ID','체중','신장','신부전여부','헤모글로빈수치','혈액형','연령','입원기간' 정의\n"
   ]
  },
  {
   "cell_type": "code",
   "execution_count": 35,
   "id": "a029e0ff-a83e-4c9e-8342-2ae53972ec24",
   "metadata": {
    "tags": []
   },
   "outputs": [
    {
     "name": "stderr",
     "output_type": "stream",
     "text": [
      "C:\\Users\\04-04\\AppData\\Local\\Temp\\ipykernel_13848\\2064551240.py:1: SettingWithCopyWarning: \n",
      "A value is trying to be set on a copy of a slice from a DataFrame.\n",
      "Try using .loc[row_indexer,col_indexer] = value instead\n",
      "\n",
      "See the caveats in the documentation: https://pandas.pydata.org/pandas-docs/stable/user_guide/indexing.html#returning-a-view-versus-a-copy\n",
      "  df_ROS_ex[['환자ID','혈액형','신부전여부']] = df_ROS_ex[['환자ID','혈액형','신부전여부']].astype(str) #타입변경\n"
     ]
    }
   ],
   "source": [
    "df_ROS_ex[['환자ID','혈액형','신부전여부']] = df_ROS_ex[['환자ID','혈액형','신부전여부']].astype(str) #타입변경"
   ]
  },
  {
   "cell_type": "code",
   "execution_count": 34,
   "id": "9a26f25f-9b53-40b3-a171-413860b5eae3",
   "metadata": {
    "tags": []
   },
   "outputs": [
    {
     "data": {
      "text/plain": [
       "환자ID        object\n",
       "체중         float64\n",
       "신장           int64\n",
       "신부전여부       object\n",
       "헤모글로빈수치    float64\n",
       "혈액형         object\n",
       "연령           int64\n",
       "입원기간         int64\n",
       "dtype: object"
      ]
     },
     "execution_count": 34,
     "metadata": {},
     "output_type": "execute_result"
    }
   ],
   "source": [
    "df_ROS_ex.dtypes  #데이터타입 변경 확인"
   ]
  },
  {
   "cell_type": "code",
   "execution_count": null,
   "id": "c04771da-d3df-41dc-8c52-2846c81fab02",
   "metadata": {},
   "outputs": [],
   "source": []
  }
 ],
 "metadata": {
  "kernelspec": {
   "display_name": "Python 3 (ipykernel)",
   "language": "python",
   "name": "python3"
  },
  "language_info": {
   "codemirror_mode": {
    "name": "ipython",
    "version": 3
   },
   "file_extension": ".py",
   "mimetype": "text/x-python",
   "name": "python",
   "nbconvert_exporter": "python",
   "pygments_lexer": "ipython3",
   "version": "3.11.3"
  }
 },
 "nbformat": 4,
 "nbformat_minor": 5
}
